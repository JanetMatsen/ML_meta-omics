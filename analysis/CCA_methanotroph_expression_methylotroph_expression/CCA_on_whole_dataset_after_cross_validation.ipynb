{
 "cells": [
  {
   "cell_type": "markdown",
   "metadata": {},
   "source": [
    "## Cross-validation of sparse CCA\n",
    "\n",
    "Predict expression of methylotrophy genes from methanotrophy genes.  Previously pooled on species.\n",
    "\n",
    "First, run: ../notebooks/prepare_data/prepare_X_m_expression_Y_nmm_expression_Xval.ipynb\n",
    "\n",
    "That fills /Users/janet/ML_meta-omics/data/cross_val_data"
   ]
  },
  {
   "cell_type": "code",
   "execution_count": null,
   "metadata": {
    "collapsed": false
   },
   "outputs": [],
   "source": [
    "import sys\n",
    "assert sys.version_info.major == 2, \"python version is {}\".format(sys.version_info.major)\n",
    "print(sys.version)"
   ]
  },
  {
   "cell_type": "code",
   "execution_count": null,
   "metadata": {
    "collapsed": false
   },
   "outputs": [],
   "source": [
    "import itertools\n",
    "import matplotlib as mpl\n",
    "import matplotlib\n",
    "matplotlib.use('Agg')\n",
    "%matplotlib inline\n",
    "import matplotlib.pyplot as plt\n",
    "import numpy as np\n",
    "import os\n",
    "import pandas as pd\n",
    "import re\n",
    "import seaborn as sns\n",
    "import subprocess\n",
    "import sys"
   ]
  },
  {
   "cell_type": "code",
   "execution_count": null,
   "metadata": {
    "collapsed": false
   },
   "outputs": [],
   "source": [
    "sys.path.append('../../code/')\n",
    "\n",
    "from CCA import CcaAnalysis, ExpressionCCA\n",
    "from cross_validate import CrossValCCA"
   ]
  },
  {
   "cell_type": "code",
   "execution_count": null,
   "metadata": {
    "collapsed": false
   },
   "outputs": [],
   "source": [
    "raw_data_path = '../../data/cross_val_data/'\n",
    "os.listdir(raw_data_path)\n",
    "xval_filenames = [f for f in os.listdir(raw_data_path) if '.tsv' in f]  # get rid of non-TSV files"
   ]
  },
  {
   "cell_type": "code",
   "execution_count": null,
   "metadata": {
    "collapsed": true
   },
   "outputs": [],
   "source": [
    "# expression matrices\n",
    "m_filepath = '../../data/m_nmm_expression--sum_by_gene/methanotroph_expression_pooled_on_gene_name_filtered_ss.tsv'\n",
    "nmm_filepath = '../../data/m_nmm_expression--sum_by_gene/methylotroph_expression_pooled_on_gene_name_filtered_ss.tsv'\n",
    "\n",
    "# gene names\n",
    "m_gene_name_filepath = '../../data/m_nmm_expression--sum_by_gene/methanotroph_gene_names_filtered_ss.tsv'\n",
    "nmm_gene_name_filepath = '../../data/m_nmm_expression--sum_by_gene/methylotroph_gene_names_filtered_ss.tsv'"
   ]
  },
  {
   "cell_type": "code",
   "execution_count": null,
   "metadata": {
    "collapsed": false
   },
   "outputs": [],
   "source": [
    "cca = ExpressionCCA(\n",
    "    x_train_filepath=m_filepath, \n",
    "    z_train_filepath=nmm_filepath,\n",
    "    x_gene_filepath=m_gene_name_filepath,\n",
    "    z_gene_filepath=nmm_gene_name_filepath,\n",
    "    input_filepath=raw_data_path,\n",
    "    u_v_output_dir='./final_model_u_and_v_vectors',\n",
    "    penalty_x=0.15, penalty_z=0.15,\n",
    "    verbose = False,\n",
    "    path_to_R_script='../../code/sparse_CCA.R')"
   ]
  },
  {
   "cell_type": "code",
   "execution_count": null,
   "metadata": {
    "collapsed": false
   },
   "outputs": [],
   "source": [
    "cca.get_summary()"
   ]
  },
  {
   "cell_type": "code",
   "execution_count": null,
   "metadata": {
    "collapsed": false
   },
   "outputs": [],
   "source": [
    "cca.x_genes.head()"
   ]
  },
  {
   "cell_type": "code",
   "execution_count": null,
   "metadata": {
    "collapsed": true
   },
   "outputs": [],
   "source": [
    "cca.associate_weights_with_gene_names()"
   ]
  },
  {
   "cell_type": "code",
   "execution_count": null,
   "metadata": {
    "collapsed": false
   },
   "outputs": [],
   "source": [
    "cca.u_with_names.head(2)"
   ]
  },
  {
   "cell_type": "code",
   "execution_count": null,
   "metadata": {
    "collapsed": false
   },
   "outputs": [],
   "source": [
    "cca.u_with_names is None "
   ]
  },
  {
   "cell_type": "code",
   "execution_count": null,
   "metadata": {
    "collapsed": false
   },
   "outputs": [],
   "source": [
    "cca.v_with_names is None "
   ]
  },
  {
   "cell_type": "code",
   "execution_count": null,
   "metadata": {
    "collapsed": true
   },
   "outputs": [],
   "source": [
    "u = cca.sorted_weights(vector='u')"
   ]
  },
  {
   "cell_type": "code",
   "execution_count": null,
   "metadata": {
    "collapsed": false
   },
   "outputs": [],
   "source": [
    "u[u['abs(weight)'] > 0]['weight'].plot.hist()"
   ]
  },
  {
   "cell_type": "code",
   "execution_count": null,
   "metadata": {
    "collapsed": false
   },
   "outputs": [],
   "source": [
    "u.head(n=20)"
   ]
  },
  {
   "cell_type": "code",
   "execution_count": null,
   "metadata": {
    "collapsed": false
   },
   "outputs": [],
   "source": [
    "v = cca.sorted_weights(vector='v')\n",
    "v.head(n=20)"
   ]
  },
  {
   "cell_type": "code",
   "execution_count": null,
   "metadata": {
    "collapsed": false
   },
   "outputs": [],
   "source": [
    "v[v['abs(weight)'] > 0]['weight'].plot.hist()"
   ]
  },
  {
   "cell_type": "code",
   "execution_count": null,
   "metadata": {
    "collapsed": true
   },
   "outputs": [],
   "source": []
  }
 ],
 "metadata": {
  "anaconda-cloud": {},
  "kernelspec": {
   "display_name": "Python [conda env:mlproj]",
   "language": "python",
   "name": "conda-env-mlproj-py"
  },
  "language_info": {
   "codemirror_mode": {
    "name": "ipython",
    "version": 2
   },
   "file_extension": ".py",
   "mimetype": "text/x-python",
   "name": "python",
   "nbconvert_exporter": "python",
   "pygments_lexer": "ipython2",
   "version": "2.7.12"
  }
 },
 "nbformat": 4,
 "nbformat_minor": 1
}
