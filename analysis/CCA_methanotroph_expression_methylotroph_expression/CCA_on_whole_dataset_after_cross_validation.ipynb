{
 "cells": [
  {
   "cell_type": "markdown",
   "metadata": {},
   "source": [
    "## Cross-validation of sparse CCA\n",
    "\n",
    "Predict expression of methylotrophy genes from methanotrophy genes.  Previously pooled on species.\n",
    "\n",
    "First, run: ../notebooks/prepare_data/prepare_X_m_expression_Y_nmm_expression_Xval.ipynb\n",
    "\n",
    "That fills /Users/janet/ML_meta-omics/data/cross_val_data"
   ]
  },
  {
   "cell_type": "code",
   "execution_count": 1,
   "metadata": {
    "collapsed": false
   },
   "outputs": [
    {
     "name": "stdout",
     "output_type": "stream",
     "text": [
      "2.7.12 |Anaconda 4.2.0 (64-bit)| (default, Jun 29 2016, 11:07:13) [MSC v.1500 64 bit (AMD64)]\n"
     ]
    }
   ],
   "source": [
    "import sys\n",
    "assert sys.version_info.major == 2, \"python version is {}\".format(sys.version_info.major)\n",
    "print(sys.version)"
   ]
  },
  {
   "cell_type": "code",
   "execution_count": 2,
   "metadata": {
    "collapsed": false
   },
   "outputs": [],
   "source": [
    "import itertools\n",
    "import matplotlib as mpl\n",
    "import matplotlib\n",
    "matplotlib.use('Agg')\n",
    "%matplotlib inline\n",
    "import matplotlib.pyplot as plt\n",
    "import numpy as np\n",
    "import os\n",
    "import pandas as pd\n",
    "import re\n",
    "import seaborn as sns\n",
    "import subprocess\n",
    "import sys"
   ]
  },
  {
   "cell_type": "code",
   "execution_count": 3,
   "metadata": {
    "collapsed": false
   },
   "outputs": [],
   "source": [
    "sys.path.append('../../code/')\n",
    "\n",
    "from CCA import CcaAnalysis, ExpressionCCA\n",
    "from cross_validate import CrossValCCA"
   ]
  },
  {
   "cell_type": "code",
   "execution_count": 4,
   "metadata": {
    "collapsed": false
   },
   "outputs": [],
   "source": [
    "raw_data_path = '../../data/cross_val_data/'\n",
    "os.listdir(raw_data_path)\n",
    "xval_filenames = [f for f in os.listdir(raw_data_path) if '.tsv' in f]  # get rid of non-TSV files"
   ]
  },
  {
   "cell_type": "code",
   "execution_count": 5,
   "metadata": {
    "collapsed": true
   },
   "outputs": [],
   "source": [
    "# expression matrices\n",
    "m_filepath = '../../data/m_nmm_expression--sum_by_gene/methanotroph_expression_pooled_on_gene_name_filtered_ss.tsv'\n",
    "nmm_filepath = '../../data/m_nmm_expression--sum_by_gene/methylotroph_expression_pooled_on_gene_name_filtered_ss.tsv'\n",
    "\n",
    "# gene names\n",
    "m_gene_name_filepath = '../../data/m_nmm_expression--sum_by_gene/methanotroph_gene_names_filtered_ss.tsv'\n",
    "nmm_gene_name_filepath = '../../data/m_nmm_expression--sum_by_gene/methylotroph_gene_names_filtered_ss.tsv'"
   ]
  },
  {
   "cell_type": "raw",
   "metadata": {
    "collapsed": false
   },
   "source": [
    "cca = ExpressionCCA(\n",
    "    x_train_filepath=m_filepath, \n",
    "    z_train_filepath=nmm_filepath,\n",
    "    x_gene_filepath=m_gene_name_filepath,\n",
    "    z_gene_filepath=nmm_gene_name_filepath,\n",
    "    input_filepath=raw_data_path,\n",
    "    u_v_output_dir='./final_model_u_and_v_vectors',\n",
    "    penalty_x=0.15, penalty_z=0.15,\n",
    "    verbose = False,\n",
    "    path_to_R_script='../../code/sparse_CCA.R')"
   ]
  },
  {
   "cell_type": "code",
   "execution_count": 6,
   "metadata": {
    "collapsed": true
   },
   "outputs": [],
   "source": [
    "import pickle\n",
    "with open('final_model.pkl') as f:\n",
    "    cca = pickle.load(f)"
   ]
  },
  {
   "cell_type": "code",
   "execution_count": 7,
   "metadata": {
    "collapsed": false
   },
   "outputs": [
    {
     "data": {
      "text/plain": [
       "{'# nonzero u weights': 156,\n",
       " '# nonzero v weights': 317,\n",
       " 'train correlation': 0.98967977495048054}"
      ]
     },
     "execution_count": 7,
     "metadata": {},
     "output_type": "execute_result"
    }
   ],
   "source": [
    "cca.get_summary()"
   ]
  },
  {
   "cell_type": "code",
   "execution_count": 8,
   "metadata": {
    "collapsed": false
   },
   "outputs": [
    {
     "data": {
      "text/html": [
       "<div>\n",
       "<table border=\"1\" class=\"dataframe\">\n",
       "  <thead>\n",
       "    <tr style=\"text-align: right;\">\n",
       "      <th></th>\n",
       "      <th>gene</th>\n",
       "    </tr>\n",
       "  </thead>\n",
       "  <tbody>\n",
       "    <tr>\n",
       "      <th>0</th>\n",
       "      <td>(1-&gt;4)-alpha-D-glucan 1-alpha-D-glucosylmutase</td>\n",
       "    </tr>\n",
       "    <tr>\n",
       "      <th>1</th>\n",
       "      <td>(2Fe-2S) ferredoxin</td>\n",
       "    </tr>\n",
       "    <tr>\n",
       "      <th>2</th>\n",
       "      <td>(2R)-ethylmalonyl-CoA mutase</td>\n",
       "    </tr>\n",
       "    <tr>\n",
       "      <th>3</th>\n",
       "      <td>(2S)-methylsuccinyl-CoA dehydrogenase</td>\n",
       "    </tr>\n",
       "    <tr>\n",
       "      <th>4</th>\n",
       "      <td>1,2-dihydroxy-3-keto-5-methylthiopentene  diox...</td>\n",
       "    </tr>\n",
       "  </tbody>\n",
       "</table>\n",
       "</div>"
      ],
      "text/plain": [
       "                                                gene\n",
       "0     (1->4)-alpha-D-glucan 1-alpha-D-glucosylmutase\n",
       "1                                (2Fe-2S) ferredoxin\n",
       "2                       (2R)-ethylmalonyl-CoA mutase\n",
       "3              (2S)-methylsuccinyl-CoA dehydrogenase\n",
       "4  1,2-dihydroxy-3-keto-5-methylthiopentene  diox..."
      ]
     },
     "execution_count": 8,
     "metadata": {},
     "output_type": "execute_result"
    }
   ],
   "source": [
    "cca.x_genes.head()"
   ]
  },
  {
   "cell_type": "code",
   "execution_count": 9,
   "metadata": {
    "collapsed": true
   },
   "outputs": [],
   "source": [
    "cca.associate_weights_with_gene_names()"
   ]
  },
  {
   "cell_type": "code",
   "execution_count": 10,
   "metadata": {
    "collapsed": false
   },
   "outputs": [
    {
     "data": {
      "text/html": [
       "<div>\n",
       "<table border=\"1\" class=\"dataframe\">\n",
       "  <thead>\n",
       "    <tr style=\"text-align: right;\">\n",
       "      <th></th>\n",
       "      <th>gene</th>\n",
       "      <th>abs(weight)</th>\n",
       "      <th>weight</th>\n",
       "    </tr>\n",
       "  </thead>\n",
       "  <tbody>\n",
       "    <tr>\n",
       "      <th>0</th>\n",
       "      <td>(1-&gt;4)-alpha-D-glucan 1-alpha-D-glucosylmutase</td>\n",
       "      <td>0.0</td>\n",
       "      <td>0.0</td>\n",
       "    </tr>\n",
       "    <tr>\n",
       "      <th>1</th>\n",
       "      <td>(2Fe-2S) ferredoxin</td>\n",
       "      <td>0.0</td>\n",
       "      <td>0.0</td>\n",
       "    </tr>\n",
       "  </tbody>\n",
       "</table>\n",
       "</div>"
      ],
      "text/plain": [
       "                                             gene  abs(weight)  weight\n",
       "0  (1->4)-alpha-D-glucan 1-alpha-D-glucosylmutase          0.0     0.0\n",
       "1                             (2Fe-2S) ferredoxin          0.0     0.0"
      ]
     },
     "execution_count": 10,
     "metadata": {},
     "output_type": "execute_result"
    }
   ],
   "source": [
    "cca.u_with_names.head(2)"
   ]
  },
  {
   "cell_type": "code",
   "execution_count": 11,
   "metadata": {
    "collapsed": false
   },
   "outputs": [
    {
     "data": {
      "text/plain": [
       "False"
      ]
     },
     "execution_count": 11,
     "metadata": {},
     "output_type": "execute_result"
    }
   ],
   "source": [
    "cca.u_with_names is None "
   ]
  },
  {
   "cell_type": "code",
   "execution_count": 12,
   "metadata": {
    "collapsed": false
   },
   "outputs": [
    {
     "data": {
      "text/plain": [
       "False"
      ]
     },
     "execution_count": 12,
     "metadata": {},
     "output_type": "execute_result"
    }
   ],
   "source": [
    "cca.v_with_names is None "
   ]
  },
  {
   "cell_type": "code",
   "execution_count": 13,
   "metadata": {
    "collapsed": true
   },
   "outputs": [],
   "source": [
    "u = cca.sorted_weights(vector='u')"
   ]
  },
  {
   "cell_type": "code",
   "execution_count": 14,
   "metadata": {
    "collapsed": false
   },
   "outputs": [
    {
     "data": {
      "text/plain": [
       "<matplotlib.axes._subplots.AxesSubplot at 0xaba13c8>"
      ]
     },
     "execution_count": 14,
     "metadata": {},
     "output_type": "execute_result"
    },
    {
     "data": {
      "image/png": "[encoded data removed]",
      "text/plain": [
       "<matplotlib.figure.Figure at 0xc238b70>"
      ]
     },
     "metadata": {},
     "output_type": "display_data"
    }
   ],
   "source": [
    "u[u['abs(weight)'] > 0]['weight'].plot.hist()"
   ]
  },
  {
   "cell_type": "code",
   "execution_count": 15,
   "metadata": {
    "collapsed": false
   },
   "outputs": [
    {
     "data": {
      "text/html": [
       "<div>\n",
       "<table border=\"1\" class=\"dataframe\">\n",
       "  <thead>\n",
       "    <tr style=\"text-align: right;\">\n",
       "      <th></th>\n",
       "      <th>gene</th>\n",
       "      <th>abs(weight)</th>\n",
       "      <th>weight</th>\n",
       "    </tr>\n",
       "  </thead>\n",
       "  <tbody>\n",
       "    <tr>\n",
       "      <th>1776</th>\n",
       "      <td>Protein-disulfide isomerase</td>\n",
       "      <td>0.195800</td>\n",
       "      <td>-0.195800</td>\n",
       "    </tr>\n",
       "    <tr>\n",
       "      <th>2623</th>\n",
       "      <td>bacterial peptide chain release factor 1 (bRF-1)</td>\n",
       "      <td>0.193264</td>\n",
       "      <td>-0.193264</td>\n",
       "    </tr>\n",
       "    <tr>\n",
       "      <th>1807</th>\n",
       "      <td>Putative mono-oxygenase ydhR</td>\n",
       "      <td>0.181711</td>\n",
       "      <td>-0.181711</td>\n",
       "    </tr>\n",
       "    <tr>\n",
       "      <th>1913</th>\n",
       "      <td>Right handed beta helix region</td>\n",
       "      <td>0.178729</td>\n",
       "      <td>-0.178729</td>\n",
       "    </tr>\n",
       "    <tr>\n",
       "      <th>1688</th>\n",
       "      <td>Predicted glycosyltransferases</td>\n",
       "      <td>0.168887</td>\n",
       "      <td>-0.168887</td>\n",
       "    </tr>\n",
       "    <tr>\n",
       "      <th>3564</th>\n",
       "      <td>nitric oxide reductase subunit C</td>\n",
       "      <td>0.164595</td>\n",
       "      <td>-0.164595</td>\n",
       "    </tr>\n",
       "    <tr>\n",
       "      <th>4136</th>\n",
       "      <td>soluble methane monooxygenase reductase  apopr...</td>\n",
       "      <td>0.158424</td>\n",
       "      <td>-0.158424</td>\n",
       "    </tr>\n",
       "    <tr>\n",
       "      <th>3923</th>\n",
       "      <td>putative quinone oxidoreductase, YhdH/YhfP  fa...</td>\n",
       "      <td>0.154480</td>\n",
       "      <td>-0.154480</td>\n",
       "    </tr>\n",
       "    <tr>\n",
       "      <th>4170</th>\n",
       "      <td>sulfate adenylyltransferase subunit 2 (EC  2.7...</td>\n",
       "      <td>0.150052</td>\n",
       "      <td>-0.150052</td>\n",
       "    </tr>\n",
       "    <tr>\n",
       "      <th>1939</th>\n",
       "      <td>SRSO17 transposase</td>\n",
       "      <td>0.148082</td>\n",
       "      <td>-0.148082</td>\n",
       "    </tr>\n",
       "    <tr>\n",
       "      <th>1816</th>\n",
       "      <td>Putative phage tail protein</td>\n",
       "      <td>0.139460</td>\n",
       "      <td>-0.139460</td>\n",
       "    </tr>\n",
       "    <tr>\n",
       "      <th>1768</th>\n",
       "      <td>Protein involved in initiation of plasmid  rep...</td>\n",
       "      <td>0.137719</td>\n",
       "      <td>-0.137719</td>\n",
       "    </tr>\n",
       "    <tr>\n",
       "      <th>1892</th>\n",
       "      <td>Restriction endonuclease S subunits</td>\n",
       "      <td>0.136318</td>\n",
       "      <td>-0.136318</td>\n",
       "    </tr>\n",
       "    <tr>\n",
       "      <th>44</th>\n",
       "      <td>2-methylfumaryl-CoA hydratase</td>\n",
       "      <td>0.136075</td>\n",
       "      <td>-0.136075</td>\n",
       "    </tr>\n",
       "    <tr>\n",
       "      <th>1562</th>\n",
       "      <td>Phage terminase, large subunit GpA</td>\n",
       "      <td>0.135592</td>\n",
       "      <td>-0.135592</td>\n",
       "    </tr>\n",
       "    <tr>\n",
       "      <th>1950</th>\n",
       "      <td>SSU ribosomal protein S1P</td>\n",
       "      <td>0.133332</td>\n",
       "      <td>-0.133332</td>\n",
       "    </tr>\n",
       "    <tr>\n",
       "      <th>984</th>\n",
       "      <td>Heavy-metal resistance</td>\n",
       "      <td>0.132604</td>\n",
       "      <td>-0.132604</td>\n",
       "    </tr>\n",
       "    <tr>\n",
       "      <th>3888</th>\n",
       "      <td>putative PEP-CTERM system TPR-repeat lipoprotein</td>\n",
       "      <td>0.131908</td>\n",
       "      <td>-0.131908</td>\n",
       "    </tr>\n",
       "    <tr>\n",
       "      <th>862</th>\n",
       "      <td>Flavin-dependent oxidoreductase, luciferase  f...</td>\n",
       "      <td>0.127572</td>\n",
       "      <td>-0.127572</td>\n",
       "    </tr>\n",
       "    <tr>\n",
       "      <th>1423</th>\n",
       "      <td>Nitrous oxidase accessory protein</td>\n",
       "      <td>0.127458</td>\n",
       "      <td>-0.127458</td>\n",
       "    </tr>\n",
       "  </tbody>\n",
       "</table>\n",
       "</div>"
      ],
      "text/plain": [
       "                                                   gene  abs(weight)    weight\n",
       "1776                        Protein-disulfide isomerase     0.195800 -0.195800\n",
       "2623   bacterial peptide chain release factor 1 (bRF-1)     0.193264 -0.193264\n",
       "1807                       Putative mono-oxygenase ydhR     0.181711 -0.181711\n",
       "1913                     Right handed beta helix region     0.178729 -0.178729\n",
       "1688                     Predicted glycosyltransferases     0.168887 -0.168887\n",
       "3564                   nitric oxide reductase subunit C     0.164595 -0.164595\n",
       "4136  soluble methane monooxygenase reductase  apopr...     0.158424 -0.158424\n",
       "3923  putative quinone oxidoreductase, YhdH/YhfP  fa...     0.154480 -0.154480\n",
       "4170  sulfate adenylyltransferase subunit 2 (EC  2.7...     0.150052 -0.150052\n",
       "1939                                 SRSO17 transposase     0.148082 -0.148082\n",
       "1816                        Putative phage tail protein     0.139460 -0.139460\n",
       "1768  Protein involved in initiation of plasmid  rep...     0.137719 -0.137719\n",
       "1892                Restriction endonuclease S subunits     0.136318 -0.136318\n",
       "44                        2-methylfumaryl-CoA hydratase     0.136075 -0.136075\n",
       "1562                 Phage terminase, large subunit GpA     0.135592 -0.135592\n",
       "1950                          SSU ribosomal protein S1P     0.133332 -0.133332\n",
       "984                              Heavy-metal resistance     0.132604 -0.132604\n",
       "3888   putative PEP-CTERM system TPR-repeat lipoprotein     0.131908 -0.131908\n",
       "862   Flavin-dependent oxidoreductase, luciferase  f...     0.127572 -0.127572\n",
       "1423                  Nitrous oxidase accessory protein     0.127458 -0.127458"
      ]
     },
     "execution_count": 15,
     "metadata": {},
     "output_type": "execute_result"
    }
   ],
   "source": [
    "u.head(n=20)"
   ]
  },
  {
   "cell_type": "code",
   "execution_count": 16,
   "metadata": {
    "collapsed": false
   },
   "outputs": [
    {
     "data": {
      "text/html": [
       "<div>\n",
       "<table border=\"1\" class=\"dataframe\">\n",
       "  <thead>\n",
       "    <tr style=\"text-align: right;\">\n",
       "      <th></th>\n",
       "      <th>gene</th>\n",
       "      <th>abs(weight)</th>\n",
       "      <th>weight</th>\n",
       "    </tr>\n",
       "  </thead>\n",
       "  <tbody>\n",
       "    <tr>\n",
       "      <th>4552</th>\n",
       "      <td>Uncharacterized membrane protein YfhO</td>\n",
       "      <td>0.145618</td>\n",
       "      <td>-0.145618</td>\n",
       "    </tr>\n",
       "    <tr>\n",
       "      <th>7757</th>\n",
       "      <td>precorrin-6A reductase</td>\n",
       "      <td>0.142571</td>\n",
       "      <td>-0.142571</td>\n",
       "    </tr>\n",
       "    <tr>\n",
       "      <th>692</th>\n",
       "      <td>Acetyl-CoA carboxylase, carboxyltransferase  c...</td>\n",
       "      <td>0.136985</td>\n",
       "      <td>-0.136985</td>\n",
       "    </tr>\n",
       "    <tr>\n",
       "      <th>4633</th>\n",
       "      <td>Uncharacterized protein involved in  exopolysa...</td>\n",
       "      <td>0.129443</td>\n",
       "      <td>-0.129443</td>\n",
       "    </tr>\n",
       "    <tr>\n",
       "      <th>5117</th>\n",
       "      <td>amylovoran biosynthesis glycosyltransferase AmsB</td>\n",
       "      <td>0.127814</td>\n",
       "      <td>-0.127814</td>\n",
       "    </tr>\n",
       "    <tr>\n",
       "      <th>1909</th>\n",
       "      <td>Glycine cleavage system T protein  (aminomethy...</td>\n",
       "      <td>0.125660</td>\n",
       "      <td>-0.125660</td>\n",
       "    </tr>\n",
       "    <tr>\n",
       "      <th>1588</th>\n",
       "      <td>Ectoine hydroxylase-related dioxygenase,  phyt...</td>\n",
       "      <td>0.125171</td>\n",
       "      <td>-0.125171</td>\n",
       "    </tr>\n",
       "    <tr>\n",
       "      <th>5869</th>\n",
       "      <td>dimethylhistidine N-methyltransferase</td>\n",
       "      <td>0.124951</td>\n",
       "      <td>-0.124951</td>\n",
       "    </tr>\n",
       "    <tr>\n",
       "      <th>2730</th>\n",
       "      <td>N-hydroxyarylamine O-acetyltransferase</td>\n",
       "      <td>0.116586</td>\n",
       "      <td>-0.116586</td>\n",
       "    </tr>\n",
       "    <tr>\n",
       "      <th>583</th>\n",
       "      <td>ATP-, maltotriose- and DNA-dependent  transcri...</td>\n",
       "      <td>0.111049</td>\n",
       "      <td>-0.111049</td>\n",
       "    </tr>\n",
       "    <tr>\n",
       "      <th>6754</th>\n",
       "      <td>lipid A ABC exporter family, fused ATPase and ...</td>\n",
       "      <td>0.110508</td>\n",
       "      <td>-0.110508</td>\n",
       "    </tr>\n",
       "    <tr>\n",
       "      <th>8074</th>\n",
       "      <td>putative thioredoxin</td>\n",
       "      <td>0.110132</td>\n",
       "      <td>-0.110132</td>\n",
       "    </tr>\n",
       "    <tr>\n",
       "      <th>9291</th>\n",
       "      <td>xanthine dehydrogenase YagR molybdenum-binding...</td>\n",
       "      <td>0.107199</td>\n",
       "      <td>-0.107199</td>\n",
       "    </tr>\n",
       "    <tr>\n",
       "      <th>5011</th>\n",
       "      <td>alpha-1,4-glucan:maltose-1-phosphate  maltosyl...</td>\n",
       "      <td>0.107101</td>\n",
       "      <td>-0.107101</td>\n",
       "    </tr>\n",
       "    <tr>\n",
       "      <th>4953</th>\n",
       "      <td>alanine racemase (EC 5.1.1.1)</td>\n",
       "      <td>0.107027</td>\n",
       "      <td>-0.107027</td>\n",
       "    </tr>\n",
       "    <tr>\n",
       "      <th>4601</th>\n",
       "      <td>Uncharacterized protein YjbI, contains  pentap...</td>\n",
       "      <td>0.104160</td>\n",
       "      <td>-0.104160</td>\n",
       "    </tr>\n",
       "    <tr>\n",
       "      <th>8066</th>\n",
       "      <td>putative solute:sodium symporter small subunit</td>\n",
       "      <td>0.101984</td>\n",
       "      <td>-0.101984</td>\n",
       "    </tr>\n",
       "    <tr>\n",
       "      <th>6171</th>\n",
       "      <td>fructose-1,6-bisphosphatase II</td>\n",
       "      <td>0.100601</td>\n",
       "      <td>-0.100601</td>\n",
       "    </tr>\n",
       "    <tr>\n",
       "      <th>6683</th>\n",
       "      <td>isopenicillin-N epimerase</td>\n",
       "      <td>0.099691</td>\n",
       "      <td>-0.099691</td>\n",
       "    </tr>\n",
       "    <tr>\n",
       "      <th>9018</th>\n",
       "      <td>two-component system, NarL family,  nitrate/ni...</td>\n",
       "      <td>0.098133</td>\n",
       "      <td>-0.098133</td>\n",
       "    </tr>\n",
       "  </tbody>\n",
       "</table>\n",
       "</div>"
      ],
      "text/plain": [
       "                                                   gene  abs(weight)    weight\n",
       "4552              Uncharacterized membrane protein YfhO     0.145618 -0.145618\n",
       "7757                             precorrin-6A reductase     0.142571 -0.142571\n",
       "692   Acetyl-CoA carboxylase, carboxyltransferase  c...     0.136985 -0.136985\n",
       "4633  Uncharacterized protein involved in  exopolysa...     0.129443 -0.129443\n",
       "5117   amylovoran biosynthesis glycosyltransferase AmsB     0.127814 -0.127814\n",
       "1909  Glycine cleavage system T protein  (aminomethy...     0.125660 -0.125660\n",
       "1588  Ectoine hydroxylase-related dioxygenase,  phyt...     0.125171 -0.125171\n",
       "5869              dimethylhistidine N-methyltransferase     0.124951 -0.124951\n",
       "2730             N-hydroxyarylamine O-acetyltransferase     0.116586 -0.116586\n",
       "583   ATP-, maltotriose- and DNA-dependent  transcri...     0.111049 -0.111049\n",
       "6754  lipid A ABC exporter family, fused ATPase and ...     0.110508 -0.110508\n",
       "8074                               putative thioredoxin     0.110132 -0.110132\n",
       "9291  xanthine dehydrogenase YagR molybdenum-binding...     0.107199 -0.107199\n",
       "5011  alpha-1,4-glucan:maltose-1-phosphate  maltosyl...     0.107101 -0.107101\n",
       "4953                      alanine racemase (EC 5.1.1.1)     0.107027 -0.107027\n",
       "4601  Uncharacterized protein YjbI, contains  pentap...     0.104160 -0.104160\n",
       "8066     putative solute:sodium symporter small subunit     0.101984 -0.101984\n",
       "6171                     fructose-1,6-bisphosphatase II     0.100601 -0.100601\n",
       "6683                          isopenicillin-N epimerase     0.099691 -0.099691\n",
       "9018  two-component system, NarL family,  nitrate/ni...     0.098133 -0.098133"
      ]
     },
     "execution_count": 16,
     "metadata": {},
     "output_type": "execute_result"
    }
   ],
   "source": [
    "v = cca.sorted_weights(vector='v')\n",
    "v.head(n=20)"
   ]
  },
  {
   "cell_type": "code",
   "execution_count": 17,
   "metadata": {
    "collapsed": false
   },
   "outputs": [
    {
     "data": {
      "text/plain": [
       "<matplotlib.axes._subplots.AxesSubplot at 0xc50b128>"
      ]
     },
     "execution_count": 17,
     "metadata": {},
     "output_type": "execute_result"
    },
    {
     "data": {
      "image/png": "[encoded data removed]",
      "text/plain": [
       "<matplotlib.figure.Figure at 0xc087c50>"
      ]
     },
     "metadata": {},
     "output_type": "display_data"
    }
   ],
   "source": [
    "v[v['abs(weight)'] > 0]['weight'].plot.hist()"
   ]
  },
  {
   "cell_type": "code",
   "execution_count": null,
   "metadata": {
    "collapsed": true
   },
   "outputs": [],
   "source": []
  }
 ],
 "metadata": {
  "anaconda-cloud": {},
  "kernelspec": {
   "display_name": "Python [conda root]",
   "language": "python",
   "name": "conda-root-py"
  },
  "language_info": {
   "codemirror_mode": {
    "name": "ipython",
    "version": 2
   },
   "file_extension": ".py",
   "mimetype": "text/x-python",
   "name": "python",
   "nbconvert_exporter": "python",
   "pygments_lexer": "ipython2",
   "version": "2.7.12"
  }
 },
 "nbformat": 4,
 "nbformat_minor": 1
}
