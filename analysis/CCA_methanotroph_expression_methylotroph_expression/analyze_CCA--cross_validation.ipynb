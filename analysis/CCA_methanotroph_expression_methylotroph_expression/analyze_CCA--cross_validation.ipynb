{
 "cells": [
  {
   "cell_type": "markdown",
   "metadata": {},
   "source": [
    "## Cross-validation of sparse CCA\n",
    "\n",
    "Predict expression of methylotrophy genes from methanotrophy genes.  Previously pooled on species.\n",
    "\n",
    "First, run: ../notebooks/prepare_data/prepare_X_m_expression_Y_nmm_expression_Xval.ipynb\n",
    "\n",
    "That fills /Users/janet/ML_meta-omics/data/cross_val_data"
   ]
  },
  {
   "cell_type": "code",
   "execution_count": null,
   "metadata": {
    "collapsed": false
   },
   "outputs": [],
   "source": [
    "import sys\n",
    "assert sys.version_info.major == 2, \"python version is {}\".format(sys.version_info.major)\n",
    "print(sys.version)"
   ]
  },
  {
   "cell_type": "code",
   "execution_count": null,
   "metadata": {
    "collapsed": false
   },
   "outputs": [],
   "source": [
    "import itertools\n",
    "import matplotlib as mpl\n",
    "import matplotlib\n",
    "matplotlib.use('Agg')\n",
    "%matplotlib inline\n",
    "import matplotlib.pyplot as plt\n",
    "import numpy as np\n",
    "import os\n",
    "import pandas as pd\n",
    "import re\n",
    "import seaborn as sns\n",
    "import subprocess\n",
    "import sys"
   ]
  },
  {
   "cell_type": "code",
   "execution_count": null,
   "metadata": {
    "collapsed": false
   },
   "outputs": [],
   "source": [
    "print(sys.version)"
   ]
  },
  {
   "cell_type": "code",
   "execution_count": null,
   "metadata": {
    "collapsed": false
   },
   "outputs": [],
   "source": [
    "sys.path.append('../../code/')\n",
    "\n",
    "from CCA import CcaAnalysis, ExpressionCCA\n",
    "from cross_validate import CrossValCCA"
   ]
  },
  {
   "cell_type": "code",
   "execution_count": null,
   "metadata": {
    "collapsed": false
   },
   "outputs": [],
   "source": [
    "raw_data_path = '../../data/cross_val_data/'\n",
    "os.listdir(raw_data_path)\n",
    "xval_filenames = [f for f in os.listdir(raw_data_path) if '.tsv' in f]  # get rid of non-TSV files"
   ]
  },
  {
   "cell_type": "code",
   "execution_count": null,
   "metadata": {
    "collapsed": false
   },
   "outputs": [],
   "source": [
    "def find_Xval_group(string):\n",
    "    m = re.search('[_A-z]+fold([0-9]+)[._A-z]+', string)\n",
    "    return int(m.group(1))\n",
    "\n",
    "groups = list(set([find_Xval_group(f) for f in xval_filenames]))\n",
    "groups"
   ]
  },
  {
   "cell_type": "code",
   "execution_count": null,
   "metadata": {
    "collapsed": false
   },
   "outputs": [],
   "source": [
    "def get_filename(strings_list, fold, train=True):\n",
    "    raw_data_path = '../../data/cross_val_data/'\n",
    "    xval_filenames = os.listdir(raw_data_path)\n",
    "    \n",
    "    potential_files = [f for f in xval_filenames\n",
    "                       if \"fold\" + str(fold) in f]\n",
    "    #print(\"There are {} potential files\".format(len(potential_files)))\n",
    "    \n",
    "    for s in strings_list:\n",
    "        potential_files = [f for f in potential_files if s in f]\n",
    "        \n",
    "    assert len(potential_files) == 1, \"too many file name matches in {}\".format(potential_files)\n",
    "    \n",
    "    #print(\"file names found: {}\".format(potential_files))\n",
    "    return potential_files[0]"
   ]
  },
  {
   "cell_type": "code",
   "execution_count": null,
   "metadata": {
    "collapsed": false
   },
   "outputs": [],
   "source": [
    "get_filename(['methanotroph', 'train', 'filtered', 'ss'], fold=1, train=True)"
   ]
  },
  {
   "cell_type": "code",
   "execution_count": null,
   "metadata": {
    "collapsed": false
   },
   "outputs": [],
   "source": [
    "[1] + [2, 3, 4]"
   ]
  },
  {
   "cell_type": "code",
   "execution_count": null,
   "metadata": {
    "collapsed": false
   },
   "outputs": [],
   "source": [
    "summary = pd.DataFrame()\n",
    "\n",
    "for fold in groups:\n",
    "    file_specs = ['filtered', 'ss']\n",
    "    #print('fold: {}'.format(fold))\n",
    "    row = {}\n",
    "    row['k'] = fold\n",
    "    row['m filename, train'] = get_filename(['methanotroph', 'train'] + file_specs, fold)\n",
    "    row['m filename, val'] = get_filename(['methanotroph', 'val'] + file_specs, fold)\n",
    "    row['nmm filename, train'] = get_filename(['methylotroph', 'train'] + file_specs, fold)\n",
    "    row['nmm filename, val'] = get_filename(['methylotroph', 'val'] + file_specs, fold)\n",
    "    row['gene names'] = get_filename(['methylotroph', 'genes'] + file_specs, fold)\n",
    "    \n",
    "    # make a dataframe row\n",
    "    row = {k:[v] for k, v in row.items()}\n",
    "    df = pd.DataFrame.from_dict(row)\n",
    "    #print(df)\n",
    "    summary = pd.concat([summary, df], axis=0)\n",
    "summary"
   ]
  },
  {
   "cell_type": "markdown",
   "metadata": {},
   "source": [
    "### Run sparse CCA on each of these training sets"
   ]
  },
  {
   "cell_type": "markdown",
   "metadata": {},
   "source": [
    "Start by demo of one set:"
   ]
  },
  {
   "cell_type": "code",
   "execution_count": null,
   "metadata": {
    "collapsed": false
   },
   "outputs": [],
   "source": [
    "summary.head(1)"
   ]
  },
  {
   "cell_type": "code",
   "execution_count": null,
   "metadata": {
    "collapsed": false
   },
   "outputs": [],
   "source": [
    "uv_dir = './crossvalidation_u_and_v_vectors/'\n",
    "if not os.path.exists(uv_dir):\n",
    "    os.mkdir(uv_dir)"
   ]
  },
  {
   "cell_type": "code",
   "execution_count": null,
   "metadata": {
    "collapsed": false
   },
   "outputs": [],
   "source": [
    "os.listdir(uv_dir)[0:4]"
   ]
  },
  {
   "cell_type": "code",
   "execution_count": null,
   "metadata": {
    "collapsed": false
   },
   "outputs": [],
   "source": [
    "def run_CCA(summary_df, cv, groups, pen_x, pen_z, verbose=False):\n",
    "    \n",
    "    for group in groups:\n",
    "        fold_results = {}\n",
    "        \n",
    "        row = summary_df[summary_df['k'] == group]\n",
    "        assert row.shape[0] == 1\n",
    "        \n",
    "        def prepare_filepath(set):\n",
    "            filename = row[set][0]\n",
    "            return os.path.join(raw_data_path, filename)\n",
    "        \n",
    "        x_filepath = prepare_filepath('m filename, train')\n",
    "        print('x_filepath: {}'.format(x_filepath))\n",
    "        z_filepath = prepare_filepath('nmm filename, train')\n",
    "        print('z_filepath: {}'.format(z_filepath))\n",
    "        x_val_filepath = prepare_filepath('m filename, val')\n",
    "        print('x_val_filepath: {}'.format(x_val_filepath))\n",
    "        z_val_filepath = prepare_filepath('nmm filename, val')\n",
    "        print('z_val_filepath: {}'.format(z_val_filepath))\n",
    "        gene_name_filepath = prepare_filepath('gene names')\n",
    "        print('gene_name_filepath: {}'.format(gene_name_filepath))\n",
    "        \n",
    "        cv.model(x_train_filepath=x_filepath,\n",
    "                 z_train_filepath=z_filepath, \n",
    "                 pen_x = pen_x, \n",
    "                 pen_z = pen_z,\n",
    "                 x_val_filepath = x_val_filepath, \n",
    "                 z_val_filepath = z_val_filepath, \n",
    "                 gene_name_filepath = gene_name_filepath,\n",
    "                 verbose=verbose)"
   ]
  },
  {
   "cell_type": "markdown",
   "metadata": {},
   "source": [
    "## Demo/test the methods before running a bigger set"
   ]
  },
  {
   "cell_type": "code",
   "execution_count": null,
   "metadata": {
    "collapsed": false
   },
   "outputs": [],
   "source": [
    "cv_demo = CrossValCCA(raw_data_path = '../../data/cross_val_data/', \n",
    "                 uv_dir = './crossvalidation_u_and_v_vectors',\n",
    "                 input_filepath='../../data/cross_val_data/',\n",
    "                 path_to_R_script='../../code/sparse_CCA.R' # default value,\n",
    "                )"
   ]
  },
  {
   "cell_type": "code",
   "execution_count": null,
   "metadata": {
    "collapsed": false
   },
   "outputs": [],
   "source": [
    "# The best control is zero penalty.  Should give one nonzero weight. \n",
    "run_CCA(summary_df=summary, cv=cv_demo, groups=[1, 2], pen_x=0., pen_z=0., verbose=True)"
   ]
  },
  {
   "cell_type": "code",
   "execution_count": null,
   "metadata": {
    "collapsed": false
   },
   "outputs": [],
   "source": [
    "run_CCA(summary_df=summary, cv=cv_demo, groups=[1], pen_x=0.04, pen_z=0.03, verbose=True)"
   ]
  },
  {
   "cell_type": "code",
   "execution_count": null,
   "metadata": {
    "collapsed": false
   },
   "outputs": [],
   "source": [
    "cv_demo.results"
   ]
  },
  {
   "cell_type": "code",
   "execution_count": null,
   "metadata": {
    "collapsed": false
   },
   "outputs": [],
   "source": [
    "cv_demo"
   ]
  },
  {
   "cell_type": "code",
   "execution_count": null,
   "metadata": {
    "collapsed": false
   },
   "outputs": [],
   "source": [
    "p = cv_demo.models[1].plot_projections()"
   ]
  },
  {
   "cell_type": "code",
   "execution_count": null,
   "metadata": {
    "collapsed": false
   },
   "outputs": [],
   "source": [
    "cv_demo.models[1].summary"
   ]
  },
  {
   "cell_type": "code",
   "execution_count": null,
   "metadata": {
    "collapsed": false
   },
   "outputs": [],
   "source": [
    "p_x = cv_demo.plot_correlation_vs_penalty(set='train', penalty='x')"
   ]
  },
  {
   "cell_type": "code",
   "execution_count": null,
   "metadata": {
    "collapsed": false
   },
   "outputs": [],
   "source": [
    "p_x = cv_demo.plot_correlation_vs_penalty(set='val', penalty='x')"
   ]
  },
  {
   "cell_type": "code",
   "execution_count": null,
   "metadata": {
    "collapsed": false
   },
   "outputs": [],
   "source": [
    "p_z = cv_demo.plot_num_nonzero_coeffs_vs_penalty(set='z')"
   ]
  },
  {
   "cell_type": "markdown",
   "metadata": {
    "collapsed": true
   },
   "source": [
    "## Hyperparameter tuning for 4-fold cross-val"
   ]
  },
  {
   "cell_type": "code",
   "execution_count": null,
   "metadata": {
    "collapsed": true
   },
   "outputs": [],
   "source": [
    "cv = CrossValCCA(raw_data_path = '../../data/cross_val_data/', \n",
    "                 uv_dir = './crossvalidation_u_and_v_vectors',\n",
    "                 input_filepath='../../data/cross_val_data/')"
   ]
  },
  {
   "cell_type": "code",
   "execution_count": null,
   "metadata": {
    "collapsed": true
   },
   "outputs": [],
   "source": [
    "# Don't do a grid any more\n",
    "#penx_vals = np.linspace(0, 0.04, num=4, endpoint=False)\n",
    "#penz_vals = np.linspace(0, 0.04, num=4, endpoint=False)\n",
    "#print('pen_x values:'+ str(penx_vals))\n",
    "#print('pen_z values:'+ str(penz_vals))"
   ]
  },
  {
   "cell_type": "code",
   "execution_count": null,
   "metadata": {
    "collapsed": true
   },
   "outputs": [],
   "source": [
    "def run_CCA_specify_value_tupes(cross_val_obj, group_list, penx_penz_tuples, verbose=False):\n",
    "     \n",
    "    expected_models = len(penx_penz_tuples)\n",
    "    print(\"analyze {} model(s) for crossvalidation sets {}\".format(expected_models, groups))\n",
    "    for t in penx_penz_tuples:\n",
    "        penx, penz = t\n",
    "        run_CCA(summary_df=summary, cv=cross_val_obj, groups=group_list, \n",
    "            pen_x=penx, pen_z=penz, verbose=verbose)"
   ]
  },
  {
   "cell_type": "code",
   "execution_count": null,
   "metadata": {
    "collapsed": false
   },
   "outputs": [],
   "source": [
    "run_CCA_specify_value_tupes(cross_val_obj=cv, \n",
    "                            group_list=[1], \n",
    "                            penx_penz_tuples=[(0, 0)], \n",
    "                            verbose=False)"
   ]
  },
  {
   "cell_type": "code",
   "execution_count": null,
   "metadata": {
    "collapsed": false
   },
   "outputs": [],
   "source": [
    "list(itertools.product([1, 2, 3], [4, 5, 6]))"
   ]
  },
  {
   "cell_type": "code",
   "execution_count": null,
   "metadata": {
    "collapsed": true
   },
   "outputs": [],
   "source": [
    "np.linspace(0, 0.1, num=11, endpoint=False)"
   ]
  },
  {
   "cell_type": "code",
   "execution_count": null,
   "metadata": {
    "collapsed": true
   },
   "outputs": [],
   "source": [
    "for x in np.linspace(0, 0.1, num=11, endpoint=False):\n",
    "    run_CCA_specify_value_tupes(cross_val_obj=cv, \n",
    "                                group_list=[1, 2, 3, 4], \n",
    "                                penx_penz_tuples=[(x, x)], \n",
    "                                verbose=False)"
   ]
  },
  {
   "cell_type": "code",
   "execution_count": null,
   "metadata": {
    "collapsed": true
   },
   "outputs": [],
   "source": [
    "# Probably don't need to run this function b/c pretty good independence of x-val params.\n",
    "def run_CCA_with_combinations_of_penalties(cross_val_obj, group_list, \n",
    "                                            penx_vals, penz_vals,\n",
    "                                           verbose=False):\n",
    "    print(penx_vals, penz_vals)\n",
    "    combos = list(itertools.product(penx_vals, penz_vals))\n",
    "    expected_models = len(combos)\n",
    "    print(expected_models)\n",
    "    print(\"analyze {} models for crossvalidation sets {}\".format(expected_models, groups))\n",
    "    \n",
    "    run_CCA_specify_value_tupes(cross_val_obj=cross_val_obj, \n",
    "                                            group_list=group_list, \n",
    "                                            penx_penz_tuples=combos, verbose=verbose)"
   ]
  },
  {
   "cell_type": "raw",
   "metadata": {},
   "source": [
    "run_CCA_with_combinations_of_penalties(cross_val_obj=cv, \n",
    "                                        group_list=[2, 3], \n",
    "                                        penx_vals=[0.03, 0.04], \n",
    "                                        penz_vals=[0.03, 0.04])"
   ]
  },
  {
   "cell_type": "code",
   "execution_count": null,
   "metadata": {
    "collapsed": false
   },
   "outputs": [],
   "source": [
    "px = cv.plot_num_nonzero_coeffs_vs_penalty(set='x')\n",
    "pz = cv.plot_num_nonzero_coeffs_vs_penalty(set='x')"
   ]
  },
  {
   "cell_type": "code",
   "execution_count": null,
   "metadata": {
    "collapsed": false
   },
   "outputs": [],
   "source": []
  },
  {
   "cell_type": "code",
   "execution_count": null,
   "metadata": {
    "collapsed": false
   },
   "outputs": [],
   "source": [
    "pxt = cv.plot_correlation_vs_penalty(set='train', penalty='x')\n",
    "pxv = cv.plot_correlation_vs_penalty(set='val', penalty='x')\n",
    "\n",
    "pzt = cv.plot_correlation_vs_penalty(set='train', penalty='z')\n",
    "pzv = cv.plot_correlation_vs_penalty(set='val', penalty='z')"
   ]
  },
  {
   "cell_type": "code",
   "execution_count": null,
   "metadata": {
    "collapsed": true
   },
   "outputs": [],
   "source": []
  }
 ],
 "metadata": {
  "anaconda-cloud": {},
  "kernelspec": {
   "display_name": "Python [conda env:mlproj]",
   "language": "python",
   "name": "conda-env-mlproj-py"
  },
  "language_info": {
   "codemirror_mode": {
    "name": "ipython",
    "version": 2
   },
   "file_extension": ".py",
   "mimetype": "text/x-python",
   "name": "python",
   "nbconvert_exporter": "python",
   "pygments_lexer": "ipython2",
   "version": "2.7.12"
  }
 },
 "nbformat": 4,
 "nbformat_minor": 1
}
