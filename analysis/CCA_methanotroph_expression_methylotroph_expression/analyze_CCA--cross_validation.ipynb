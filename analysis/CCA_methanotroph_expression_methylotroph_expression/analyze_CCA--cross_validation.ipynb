{
 "cells": [
  {
   "cell_type": "markdown",
   "metadata": {},
   "source": [
    "## Cross-validation of sparse CCA\n",
    "\n",
    "Predict expression of methylotrophy genes from methanotrophy genes.  Previously pooled on species.\n",
    "\n",
    "First, run: ../notebooks/prepare_data/prepare_X_m_expression_Y_nmm_expression_Xval.ipynb\n",
    "\n",
    "That fills /Users/janet/ML_meta-omics/data/cross_val_data"
   ]
  },
  {
   "cell_type": "code",
   "execution_count": null,
   "metadata": {
    "collapsed": false
   },
   "outputs": [],
   "source": [
    "import pandas as pd"
   ]
  },
  {
   "cell_type": "code",
   "execution_count": null,
   "metadata": {
    "collapsed": false
   },
   "outputs": [],
   "source": [
    "import matplotlib as mpl\n",
    "import matplotlib\n",
    "matplotlib.use('Agg')\n",
    "%matplotlib inline\n",
    "import matplotlib.pyplot as plt\n",
    "import numpy as np\n",
    "import os\n",
    "import pandas as pd\n",
    "import re\n",
    "import seaborn as sns\n",
    "import subprocess\n",
    "import sys"
   ]
  },
  {
   "cell_type": "code",
   "execution_count": null,
   "metadata": {
    "collapsed": false
   },
   "outputs": [],
   "source": [
    "print(sys.version)"
   ]
  },
  {
   "cell_type": "code",
   "execution_count": null,
   "metadata": {
    "collapsed": false
   },
   "outputs": [],
   "source": [
    "sys.path.append('../../code/')\n",
    "\n",
    "from CCA import CcaAnalysis, ExpressionCCA"
   ]
  },
  {
   "cell_type": "code",
   "execution_count": null,
   "metadata": {
    "collapsed": false
   },
   "outputs": [],
   "source": [
    "! ls ../../data/cross_val_data/"
   ]
  },
  {
   "cell_type": "code",
   "execution_count": null,
   "metadata": {
    "collapsed": false
   },
   "outputs": [],
   "source": [
    "raw_data_path = '../../data/cross_val_data/'\n",
    "xval_filenames = os.listdir(raw_data_path)\n",
    "xval_filenames = [f for f in xval_filenames if '.tsv' in f]  # get rid of non-TSV files"
   ]
  },
  {
   "cell_type": "code",
   "execution_count": null,
   "metadata": {
    "collapsed": false
   },
   "outputs": [],
   "source": [
    "xval_filenames[0]"
   ]
  },
  {
   "cell_type": "code",
   "execution_count": null,
   "metadata": {
    "collapsed": true
   },
   "outputs": [],
   "source": [
    "def find_Xval_group(string):\n",
    "    m = re.search('[_A-z]+fold([0-9]+)[._A-z]+', string)\n",
    "    return int(m.group(1))"
   ]
  },
  {
   "cell_type": "code",
   "execution_count": null,
   "metadata": {
    "collapsed": false
   },
   "outputs": [],
   "source": [
    "find_Xval_group(xval_filenames[0])"
   ]
  },
  {
   "cell_type": "code",
   "execution_count": null,
   "metadata": {
    "collapsed": false
   },
   "outputs": [],
   "source": [
    "groups = list(set([find_Xval_group(f) for f in xval_filenames]))\n",
    "groups"
   ]
  },
  {
   "cell_type": "code",
   "execution_count": null,
   "metadata": {
    "collapsed": false
   },
   "outputs": [],
   "source": [
    "xval_filenames"
   ]
  },
  {
   "cell_type": "code",
   "execution_count": null,
   "metadata": {
    "collapsed": false
   },
   "outputs": [],
   "source": [
    "[f for f in xval_filenames if 'methanotroph' in f and \"fold3\" + \"_train\" in f]"
   ]
  },
  {
   "cell_type": "code",
   "execution_count": null,
   "metadata": {
    "collapsed": true
   },
   "outputs": [],
   "source": [
    "def get_filename(string, fold, train=True):\n",
    "    if train:\n",
    "        suffix = '_train'\n",
    "    else:\n",
    "        suffix = '_val'\n",
    "    filename_candidates = [f for f in xval_filenames\n",
    "                           if string in f and \"fold\" + str(fold) + suffix in f]\n",
    "    # get rid of u and v filenames\n",
    "    #filename_candidates = [f for f in filename_candidates if not '_u' in f]\n",
    "    #filename_candidates = [f for f in filename_candidates if not '_v' in f]\n",
    "    assert len(filename_candidates) == 1, \"file names found: {}\".format(filename_candidates)\n",
    "    return filename_candidates[0]"
   ]
  },
  {
   "cell_type": "code",
   "execution_count": null,
   "metadata": {
    "collapsed": false
   },
   "outputs": [],
   "source": [
    "get_filename('methanotroph', 1, train=True)"
   ]
  },
  {
   "cell_type": "code",
   "execution_count": null,
   "metadata": {
    "collapsed": false
   },
   "outputs": [],
   "source": [
    "get_filename('methanotroph', 3, train=True)"
   ]
  },
  {
   "cell_type": "code",
   "execution_count": null,
   "metadata": {
    "collapsed": false
   },
   "outputs": [],
   "source": [
    "get_filename('methylotroph', 3, train=True)"
   ]
  },
  {
   "cell_type": "raw",
   "metadata": {},
   "source": [
    "! head -n 1 ../../data/cross_val_data/methanotroph_fold1_train.tsv"
   ]
  },
  {
   "cell_type": "code",
   "execution_count": null,
   "metadata": {
    "collapsed": false
   },
   "outputs": [],
   "source": [
    "summary = pd.DataFrame()\n",
    "\n",
    "for fold in groups:\n",
    "    print('fold: {}'.format(fold))\n",
    "    row = {}\n",
    "    row['k'] = fold\n",
    "    row['m filename, train'] = get_filename('methanotroph', fold, train=True)\n",
    "    row['m filename, val'] = get_filename('methanotroph', fold, train=False)\n",
    "    row['nmm filename, train'] = get_filename('methylotroph', fold, train=True)\n",
    "    row['nmm filename, val'] = get_filename('methylotroph', fold, train=False)\n",
    "    #row['train x'] = np.genfromtxt(raw_data_path + row['m filename, train'], delimiter='\\t', skip_header=1)\n",
    "    #row['train z'] = np.genfromtxt(raw_data_path + row['nmm filename, train'], delimiter='\\t', skip_header=1)\n",
    "    #row['val x'] = np.genfromtxt(raw_data_path + row['m filename, val'], delimiter='\\t', skip_header=1)\n",
    "    #row['val z'] = np.genfromtxt(raw_data_path + row['nmm filename, val'], delimiter='\\t', skip_header=1)\n",
    "    \n",
    "    # make a dataframe row\n",
    "    row = {k:[v] for k, v in row.items()}\n",
    "    df = pd.DataFrame.from_dict(row)\n",
    "    #print(df)\n",
    "    summary = pd.concat([summary, df], axis=0)\n",
    "summary"
   ]
  },
  {
   "cell_type": "markdown",
   "metadata": {},
   "source": [
    "### Run sparse CCA on each of these training sets"
   ]
  },
  {
   "cell_type": "markdown",
   "metadata": {},
   "source": [
    "Start by demo of one set:"
   ]
  },
  {
   "cell_type": "code",
   "execution_count": null,
   "metadata": {
    "collapsed": false
   },
   "outputs": [],
   "source": [
    "summary.head(1)"
   ]
  },
  {
   "cell_type": "code",
   "execution_count": null,
   "metadata": {
    "collapsed": false
   },
   "outputs": [],
   "source": [
    "uv_dir = './crossvalidation_u_and_v_vectors/'\n",
    "if not os.path.exists(uv_dir):\n",
    "    os.mkdir(uv_dir)"
   ]
  },
  {
   "cell_type": "code",
   "execution_count": null,
   "metadata": {
    "collapsed": false
   },
   "outputs": [],
   "source": [
    "os.listdir(uv_dir)"
   ]
  },
  {
   "cell_type": "code",
   "execution_count": null,
   "metadata": {
    "collapsed": false
   },
   "outputs": [],
   "source": [
    "def run_CCA(summary_df, groups, pen_x=0.04, pen_z=0.03, verbose=False):\n",
    "    results = {}  # make a dict of CCA objects\n",
    "    for group in groups:\n",
    "        fold_results = {}\n",
    "        \n",
    "        row = summary_df[summary_df['k'] == group]\n",
    "        assert row.shape[0] == 1\n",
    "        \n",
    "        def prepare_filepath(set):\n",
    "            filename = row[set][0]\n",
    "            return os.path.join(raw_data_path, filename)\n",
    "        \n",
    "        x_filepath = prepare_filepath('m filename, train')\n",
    "        z_filepath = prepare_filepath('nmm filename, train')\n",
    "        \n",
    "        # todo: remove expected filename if it exsits.\n",
    "        cca = ExpressionCCA(x_train_filename = x_filepath, \n",
    "                            z_train_filename = z_filepath,\n",
    "                            x_val_filename = prepare_filepath('m filename, val'), \n",
    "                            z_val_filename = prepare_filepath('nmm filename, val'),\n",
    "                            input_filepath = raw_data_path, \n",
    "                            u_v_output_dir = uv_dir,\n",
    "                            penalty_x = pen_x,  # leads to thousands of nonzero weights in X-val\n",
    "                            penalty_z = pen_z, # leads to thousands of nonzero weights in X-val \n",
    "                            verbose = verbose,\n",
    "                            path_to_R_script='../../code/sparse_CCA.R')\n",
    "        \n",
    "        results[group] = cca\n",
    "    return results\n",
    "    \n",
    "# run_R doesn't seem to control anything!!\n",
    "results = run_CCA(summary, groups, verbose=True)"
   ]
  },
  {
   "cell_type": "code",
   "execution_count": null,
   "metadata": {
    "collapsed": false
   },
   "outputs": [],
   "source": [
    "results"
   ]
  },
  {
   "cell_type": "code",
   "execution_count": null,
   "metadata": {
    "collapsed": false,
    "scrolled": true
   },
   "outputs": [],
   "source": [
    "results[1].__dict__"
   ]
  },
  {
   "cell_type": "code",
   "execution_count": null,
   "metadata": {
    "collapsed": false,
    "scrolled": true
   },
   "outputs": [],
   "source": [
    "for n, c in results.items():\n",
    "    print(\"--- {} ---\".format(n))\n",
    "    c.summarise()\n",
    "    print(c.summary)\n",
    "    c.plot_projections(filename='projection_for_set_{}.pdf'.format(n))"
   ]
  },
  {
   "cell_type": "code",
   "execution_count": null,
   "metadata": {
    "collapsed": false
   },
   "outputs": [],
   "source": [
    "results[1].summary"
   ]
  },
  {
   "cell_type": "code",
   "execution_count": null,
   "metadata": {
    "collapsed": true
   },
   "outputs": [],
   "source": [
    "def prep_for_pandas(mydict):\n",
    "    return {k:[v] for k, v in mydict.items()}"
   ]
  },
  {
   "cell_type": "code",
   "execution_count": null,
   "metadata": {
    "collapsed": false
   },
   "outputs": [],
   "source": [
    "prep_for_pandas(results[1].summary)"
   ]
  },
  {
   "cell_type": "code",
   "execution_count": null,
   "metadata": {
    "collapsed": false
   },
   "outputs": [],
   "source": [
    "pd.DataFrame.from_dict(prep_for_pandas(results[1].summary))"
   ]
  },
  {
   "cell_type": "code",
   "execution_count": null,
   "metadata": {
    "collapsed": true
   },
   "outputs": [],
   "source": [
    "d1 = pd.DataFrame.from_dict(prep_for_pandas(results[1].summary))\n",
    "d2 = pd.DataFrame.from_dict(prep_for_pandas(results[2].summary))"
   ]
  },
  {
   "cell_type": "code",
   "execution_count": null,
   "metadata": {
    "collapsed": false
   },
   "outputs": [],
   "source": [
    "pd.concat([d1, d2])"
   ]
  },
  {
   "cell_type": "code",
   "execution_count": null,
   "metadata": {
    "collapsed": true
   },
   "outputs": [],
   "source": [
    "def prep_df_row(mydict):\n",
    "    return pd.DataFrame.from_dict({k:[v] for k, v in mydict.items()})"
   ]
  },
  {
   "cell_type": "code",
   "execution_count": null,
   "metadata": {
    "collapsed": false
   },
   "outputs": [],
   "source": [
    "prep_df_row(results[2].summary)"
   ]
  },
  {
   "cell_type": "code",
   "execution_count": null,
   "metadata": {
    "collapsed": false
   },
   "outputs": [],
   "source": [
    "def combine_info(results, verbose=False):\n",
    "    mega_df = pd.DataFrame()\n",
    "\n",
    "    for model_num in results.keys():\n",
    "        model = results[model_num]\n",
    "        summary_dict = model.get_summary()\n",
    "        df_row = prep_df_row(summary_dict)\n",
    "        df_row['fold #'] = model_num\n",
    "        df_row['penalty_x'] = model.penalty_x\n",
    "        df_row['penalty_z'] = model.penalty_z\n",
    "        \n",
    "        if verbose:\n",
    "            print(\"df_row: {}\".format(df_row))\n",
    "        mega_df = pd.concat([mega_df, df_row])\n",
    "        \n",
    "    return mega_df"
   ]
  },
  {
   "cell_type": "code",
   "execution_count": null,
   "metadata": {
    "collapsed": false
   },
   "outputs": [],
   "source": [
    "results2 = run_CCA(summary, groups, penalty_x=0.01, penalty_z=0.01)"
   ]
  },
  {
   "cell_type": "code",
   "execution_count": null,
   "metadata": {
    "collapsed": false
   },
   "outputs": [],
   "source": [
    "for n, c in results2.items():\n",
    "    print(\"--- {} ---\".format(n))\n",
    "    c.summarise()\n",
    "    print(c.summary)\n",
    "    #c.plot_projections(filename='projection_for_set_{}.pdf'.format(n))"
   ]
  },
  {
   "cell_type": "code",
   "execution_count": null,
   "metadata": {
    "collapsed": false
   },
   "outputs": [],
   "source": [
    "i2 = combine_info(results2)"
   ]
  },
  {
   "cell_type": "code",
   "execution_count": null,
   "metadata": {
    "collapsed": false
   },
   "outputs": [],
   "source": [
    "pd.concat([i1, i2])"
   ]
  },
  {
   "cell_type": "markdown",
   "metadata": {
    "collapsed": true
   },
   "source": [
    "## Hyperparameter tuning for 4-fold cross-val"
   ]
  },
  {
   "cell_type": "code",
   "execution_count": null,
   "metadata": {
    "collapsed": true
   },
   "outputs": [],
   "source": [
    "penx_vals = np.linspace(0, 0.04, num=5, endpoint=False)\n",
    "penz_vals = np.linspace(0, 0.03, num=5, endpoint=False)"
   ]
  },
  {
   "cell_type": "code",
   "execution_count": null,
   "metadata": {
    "collapsed": false
   },
   "outputs": [],
   "source": [
    "print('penalty_x values:'+ str(penx_vals))\n",
    "print('penalty_z values:'+ str(penz_vals))"
   ]
  },
  {
   "cell_type": "code",
   "execution_count": null,
   "metadata": {
    "collapsed": false
   },
   "outputs": [],
   "source": [
    "mega_mega_df = pd.DataFrame()\n",
    "\n",
    "for penx in penx_vals:\n",
    "    for penz in penz_vals:\n",
    "        print(\"Computing results for penx = \" + str(penx) + \" and penz = \" + str(penz) + \"...\")\n",
    "        results = run_CCA(summary, groups, pen_x = penx, pen_z = penz)\n",
    "        mega_mega_df = pd.concat([mega_mega_df, combine_info(results, verbose=True)])\n",
    "        "
   ]
  },
  {
   "cell_type": "code",
   "execution_count": null,
   "metadata": {
    "collapsed": false
   },
   "outputs": [],
   "source": [
    "mega_mega_df"
   ]
  },
  {
   "cell_type": "code",
   "execution_count": null,
   "metadata": {
    "collapsed": false,
    "scrolled": true
   },
   "outputs": [],
   "source": [
    "fold1_df = mega_mega_df.loc[mega_mega_df['fold #'] == 1]\n",
    "fold2_df = mega_mega_df.loc[mega_mega_df['fold #'] == 2]\n",
    "fold3_df = mega_mega_df.loc[mega_mega_df['fold #'] == 3]\n",
    "fold4_df = mega_mega_df.loc[mega_mega_df['fold #'] == 4]"
   ]
  },
  {
   "cell_type": "code",
   "execution_count": null,
   "metadata": {
    "collapsed": false
   },
   "outputs": [],
   "source": [
    "plt.plot(fold1_df['penalty_x'], fold1_df['# nonzero u weights'],'bo', label=\"Fold 1\")\n",
    "plt.plot(fold2_df['penalty_x'], fold2_df['# nonzero u weights'],'ro', label=\"Fold 2\")\n",
    "plt.plot(fold3_df['penalty_x'], fold3_df['# nonzero u weights'],'go', label=\"Fold 3\")\n",
    "plt.plot(fold4_df['penalty_x'], fold4_df['# nonzero u weights'],'yo', label=\"Fold 4\")\n",
    "plt.ylabel(\"Number of Nonzero U weights\")\n",
    "plt.xlabel(\"Regularization penalty on U\")\n",
    "plt.legend(loc = 'best')"
   ]
  },
  {
   "cell_type": "code",
   "execution_count": null,
   "metadata": {
    "collapsed": false
   },
   "outputs": [],
   "source": [
    "plt.plot(fold1_df['penalty_z'], fold1_df['# nonzero v weights'],'bo', label=\"Fold 1\")\n",
    "plt.plot(fold2_df['penalty_z'], fold2_df['# nonzero v weights'],'ro', label=\"Fold 2\")\n",
    "plt.plot(fold3_df['penalty_z'], fold3_df['# nonzero v weights'],'go', label=\"Fold 3\")\n",
    "plt.plot(fold4_df['penalty_z'], fold4_df['# nonzero v weights'],'yo', label=\"Fold 4\")\n",
    "# plt.ylim([0,11000])\n",
    "plt.ylabel(\"Number of Nonzero V weights\")\n",
    "plt.xlabel(\"Regularization penalty on Z\")\n",
    "plt.legend(loc = 'best')"
   ]
  },
  {
   "cell_type": "code",
   "execution_count": null,
   "metadata": {
    "collapsed": false
   },
   "outputs": [],
   "source": [
    "fold4_df"
   ]
  },
  {
   "cell_type": "code",
   "execution_count": null,
   "metadata": {
    "collapsed": true
   },
   "outputs": [],
   "source": []
  }
 ],
 "metadata": {
  "anaconda-cloud": {},
  "kernelspec": {
   "display_name": "Python [conda root]",
   "language": "python",
   "name": "conda-root-py"
  },
  "language_info": {
   "codemirror_mode": {
    "name": "ipython",
    "version": 2
   },
   "file_extension": ".py",
   "mimetype": "text/x-python",
   "name": "python",
   "nbconvert_exporter": "python",
   "pygments_lexer": "ipython2",
   "version": "2.7.12"
  }
 },
 "nbformat": 4,
 "nbformat_minor": 1
}
