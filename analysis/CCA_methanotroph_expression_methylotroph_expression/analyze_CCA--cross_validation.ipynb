{
 "cells": [
  {
   "cell_type": "markdown",
   "metadata": {},
   "source": [
    "## Cross-validation of sparse CCA\n",
    "\n",
    "Predict expression of methylotrophy genes from methanotrophy genes.  Previously pooled on species.\n",
    "\n",
    "First, run: ../notebooks/prepare_data/prepare_X_m_expression_Y_nmm_expression_Xval.ipynb\n",
    "\n",
    "That fills /Users/janet/ML_meta-omics/data/cross_val_data"
   ]
  },
  {
   "cell_type": "code",
   "execution_count": null,
   "metadata": {
    "collapsed": true
   },
   "outputs": [],
   "source": [
    "import pandas as pd"
   ]
  },
  {
   "cell_type": "code",
   "execution_count": null,
   "metadata": {
    "collapsed": false
   },
   "outputs": [],
   "source": [
    "import matplotlib as mpl\n",
    "import matplotlib\n",
    "matplotlib.use('Agg')\n",
    "%matplotlib inline\n",
    "import matplotlib.pyplot as plt\n",
    "import numpy as np\n",
    "import os\n",
    "import pandas as pd\n",
    "import re\n",
    "import seaborn as sns\n",
    "import subprocess"
   ]
  },
  {
   "cell_type": "code",
   "execution_count": null,
   "metadata": {
    "collapsed": false
   },
   "outputs": [],
   "source": [
    "! ls ../../data/cross_val_data/"
   ]
  },
  {
   "cell_type": "code",
   "execution_count": null,
   "metadata": {
    "collapsed": true
   },
   "outputs": [],
   "source": [
    "import os"
   ]
  },
  {
   "cell_type": "code",
   "execution_count": null,
   "metadata": {
    "collapsed": false
   },
   "outputs": [],
   "source": [
    "xval_filenames = os.listdir('../../data/cross_val_data/')"
   ]
  },
  {
   "cell_type": "code",
   "execution_count": null,
   "metadata": {
    "collapsed": false
   },
   "outputs": [],
   "source": [
    "xval_filenames[0]"
   ]
  },
  {
   "cell_type": "code",
   "execution_count": null,
   "metadata": {
    "collapsed": true
   },
   "outputs": [],
   "source": [
    "def find_Xval_group(string):\n",
    "    m = re.search('[_A-z]+fold([0-9]+)[._A-z]+', string)\n",
    "    return m.group(1)\n",
    "    "
   ]
  },
  {
   "cell_type": "code",
   "execution_count": null,
   "metadata": {
    "collapsed": false
   },
   "outputs": [],
   "source": [
    "find_Xval_group(xval_filenames[0])"
   ]
  },
  {
   "cell_type": "code",
   "execution_count": null,
   "metadata": {
    "collapsed": false
   },
   "outputs": [],
   "source": [
    "groups = list(set([find_Xval_group(f) for f in xval_filenames]))\n",
    "groups"
   ]
  },
  {
   "cell_type": "code",
   "execution_count": null,
   "metadata": {
    "collapsed": false
   },
   "outputs": [],
   "source": [
    "xval_filenames"
   ]
  },
  {
   "cell_type": "code",
   "execution_count": null,
   "metadata": {
    "collapsed": false
   },
   "outputs": [],
   "source": [
    "[f for f in xval_filenames if 'methanotroph' in f and \"fold3\" + \"_train\" in f]"
   ]
  },
  {
   "cell_type": "code",
   "execution_count": null,
   "metadata": {
    "collapsed": true
   },
   "outputs": [],
   "source": [
    "def get_filename(string, fold, train=True):\n",
    "    if train:\n",
    "        suffix = '_train'\n",
    "    else:\n",
    "        suffix = '_val'\n",
    "    filename_candidates = [f for f in xval_filenames\n",
    "                           if string in f and \"fold\" + str(fold) + suffix in f]\n",
    "    assert len(filename_candidates) == 1\n",
    "    return filename_candidates[0]"
   ]
  },
  {
   "cell_type": "code",
   "execution_count": null,
   "metadata": {
    "collapsed": false
   },
   "outputs": [],
   "source": [
    "get_filename('methanotroph', 3, train=True)"
   ]
  },
  {
   "cell_type": "code",
   "execution_count": null,
   "metadata": {
    "collapsed": false
   },
   "outputs": [],
   "source": [
    "get_filename('methylotroph', 3, train=True)"
   ]
  },
  {
   "cell_type": "code",
   "execution_count": null,
   "metadata": {
    "collapsed": false
   },
   "outputs": [],
   "source": [
    "summary = pd.DataFrame()\n",
    "\n",
    "for fold in groups:\n",
    "    print('fold: {}'.format(fold))\n",
    "    row = {}\n",
    "    row['m filename, train'] = [get_filename('methanotroph', fold, train=True)]\n",
    "    row['m filename, val'] = [get_filename('methanotroph', fold, train=False)]\n",
    "    row['nmm filename, test'] = [get_filename('methylotroph', fold, train=True)]\n",
    "    row['nmm filename, val'] = [get_filename('methylotroph', fold, train=False)]\n",
    "    df = pd.DataFrame.from_dict(row)\n",
    "    #print(df)\n",
    "    summary = pd.concat([summary, df], axis=0)\n",
    "summary"
   ]
  },
  {
   "cell_type": "code",
   "execution_count": null,
   "metadata": {
    "collapsed": false
   },
   "outputs": [],
   "source": [
    "assert False"
   ]
  },
  {
   "cell_type": "code",
   "execution_count": null,
   "metadata": {
    "collapsed": false,
    "scrolled": true
   },
   "outputs": [],
   "source": [
    "for fold in groups:\n",
    "    fold_string = \"fold\" + fold\n",
    "    print(fold_string)\n",
    "    \n",
    "    # get the methanotrophy filename\n",
    "    m_filename = [f for f in xval_filenames \n",
    "                  if 'methanotroph' in f and fold_string + \"_train\" in f]\n",
    "    assert len(m_filename) == 1\n",
    "    m_filename = m_filename[0]\n",
    "    m_train = []\n",
    "for filename in os.listdir('../../data/cross_val_data/'):\n",
    "    fold = \n",
    "    if filename.endswith(\".asm\") or filename.endswith(\".py\"):"
   ]
  },
  {
   "cell_type": "code",
   "execution_count": null,
   "metadata": {
    "collapsed": false
   },
   "outputs": [],
   "source": [
    "only_8_weights = True\n",
    "\n",
    "if only_8_weights:\n",
    "    u = pd.read_csv('./results/u_penalties_0_03-0_02.csv')\n",
    "    v = pd.read_csv('./results/v_penalties_0_03-0_02.csv')\n",
    "else:\n",
    "    u = pd.read_csv('./results/u.csv')\n",
    "    v = pd.read_csv('./results/v.csv')"
   ]
  },
  {
   "cell_type": "code",
   "execution_count": null,
   "metadata": {
    "collapsed": false
   },
   "outputs": [],
   "source": [
    "u.head()"
   ]
  },
  {
   "cell_type": "code",
   "execution_count": null,
   "metadata": {
    "collapsed": false
   },
   "outputs": [],
   "source": [
    "v.head()"
   ]
  },
  {
   "cell_type": "code",
   "execution_count": null,
   "metadata": {
    "collapsed": false
   },
   "outputs": [],
   "source": [
    "methanotroph_names = \\\n",
    "    pd.read_csv('../../data/m_nmm_expression--sum_by_gene/methanotroph_gene_names.tsv',\n",
    "               sep='\\t', header=None)\n",
    "methanotroph_names.head()"
   ]
  },
  {
   "cell_type": "code",
   "execution_count": null,
   "metadata": {
    "collapsed": false
   },
   "outputs": [],
   "source": [
    "methylotroph_names = \\\n",
    "    pd.read_csv('../../data/m_nmm_expression--sum_by_gene/methylotroph_gene_names.tsv',\n",
    "               sep='\\t', header=None)\n",
    "methylotroph_names.head()"
   ]
  },
  {
   "cell_type": "code",
   "execution_count": null,
   "metadata": {
    "collapsed": false
   },
   "outputs": [],
   "source": [
    "u.shape"
   ]
  },
  {
   "cell_type": "code",
   "execution_count": null,
   "metadata": {
    "collapsed": false
   },
   "outputs": [],
   "source": [
    "methanotroph_names.shape"
   ]
  },
  {
   "cell_type": "code",
   "execution_count": null,
   "metadata": {
    "collapsed": false
   },
   "outputs": [],
   "source": [
    "m = pd.concat([methanotroph_names, u], axis=1)\n",
    "m.rename(columns={'V1':'weight'}, inplace=True)\n",
    "m['abs(weight)'] = m.weight.abs()\n",
    "m\n",
    "m.shape"
   ]
  },
  {
   "cell_type": "code",
   "execution_count": null,
   "metadata": {
    "collapsed": false
   },
   "outputs": [],
   "source": [
    "nmm = pd.concat([methylotroph_names, v], axis=1)\n",
    "nmm.rename(columns={'V1':'weight'}, inplace=True)\n",
    "nmm['abs(weight)'] = nmm.weight.abs()\n",
    "nmm.shape"
   ]
  },
  {
   "cell_type": "code",
   "execution_count": null,
   "metadata": {
    "collapsed": false
   },
   "outputs": [],
   "source": [
    "m.head()"
   ]
  },
  {
   "cell_type": "code",
   "execution_count": null,
   "metadata": {
    "collapsed": false
   },
   "outputs": [],
   "source": [
    "m = m.sort_values(by='abs(weight)', ascending=False)\n",
    "m.head(10)"
   ]
  },
  {
   "cell_type": "code",
   "execution_count": null,
   "metadata": {
    "collapsed": false
   },
   "outputs": [],
   "source": [
    "nmm = nmm.sort_values(by='abs(weight)', ascending=False)\n",
    "nmm.head(10)"
   ]
  },
  {
   "cell_type": "code",
   "execution_count": null,
   "metadata": {
    "collapsed": true
   },
   "outputs": [],
   "source": []
  },
  {
   "cell_type": "code",
   "execution_count": null,
   "metadata": {
    "collapsed": true
   },
   "outputs": [],
   "source": []
  }
 ],
 "metadata": {
  "anaconda-cloud": {},
  "kernelspec": {
   "display_name": "Python [conda env:mlproj]",
   "language": "python",
   "name": "conda-env-mlproj-py"
  },
  "language_info": {
   "codemirror_mode": {
    "name": "ipython",
    "version": 2
   },
   "file_extension": ".py",
   "mimetype": "text/x-python",
   "name": "python",
   "nbconvert_exporter": "python",
   "pygments_lexer": "ipython2",
   "version": "2.7.12"
  }
 },
 "nbformat": 4,
 "nbformat_minor": 1
}
