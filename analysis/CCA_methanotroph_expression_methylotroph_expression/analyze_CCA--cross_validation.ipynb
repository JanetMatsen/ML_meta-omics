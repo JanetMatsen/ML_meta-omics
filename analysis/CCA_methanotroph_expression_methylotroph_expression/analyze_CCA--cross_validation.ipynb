{
 "cells": [
  {
   "cell_type": "markdown",
   "metadata": {},
   "source": [
    "## Cross-validation of sparse CCA\n",
    "\n",
    "Predict expression of methylotrophy genes from methanotrophy genes.  Previously pooled on species.\n",
    "\n",
    "First, run: ../notebooks/prepare_data/prepare_X_m_expression_Y_nmm_expression_Xval.ipynb\n",
    "\n",
    "That fills /Users/janet/ML_meta-omics/data/cross_val_data"
   ]
  },
  {
   "cell_type": "code",
   "execution_count": null,
   "metadata": {
    "collapsed": false
   },
   "outputs": [],
   "source": [
    "import sys\n",
    "assert sys.version_info.major == 2, \"python version is {}\".format(sys.version_info.major)\n",
    "print(sys.version)"
   ]
  },
  {
   "cell_type": "code",
   "execution_count": null,
   "metadata": {
    "collapsed": false
   },
   "outputs": [],
   "source": [
    "import pandas as pd"
   ]
  },
  {
   "cell_type": "code",
   "execution_count": null,
   "metadata": {
    "collapsed": false
   },
   "outputs": [],
   "source": [
    "import matplotlib as mpl\n",
    "import matplotlib\n",
    "matplotlib.use('Agg')\n",
    "%matplotlib inline\n",
    "import matplotlib.pyplot as plt\n",
    "import numpy as np\n",
    "import os\n",
    "import pandas as pd\n",
    "import re\n",
    "import seaborn as sns\n",
    "import subprocess\n",
    "import sys"
   ]
  },
  {
   "cell_type": "code",
   "execution_count": null,
   "metadata": {
    "collapsed": false
   },
   "outputs": [],
   "source": [
    "print(sys.version)"
   ]
  },
  {
   "cell_type": "code",
   "execution_count": null,
   "metadata": {
    "collapsed": false
   },
   "outputs": [],
   "source": [
    "sys.path.append('../../code/')\n",
    "\n",
    "from CCA import CcaAnalysis, ExpressionCCA\n",
    "from cross_validate import CrossValCCA"
   ]
  },
  {
   "cell_type": "code",
   "execution_count": null,
   "metadata": {
    "collapsed": false
   },
   "outputs": [],
   "source": [
    "raw_data_path = '../../data/cross_val_data/'\n",
    "os.listdir(raw_data_path)\n",
    "xval_filenames = [f for f in os.listdir(raw_data_path) if '.tsv' in f]  # get rid of non-TSV files"
   ]
  },
  {
   "cell_type": "code",
   "execution_count": null,
   "metadata": {
    "collapsed": false
   },
   "outputs": [],
   "source": [
    "def find_Xval_group(string):\n",
    "    m = re.search('[_A-z]+fold([0-9]+)[._A-z]+', string)\n",
    "    return int(m.group(1))\n",
    "\n",
    "groups = list(set([find_Xval_group(f) for f in xval_filenames]))\n",
    "groups"
   ]
  },
  {
   "cell_type": "code",
   "execution_count": null,
   "metadata": {
    "collapsed": false
   },
   "outputs": [],
   "source": [
    "def get_filename(strings_list, fold, train=True):\n",
    "    raw_data_path = '../../data/cross_val_data/'\n",
    "    xval_filenames = os.listdir(raw_data_path)\n",
    "    \n",
    "    potential_files = [f for f in xval_filenames\n",
    "                       if \"fold\" + str(fold) in f]\n",
    "    #print(\"There are {} potential files\".format(len(potential_files)))\n",
    "    \n",
    "    for s in strings_list:\n",
    "        potential_files = [f for f in potential_files if s in f]\n",
    "        \n",
    "    assert len(potential_files) == 1, \"too many file name matches in {}\".format(potential_files)\n",
    "    \n",
    "    #print(\"file names found: {}\".format(potential_files))\n",
    "    return potential_files[0]"
   ]
  },
  {
   "cell_type": "code",
   "execution_count": null,
   "metadata": {
    "collapsed": false
   },
   "outputs": [],
   "source": [
    "get_filename(['methanotroph', 'train', 'filtered', 'ss'], fold=1, train=True)"
   ]
  },
  {
   "cell_type": "code",
   "execution_count": null,
   "metadata": {
    "collapsed": false
   },
   "outputs": [],
   "source": [
    "[1] + [2, 3, 4]"
   ]
  },
  {
   "cell_type": "code",
   "execution_count": null,
   "metadata": {
    "collapsed": false
   },
   "outputs": [],
   "source": [
    "summary = pd.DataFrame()\n",
    "\n",
    "for fold in groups:\n",
    "    file_specs = ['filtered', 'ss']\n",
    "    #print('fold: {}'.format(fold))\n",
    "    row = {}\n",
    "    row['k'] = fold\n",
    "    row['m filename, train'] = get_filename(['methanotroph', 'train'] + file_specs, fold)\n",
    "    row['m filename, val'] = get_filename(['methanotroph', 'val'] + file_specs, fold)\n",
    "    row['nmm filename, train'] = get_filename(['methylotroph', 'train'] + file_specs, fold)\n",
    "    row['nmm filename, val'] = get_filename(['methylotroph', 'val'] + file_specs, fold)\n",
    "    row['gene names'] = get_filename(['methylotroph', 'genes'] + file_specs, fold)\n",
    "    \n",
    "    # make a dataframe row\n",
    "    row = {k:[v] for k, v in row.items()}\n",
    "    df = pd.DataFrame.from_dict(row)\n",
    "    #print(df)\n",
    "    summary = pd.concat([summary, df], axis=0)\n",
    "summary"
   ]
  },
  {
   "cell_type": "markdown",
   "metadata": {},
   "source": [
    "### Run sparse CCA on each of these training sets"
   ]
  },
  {
   "cell_type": "markdown",
   "metadata": {},
   "source": [
    "Start by demo of one set:"
   ]
  },
  {
   "cell_type": "code",
   "execution_count": null,
   "metadata": {
    "collapsed": false
   },
   "outputs": [],
   "source": [
    "summary.head(1)"
   ]
  },
  {
   "cell_type": "code",
   "execution_count": null,
   "metadata": {
    "collapsed": false
   },
   "outputs": [],
   "source": [
    "uv_dir = './crossvalidation_u_and_v_vectors/'\n",
    "if not os.path.exists(uv_dir):\n",
    "    os.mkdir(uv_dir)"
   ]
  },
  {
   "cell_type": "code",
   "execution_count": null,
   "metadata": {
    "collapsed": false
   },
   "outputs": [],
   "source": [
    "os.listdir(uv_dir)[0:4]"
   ]
  },
  {
   "cell_type": "code",
   "execution_count": null,
   "metadata": {
    "collapsed": false
   },
   "outputs": [],
   "source": [
    "cv = CrossValCCA(raw_data_path = '../../data/cross_val_data/', \n",
    "                 uv_dir = './crossvalidation_u_and_v_vectors',\n",
    "                 input_filepath='../../data/cross_val_data/',\n",
    "                 path_to_R_script='../../code/sparse_CCA.R' # default value,\n",
    "                )"
   ]
  },
  {
   "cell_type": "code",
   "execution_count": null,
   "metadata": {
    "collapsed": false
   },
   "outputs": [],
   "source": [
    "def run_CCA(summary_df, groups, pen_x, pen_z, verbose=False):\n",
    "    \n",
    "    for group in groups:\n",
    "        fold_results = {}\n",
    "        \n",
    "        row = summary_df[summary_df['k'] == group]\n",
    "        assert row.shape[0] == 1\n",
    "        \n",
    "        def prepare_filepath(set):\n",
    "            filename = row[set][0]\n",
    "            return os.path.join(raw_data_path, filename)\n",
    "        \n",
    "        x_filepath = prepare_filepath('m filename, train')\n",
    "        print('x_filepath: {}'.format(x_filepath))\n",
    "        z_filepath = prepare_filepath('nmm filename, train')\n",
    "        print('z_filepath: {}'.format(z_filepath))\n",
    "        x_val_filepath = prepare_filepath('m filename, val')\n",
    "        print('x_val_filepath: {}'.format(x_val_filepath))\n",
    "        z_val_filepath = prepare_filepath('nmm filename, val')\n",
    "        print('z_val_filepath: {}'.format(z_val_filepath))\n",
    "        gene_name_filepath = prepare_filepath('gene names')\n",
    "        print('gene_name_filepath: {}'.format(gene_name_filepath))\n",
    "        \n",
    "        cv.model(x_train_filepath=x_filepath,\n",
    "                 z_train_filepath=z_filepath, \n",
    "                 pen_x = pen_x, \n",
    "                 pen_z = pen_z,\n",
    "                 x_val_filepath = x_val_filepath, \n",
    "                 z_val_filepath = z_val_filepath, \n",
    "                 gene_name_filepath = gene_name_filepath,\n",
    "                 verbose=False)"
   ]
  },
  {
   "cell_type": "code",
   "execution_count": null,
   "metadata": {
    "collapsed": false
   },
   "outputs": [],
   "source": [
    "# The best control is zero penalty.  Should give one nonzero weight. \n",
    "run_CCA(summary_df=summary, groups=[1], pen_x=0., pen_z=0., verbose=True)"
   ]
  },
  {
   "cell_type": "code",
   "execution_count": null,
   "metadata": {
    "collapsed": false
   },
   "outputs": [],
   "source": [
    "run_CCA(summary_df=summary, groups=[1], pen_x=0.04, pen_z=0.03, verbose=True)"
   ]
  },
  {
   "cell_type": "code",
   "execution_count": null,
   "metadata": {
    "collapsed": false
   },
   "outputs": [],
   "source": [
    "cv.results"
   ]
  },
  {
   "cell_type": "code",
   "execution_count": null,
   "metadata": {
    "collapsed": false
   },
   "outputs": [],
   "source": [
    "assert False"
   ]
  },
  {
   "cell_type": "raw",
   "metadata": {},
   "source": [
    "for m in cv.models['model']:\n",
    "    print(m)\n",
    "    print(m.summary)\n",
    "    m.plot_projections()  # if we add a filename, it saves"
   ]
  },
  {
   "cell_type": "code",
   "execution_count": null,
   "metadata": {
    "collapsed": false
   },
   "outputs": [],
   "source": []
  },
  {
   "cell_type": "code",
   "execution_count": null,
   "metadata": {
    "collapsed": false
   },
   "outputs": [],
   "source": [
    "prep_df_row(results_1[2].summary)"
   ]
  },
  {
   "cell_type": "code",
   "execution_count": null,
   "metadata": {
    "collapsed": false
   },
   "outputs": [],
   "source": [
    "def combine_info(results, verbose=False):\n",
    "    mega_df = pd.DataFrame()\n",
    "\n",
    "    for model_num in results.keys():\n",
    "        model = results[model_num]\n",
    "        summary_dict = model.get_summary()\n",
    "        df_row = prep_df_row(summary_dict)\n",
    "        df_row['fold #'] = model_num\n",
    "        df_row['pen_x'] = model.penalty_x\n",
    "        df_row['pen_z'] = model.penalty_z\n",
    "        \n",
    "        if verbose:\n",
    "            print(\"df_row: {}\".format(df_row))\n",
    "        mega_df = pd.concat([mega_df, df_row])\n",
    "        \n",
    "    return mega_df"
   ]
  },
  {
   "cell_type": "code",
   "execution_count": null,
   "metadata": {
    "collapsed": false
   },
   "outputs": [],
   "source": [
    "results_2 = run_CCA(summary, groups, pen_x=0.01, pen_z=0.01)"
   ]
  },
  {
   "cell_type": "code",
   "execution_count": null,
   "metadata": {
    "collapsed": false
   },
   "outputs": [],
   "source": [
    "for n, c in results_1.items():\n",
    "    print(\"--- {} ---\".format(n))\n",
    "    c.summarise()\n",
    "    print(c.summary)\n",
    "    #c.plot_projections(filename='projection_for_set_{}.pdf'.format(n))"
   ]
  },
  {
   "cell_type": "code",
   "execution_count": null,
   "metadata": {
    "collapsed": false
   },
   "outputs": [],
   "source": [
    "i1 = combine_info(results_1)\n",
    "i2 = combine_info(results_2)"
   ]
  },
  {
   "cell_type": "code",
   "execution_count": null,
   "metadata": {
    "collapsed": false
   },
   "outputs": [],
   "source": [
    "pd.concat([i1, i2])"
   ]
  },
  {
   "cell_type": "markdown",
   "metadata": {
    "collapsed": true
   },
   "source": [
    "## Hyperparameter tuning for 4-fold cross-val"
   ]
  },
  {
   "cell_type": "code",
   "execution_count": null,
   "metadata": {
    "collapsed": true
   },
   "outputs": [],
   "source": [
    "penx_vals = np.linspace(0, 0.01, num=4, endpoint=False)\n",
    "penz_vals = np.linspace(0, 0.01, num=4, endpoint=False)"
   ]
  },
  {
   "cell_type": "code",
   "execution_count": null,
   "metadata": {
    "collapsed": false
   },
   "outputs": [],
   "source": [
    "print('pen_x values:'+ str(penx_vals))\n",
    "print('pen_z values:'+ str(penz_vals))"
   ]
  },
  {
   "cell_type": "code",
   "execution_count": null,
   "metadata": {
    "collapsed": true
   },
   "outputs": [],
   "source": [
    "models = {}\n",
    "Xval_summary = pd.DataFrame()\n",
    "\n",
    "def cross_validate(pen_x, pen_z):\n",
    "    print(\"Computing results for pen_x = \" + str(pen_x) + \" and pen_z = \" + str(pen_z))\n",
    "    results = run_CCA(summary, groups, pen_x = penx, pen_z = penz)\n",
    "    summary_df = pd.concat([mega_mega_df, combine_info(results, verbose=True)])\n",
    "    models[(pen_x, pen_z)] = run_CCA"
   ]
  },
  {
   "cell_type": "code",
   "execution_count": null,
   "metadata": {
    "collapsed": false
   },
   "outputs": [],
   "source": [
    "mega_mega_df = pd.DataFrame()\n",
    "\n",
    "for penx in penx_vals:\n",
    "    for penz in penz_vals:\n",
    "        print(\"Computing results for penx = \" + str(penx) + \" and penz = \" + str(penz) + \"...\")\n",
    "        results = run_CCA(summary, groups, pen_x = penx, pen_z = penz)\n",
    "        mega_mega_df = pd.concat([mega_mega_df, combine_info(results, verbose=True)])\n",
    "        "
   ]
  },
  {
   "cell_type": "code",
   "execution_count": null,
   "metadata": {
    "collapsed": false
   },
   "outputs": [],
   "source": [
    "mega_mega_df"
   ]
  },
  {
   "cell_type": "code",
   "execution_count": null,
   "metadata": {
    "collapsed": false,
    "scrolled": true
   },
   "outputs": [],
   "source": [
    "fold1_df = mega_mega_df.loc[mega_mega_df['fold #'] == 1]\n",
    "fold2_df = mega_mega_df.loc[mega_mega_df['fold #'] == 2]\n",
    "fold3_df = mega_mega_df.loc[mega_mega_df['fold #'] == 3]\n",
    "fold4_df = mega_mega_df.loc[mega_mega_df['fold #'] == 4]"
   ]
  },
  {
   "cell_type": "code",
   "execution_count": null,
   "metadata": {
    "collapsed": false
   },
   "outputs": [],
   "source": [
    "plt.plot(fold1_df['pen_x'], fold1_df['# nonzero u weights'],'bo', label=\"Fold 1\")\n",
    "plt.plot(fold2_df['pen_x'], fold2_df['# nonzero u weights'],'ro', label=\"Fold 2\")\n",
    "plt.plot(fold3_df['pen_x'], fold3_df['# nonzero u weights'],'go', label=\"Fold 3\")\n",
    "plt.plot(fold4_df['pen_x'], fold4_df['# nonzero u weights'],'yo', label=\"Fold 4\")\n",
    "plt.ylabel(\"Number of Nonzero U weights\")\n",
    "plt.xlabel(\"Regularization penalty on U\")\n",
    "plt.legend(loc = 'best')"
   ]
  },
  {
   "cell_type": "code",
   "execution_count": null,
   "metadata": {
    "collapsed": false
   },
   "outputs": [],
   "source": [
    "plt.plot(fold1_df['pen_z'], fold1_df['# nonzero v weights'],'bo', label=\"Fold 1\")\n",
    "plt.plot(fold2_df['pen_z'], fold2_df['# nonzero v weights'],'ro', label=\"Fold 2\")\n",
    "plt.plot(fold3_df['pen_z'], fold3_df['# nonzero v weights'],'go', label=\"Fold 3\")\n",
    "plt.plot(fold4_df['pen_z'], fold4_df['# nonzero v weights'],'yo', label=\"Fold 4\")\n",
    "# plt.ylim([0,11000])\n",
    "plt.ylabel(\"Number of Nonzero V weights\")\n",
    "plt.xlabel(\"Regularization penalty on Z\")\n",
    "plt.legend(loc = 'best')"
   ]
  },
  {
   "cell_type": "code",
   "execution_count": null,
   "metadata": {
    "collapsed": false
   },
   "outputs": [],
   "source": [
    "fold4_df"
   ]
  },
  {
   "cell_type": "code",
   "execution_count": null,
   "metadata": {
    "collapsed": true
   },
   "outputs": [],
   "source": []
  }
 ],
 "metadata": {
  "anaconda-cloud": {},
  "kernelspec": {
   "display_name": "Python [conda env:mlproj]",
   "language": "python",
   "name": "conda-env-mlproj-py"
  },
  "language_info": {
   "codemirror_mode": {
    "name": "ipython",
    "version": 2
   },
   "file_extension": ".py",
   "mimetype": "text/x-python",
   "name": "python",
   "nbconvert_exporter": "python",
   "pygments_lexer": "ipython2",
   "version": "2.7.12"
  }
 },
 "nbformat": 4,
 "nbformat_minor": 1
}
