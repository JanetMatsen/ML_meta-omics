{
 "cells": [
  {
   "cell_type": "markdown",
   "metadata": {},
   "source": [
    "First, run: ../notebooks/prepare_data/prepare_X_m_expression_Y_nmm_expression.ipynb\n",
    "\n",
    "That fills ML_meta-omics/data/m_nmm_expression--sum_by_gene\n",
    "\n",
    "Then run the R script: \n",
    "ML_meta-omics/analysis/CCA_methanotroph_expression_methylotroph_expression/sparcse_CCA_X_m_expression_Y_nmm_abundance.R"
   ]
  },
  {
   "cell_type": "code",
   "execution_count": null,
   "metadata": {
    "collapsed": true
   },
   "outputs": [],
   "source": [
    "import pandas as pd"
   ]
  },
  {
   "cell_type": "code",
   "execution_count": null,
   "metadata": {
    "collapsed": false
   },
   "outputs": [],
   "source": [
    "u = pd.read_csv('./results/u.csv')\n",
    "v = pd.read_csv('./results/v.csv')"
   ]
  },
  {
   "cell_type": "code",
   "execution_count": null,
   "metadata": {
    "collapsed": false
   },
   "outputs": [],
   "source": [
    "u.head()"
   ]
  },
  {
   "cell_type": "code",
   "execution_count": null,
   "metadata": {
    "collapsed": false
   },
   "outputs": [],
   "source": [
    "v.head()"
   ]
  },
  {
   "cell_type": "code",
   "execution_count": null,
   "metadata": {
    "collapsed": false
   },
   "outputs": [],
   "source": [
    "methanotroph_names = \\\n",
    "    pd.read_csv('../../data/m_nmm_expression--sum_by_gene/methanotroph_gene_names.tsv',\n",
    "               sep='\\t')\n",
    "methanotroph_names.head()"
   ]
  },
  {
   "cell_type": "code",
   "execution_count": null,
   "metadata": {
    "collapsed": false
   },
   "outputs": [],
   "source": [
    "methylotroph_names = \\\n",
    "    pd.read_csv('../../data/m_nmm_expression--sum_by_gene/methylotroph_gene_names.tsv',\n",
    "               sep='\\t')\n",
    "methylotroph_names.head()"
   ]
  },
  {
   "cell_type": "code",
   "execution_count": null,
   "metadata": {
    "collapsed": false
   },
   "outputs": [],
   "source": [
    "u.shape"
   ]
  },
  {
   "cell_type": "code",
   "execution_count": null,
   "metadata": {
    "collapsed": false
   },
   "outputs": [],
   "source": [
    "methanotroph_names.shape"
   ]
  },
  {
   "cell_type": "code",
   "execution_count": null,
   "metadata": {
    "collapsed": false
   },
   "outputs": [],
   "source": [
    "m = pd.concat([methanotroph_names, u], axis=1)\n",
    "m.rename(columns={'V1':'weight'}, inplace=True)\n",
    "m['abs(weight)'] = m.weight.abs()\n",
    "m\n",
    "m.shape"
   ]
  },
  {
   "cell_type": "code",
   "execution_count": null,
   "metadata": {
    "collapsed": false
   },
   "outputs": [],
   "source": [
    "nmm = pd.concat([methylotroph_names, v], axis=1)\n",
    "nmm.rename(columns={'V1':'weight'}, inplace=True)\n",
    "nmm['abs(weight)'] = nmm.weight.abs()\n",
    "nmm.shape"
   ]
  },
  {
   "cell_type": "code",
   "execution_count": null,
   "metadata": {
    "collapsed": false
   },
   "outputs": [],
   "source": [
    "m.head()"
   ]
  },
  {
   "cell_type": "code",
   "execution_count": null,
   "metadata": {
    "collapsed": false
   },
   "outputs": [],
   "source": [
    "m = m.sort_values(by='abs(weight)', ascending=False)\n",
    "m.head()"
   ]
  },
  {
   "cell_type": "code",
   "execution_count": null,
   "metadata": {
    "collapsed": false
   },
   "outputs": [],
   "source": [
    "nmm = nmm.sort_values(by='abs(weight)', ascending=False)\n",
    "nmm.head()"
   ]
  }
 ],
 "metadata": {
  "anaconda-cloud": {},
  "kernelspec": {
   "display_name": "Python [conda env:mlproj]",
   "language": "python",
   "name": "conda-env-mlproj-py"
  },
  "language_info": {
   "codemirror_mode": {
    "name": "ipython",
    "version": 2
   },
   "file_extension": ".py",
   "mimetype": "text/x-python",
   "name": "python",
   "nbconvert_exporter": "python",
   "pygments_lexer": "ipython2",
   "version": "2.7.12"
  }
 },
 "nbformat": 4,
 "nbformat_minor": 1
}
