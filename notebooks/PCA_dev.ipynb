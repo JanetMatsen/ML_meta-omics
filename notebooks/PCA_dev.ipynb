{
 "cells": [
  {
   "cell_type": "code",
   "execution_count": null,
   "metadata": {
    "collapsed": false
   },
   "outputs": [],
   "source": [
    "import sys\n",
    "print(sys.version)"
   ]
  },
  {
   "cell_type": "code",
   "execution_count": null,
   "metadata": {
    "collapsed": false
   },
   "outputs": [],
   "source": [
    "import math\n",
    "import matplotlib as mpl\n",
    "import matplotlib.pyplot as plt\n",
    "import numpy as np\n",
    "import pandas as pd\n",
    "import seaborn as sns\n",
    "from sklearn.decomposition import PCA\n",
    "%matplotlib inline"
   ]
  },
  {
   "cell_type": "markdown",
   "metadata": {},
   "source": [
    "https://github.com/JanetMatsen/elvizAnalysis/blob/dc568af7ed589410bf9612ba5ec7ccf257e87d1e/elviz_pca.py"
   ]
  },
  {
   "cell_type": "markdown",
   "metadata": {},
   "source": [
    "http://scikit-learn.org/stable/modules/generated/sklearn.decomposition.PCA.html"
   ]
  },
  {
   "cell_type": "code",
   "execution_count": null,
   "metadata": {
    "collapsed": true
   },
   "outputs": [],
   "source": [
    "sample_info = pd.read_csv('../data/sample_info.tsv', sep='\\t')"
   ]
  },
  {
   "cell_type": "code",
   "execution_count": null,
   "metadata": {
    "collapsed": false
   },
   "outputs": [],
   "source": [
    "sample_info.head()"
   ]
  },
  {
   "cell_type": "code",
   "execution_count": null,
   "metadata": {
    "collapsed": false
   },
   "outputs": [],
   "source": [
    "all_X = pd.read_csv('../data/raw_data/3_summary_rpkm_byGeneProuct.xls', sep = '\\t')\n",
    "all_X.head(2)"
   ]
  },
  {
   "cell_type": "code",
   "execution_count": null,
   "metadata": {
    "collapsed": false
   },
   "outputs": [],
   "source": [
    "all_X.shape"
   ]
  },
  {
   "cell_type": "code",
   "execution_count": null,
   "metadata": {
    "collapsed": false
   },
   "outputs": [],
   "source": [
    "X = all_X.drop(['product'], axis=1).T\n",
    "X.head()"
   ]
  },
  {
   "cell_type": "code",
   "execution_count": null,
   "metadata": {
    "collapsed": false
   },
   "outputs": [],
   "source": [
    "X.reset_index(inplace=True)"
   ]
  },
  {
   "cell_type": "code",
   "execution_count": null,
   "metadata": {
    "collapsed": true
   },
   "outputs": [],
   "source": [
    "X = X.rename(columns={'index':'sample'})"
   ]
  },
  {
   "cell_type": "code",
   "execution_count": null,
   "metadata": {
    "collapsed": false
   },
   "outputs": [],
   "source": [
    "X.head()"
   ]
  },
  {
   "cell_type": "code",
   "execution_count": null,
   "metadata": {
    "collapsed": false
   },
   "outputs": [],
   "source": [
    "X.head(3)"
   ]
  },
  {
   "cell_type": "code",
   "execution_count": null,
   "metadata": {
    "collapsed": true
   },
   "outputs": [],
   "source": [
    "X_counts = X.drop('sample', axis=1)"
   ]
  },
  {
   "cell_type": "code",
   "execution_count": null,
   "metadata": {
    "collapsed": false
   },
   "outputs": [],
   "source": [
    "X_counts.head(2)"
   ]
  },
  {
   "cell_type": "code",
   "execution_count": null,
   "metadata": {
    "collapsed": false
   },
   "outputs": [],
   "source": [
    "pca = PCA()\n",
    "pca.fit(X_counts)"
   ]
  },
  {
   "cell_type": "code",
   "execution_count": null,
   "metadata": {
    "collapsed": false
   },
   "outputs": [],
   "source": [
    "variances = pd.DataFrame({'explained variance':pca.explained_variance_ratio_, \n",
    "                          'component':range(len(pca.explained_variance_ratio_))})"
   ]
  },
  {
   "cell_type": "code",
   "execution_count": null,
   "metadata": {
    "collapsed": false
   },
   "outputs": [],
   "source": [
    "np.set_printoptions(formatter={'float_kind':'{:f}'.format})"
   ]
  },
  {
   "cell_type": "code",
   "execution_count": null,
   "metadata": {
    "collapsed": false
   },
   "outputs": [],
   "source": [
    "variances.head()"
   ]
  },
  {
   "cell_type": "code",
   "execution_count": null,
   "metadata": {
    "collapsed": false
   },
   "outputs": [],
   "source": [
    "pca.explained_variance_ratio_"
   ]
  },
  {
   "cell_type": "code",
   "execution_count": null,
   "metadata": {
    "collapsed": false
   },
   "outputs": [],
   "source": [
    "variances.plot.scatter(x='component', y='explained variance')"
   ]
  },
  {
   "cell_type": "code",
   "execution_count": null,
   "metadata": {
    "collapsed": true
   },
   "outputs": [],
   "source": [
    "transformed_X = pca.transform(X_counts)"
   ]
  },
  {
   "cell_type": "code",
   "execution_count": null,
   "metadata": {
    "collapsed": false
   },
   "outputs": [],
   "source": [
    "transformed_X.shape"
   ]
  },
  {
   "cell_type": "code",
   "execution_count": null,
   "metadata": {
    "collapsed": false
   },
   "outputs": [],
   "source": [
    "type(transformed_X)"
   ]
  },
  {
   "cell_type": "code",
   "execution_count": null,
   "metadata": {
    "collapsed": true
   },
   "outputs": [],
   "source": [
    "result = pd.DataFrame(transformed_X)"
   ]
  },
  {
   "cell_type": "code",
   "execution_count": null,
   "metadata": {
    "collapsed": false
   },
   "outputs": [],
   "source": [
    "result.head(2)"
   ]
  },
  {
   "cell_type": "code",
   "execution_count": null,
   "metadata": {
    "collapsed": false
   },
   "outputs": [],
   "source": [
    "X_2D = pd.DataFrame({'direction 1': transformed_X[:, 0],\n",
    "                    'direction 2': transformed_X[:, 1]})"
   ]
  },
  {
   "cell_type": "code",
   "execution_count": null,
   "metadata": {
    "collapsed": false
   },
   "outputs": [],
   "source": [
    "print(X_2D.shape)\n",
    "X_2D.head()"
   ]
  },
  {
   "cell_type": "code",
   "execution_count": null,
   "metadata": {
    "collapsed": false
   },
   "outputs": [],
   "source": [
    "X_2D = pd.concat([X_2D, pd.DataFrame({'sample': X['sample']})], axis=1)"
   ]
  },
  {
   "cell_type": "code",
   "execution_count": null,
   "metadata": {
    "collapsed": false
   },
   "outputs": [],
   "source": [
    "X_2D.head(2)"
   ]
  },
  {
   "cell_type": "code",
   "execution_count": null,
   "metadata": {
    "collapsed": false
   },
   "outputs": [],
   "source": [
    "sample_info.head(2)"
   ]
  },
  {
   "cell_type": "code",
   "execution_count": null,
   "metadata": {
    "collapsed": false
   },
   "outputs": [],
   "source": [
    "X_2D = X_2D.merge(sample_info, left_on = 'sample', right_on = 'ID')"
   ]
  },
  {
   "cell_type": "code",
   "execution_count": null,
   "metadata": {
    "collapsed": false
   },
   "outputs": [],
   "source": [
    "X_2D.head(3)"
   ]
  },
  {
   "cell_type": "code",
   "execution_count": null,
   "metadata": {
    "collapsed": false
   },
   "outputs": [],
   "source": [
    "X_2D.plot.scatter(x='direction 1', y='direction 2')"
   ]
  },
  {
   "cell_type": "code",
   "execution_count": null,
   "metadata": {
    "collapsed": true
   },
   "outputs": [],
   "source": [
    "def build_color_palette(num_items, weeks_before_switch):\n",
    "    num_pre_switch_colors = weeks_before_switch\n",
    "    num_post_switch_colors = num_items - num_pre_switch_colors\n",
    "    print('preparing colors for {} pre-oxygen-switch'.format(\n",
    "        num_pre_switch_colors),\n",
    "          'samples and {} post-switch samples'\n",
    "          .format(num_post_switch_colors))\n",
    "\n",
    "    # get the first colors from this pallete:\n",
    "    pre_switch_colors = \\\n",
    "        sns.cubehelix_palette(11, start=.5, rot=-.75)[0:num_pre_switch_colors]\n",
    "    print(pre_switch_colors)\n",
    "\n",
    "    # get post-switch colors here:\n",
    "    # post_switch_colors = sns.diverging_palette(220, 20,\n",
    "    # n=6)[::-1][0:num_post_switch_colors]\n",
    "    post_switch_colors = \\\n",
    "        sns.color_palette(\"coolwarm\", num_post_switch_colors)\n",
    "    # sns.light_palette(\"navy\", reverse=True)[0:num_post_switch_colors]\n",
    "    rgb_colors = pre_switch_colors + post_switch_colors\n",
    "    sns.palplot(rgb_colors)\n",
    "\n",
    "    # check that we got the right amount\n",
    "    print(num_items)\n",
    "    assert (num_items == len(rgb_colors))\n",
    "    print(\"\")\n",
    "    return rgb_colors"
   ]
  },
  {
   "cell_type": "code",
   "execution_count": null,
   "metadata": {
    "collapsed": false
   },
   "outputs": [],
   "source": [
    "X_2D.head(3)"
   ]
  },
  {
   "cell_type": "code",
   "execution_count": null,
   "metadata": {
    "collapsed": false
   },
   "outputs": [],
   "source": [
    "def plot_pca_results(plot_data, variances, facet_row=True, uniform_axes=True,\n",
    "                     main_dir='./', plot_dir='./plots/',\n",
    "                     savefig=False, figsize=None):\n",
    "    \n",
    "    # prepare axis labels, which also serve as dataframe column names.\n",
    "    x_axis_label = 'principal component 1 ({0:.0%})'.format(variances[0])\n",
    "    y_axis_label = 'principal component 2 ({0:.0%})'.format(variances[1])\n",
    "    plot_data = plot_data.rename(columns={'direction 1':x_axis_label})\n",
    "    plot_data = plot_data.rename(columns={'direction 2':y_axis_label})\n",
    "    \n",
    "\n",
    "    # define a custom color palette using:\n",
    "    # Conditions were seized at week ten, so seven early samples in\n",
    "    # the original condition and four latest samples in an alternative\n",
    "    # condition.\n",
    "    color_palette = build_color_palette(num_items=14 - 4 + 1,\n",
    "                                        weeks_before_switch=7)\n",
    "    # color_palette = sns.cubehelix_palette(11, start=.5, rot=-.75)\n",
    "\n",
    "    # update matplotlib params for bigger fonts, ticks:\n",
    "    mpl.rcParams.update({\n",
    "        'font.size': 16, 'axes.titlesize': 17, 'axes.labelsize': 15,\n",
    "        'xtick.labelsize': 10, 'ytick.labelsize': 13,\n",
    "        'font.weight': 600,\n",
    "        'axes.labelweight': 600, 'axes.titleweight': 600})\n",
    "    # Plot with Seaborn\n",
    "    if facet_row:\n",
    "        if figsize is not None:\n",
    "            print('warning: figsize not used if using facet_row')\n",
    "        plt.figure(figsize=(4, 8))\n",
    "    else:\n",
    "        if figsize is not None:\n",
    "            print('setting figure size to {}'.format(figsize))\n",
    "            plt.figure(figsize=figsize)\n",
    "        else:\n",
    "            plt.figure(figsize=(6, 12))\n",
    "    sns.set(style=\"ticks\")\n",
    "\n",
    "    # prepare the max and min axes values if we are forcing them to same range\n",
    "    pc_colnames = [col for col in plot_data.columns\n",
    "                   if 'principal component' in col]\n",
    "\n",
    "    max_value = plot_data[pc_colnames].max(axis=0).max()\n",
    "    min_value = plot_data[pc_colnames].min(axis=0).min()\n",
    "\n",
    "    axis_max = math.ceil(max_value * 100) / 100.0\n",
    "    axis_min = math.floor(min_value * 100) / 100.0\n",
    "\n",
    "    def base_plot(**kwargs):\n",
    "        plot = sns.FacetGrid(plot_data,\n",
    "                             hue='week', palette=color_palette,\n",
    "                             size=3, aspect=1,\n",
    "                             **kwargs)\n",
    "        plot = (plot.map(plt.scatter, x_axis_label, y_axis_label,\n",
    "                         edgecolor=\"w\", s=60).add_legend())\n",
    "        return plot\n",
    "\n",
    "    plot_args = {}\n",
    "\n",
    "    if facet_row:\n",
    "        plot_args['row'] = 'oxy'\n",
    "        plot_args['col'] = 'rep'\n",
    "    if uniform_axes:\n",
    "        plot_args['xlim'] = (axis_min, axis_max)\n",
    "        plot_args['ylim'] = (axis_min, axis_max)\n",
    "\n",
    "    if len(plot_args) > 0:\n",
    "        print(plot_args)\n",
    "    \n",
    "    g = base_plot(**plot_args)\n",
    "\n",
    "    #filename = concat_dir_and_filename(\n",
    "    #    plot_dir, 'pca_of_top_{}_percent--'.format(top_percent))\n",
    "    filename = 'plot'\n",
    "\n",
    "    # prepare a filename, depending on whether all taxonomy or only genus\n",
    "    # is used.\n",
    "    if uniform_axes:\n",
    "        filename += '_unif_axes_'\n",
    "    if facet_row:\n",
    "        filename += '--faceted.pdf'\n",
    "    else:\n",
    "        filename += '.pdf'\n",
    "\n",
    "    if savefig:\n",
    "        g.fig.savefig(filename)"
   ]
  },
  {
   "cell_type": "code",
   "execution_count": null,
   "metadata": {
    "collapsed": false
   },
   "outputs": [],
   "source": [
    "plot_pca_results(plot_data = X_2D, variances = pca.explained_variance_ratio_, \n",
    "                 facet_row=True, uniform_axes=True)"
   ]
  },
  {
   "cell_type": "code",
   "execution_count": null,
   "metadata": {
    "collapsed": false
   },
   "outputs": [],
   "source": [
    "plot_pca_results(plot_data = X_2D, variances = pca.explained_variance_ratio_, \n",
    "                 facet_row=False, uniform_axes=True)"
   ]
  },
  {
   "cell_type": "code",
   "execution_count": null,
   "metadata": {
    "collapsed": false
   },
   "outputs": [],
   "source": [
    "plot_pca_results(plot_data = X_2D, variances = pca.explained_variance_ratio_, \n",
    "                 facet_row=False, uniform_axes=False, figsize=(20, 6))"
   ]
  },
  {
   "cell_type": "code",
   "execution_count": null,
   "metadata": {
    "collapsed": true
   },
   "outputs": [],
   "source": []
  }
 ],
 "metadata": {
  "anaconda-cloud": {},
  "kernelspec": {
   "display_name": "Python [conda env:mlproj]",
   "language": "python",
   "name": "conda-env-mlproj-py"
  },
  "language_info": {
   "codemirror_mode": {
    "name": "ipython",
    "version": 2
   },
   "file_extension": ".py",
   "mimetype": "text/x-python",
   "name": "python",
   "nbconvert_exporter": "python",
   "pygments_lexer": "ipython2",
   "version": "2.7.12"
  }
 },
 "nbformat": 4,
 "nbformat_minor": 1
}
