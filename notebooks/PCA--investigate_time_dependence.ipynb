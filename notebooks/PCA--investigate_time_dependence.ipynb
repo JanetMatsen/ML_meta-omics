{
 "cells": [
  {
   "cell_type": "code",
   "execution_count": 1,
   "metadata": {
    "collapsed": false
   },
   "outputs": [
    {
     "name": "stdout",
     "output_type": "stream",
     "text": [
      "2.7.12 |Continuum Analytics, Inc.| (default, Jul  2 2016, 17:43:17) \n",
      "[GCC 4.2.1 (Based on Apple Inc. build 5658) (LLVM build 2336.11.00)]\n"
     ]
    }
   ],
   "source": [
    "import sys\n",
    "print(sys.version)"
   ]
  },
  {
   "cell_type": "code",
   "execution_count": 2,
   "metadata": {
    "collapsed": false
   },
   "outputs": [],
   "source": [
    "import math\n",
    "import matplotlib as mpl\n",
    "import matplotlib.pyplot as plt\n",
    "import numpy as np\n",
    "import pandas as pd\n",
    "import seaborn as sns\n",
    "from sklearn.decomposition import PCA\n",
    "%matplotlib inline"
   ]
  },
  {
   "cell_type": "code",
   "execution_count": 3,
   "metadata": {
    "collapsed": true
   },
   "outputs": [],
   "source": [
    "sys.path.append(\"../code/\")"
   ]
  },
  {
   "cell_type": "code",
   "execution_count": 4,
   "metadata": {
    "collapsed": true
   },
   "outputs": [],
   "source": [
    "from pca import GenePCA, plot_pca_results"
   ]
  },
  {
   "cell_type": "markdown",
   "metadata": {},
   "source": [
    "https://github.com/JanetMatsen/elvizAnalysis/blob/dc568af7ed589410bf9612ba5ec7ccf257e87d1e/elviz_pca.py"
   ]
  },
  {
   "cell_type": "markdown",
   "metadata": {},
   "source": [
    "http://scikit-learn.org/stable/modules/generated/sklearn.decomposition.PCA.html"
   ]
  },
  {
   "cell_type": "code",
   "execution_count": 5,
   "metadata": {
    "collapsed": true
   },
   "outputs": [],
   "source": [
    "sample_info = pd.read_csv('../data/sample_info.tsv', sep='\\t')"
   ]
  },
  {
   "cell_type": "code",
   "execution_count": 6,
   "metadata": {
    "collapsed": false
   },
   "outputs": [
    {
     "data": {
      "text/html": [
       "<div>\n",
       "<table border=\"1\" class=\"dataframe\">\n",
       "  <thead>\n",
       "    <tr style=\"text-align: right;\">\n",
       "      <th></th>\n",
       "      <th>ID</th>\n",
       "      <th>oxy</th>\n",
       "      <th>rep</th>\n",
       "      <th>week</th>\n",
       "      <th>project</th>\n",
       "    </tr>\n",
       "  </thead>\n",
       "  <tbody>\n",
       "    <tr>\n",
       "      <th>0</th>\n",
       "      <td>1_LOW4</td>\n",
       "      <td>Low</td>\n",
       "      <td>1</td>\n",
       "      <td>4</td>\n",
       "      <td>1056013</td>\n",
       "    </tr>\n",
       "    <tr>\n",
       "      <th>1</th>\n",
       "      <td>13_LOW5</td>\n",
       "      <td>Low</td>\n",
       "      <td>1</td>\n",
       "      <td>5</td>\n",
       "      <td>1056037</td>\n",
       "    </tr>\n",
       "    <tr>\n",
       "      <th>2</th>\n",
       "      <td>25_LOW6</td>\n",
       "      <td>Low</td>\n",
       "      <td>1</td>\n",
       "      <td>6</td>\n",
       "      <td>1056061</td>\n",
       "    </tr>\n",
       "    <tr>\n",
       "      <th>3</th>\n",
       "      <td>37_LOW7</td>\n",
       "      <td>Low</td>\n",
       "      <td>1</td>\n",
       "      <td>7</td>\n",
       "      <td>1056085</td>\n",
       "    </tr>\n",
       "    <tr>\n",
       "      <th>4</th>\n",
       "      <td>49_LOW8</td>\n",
       "      <td>Low</td>\n",
       "      <td>1</td>\n",
       "      <td>8</td>\n",
       "      <td>1056109</td>\n",
       "    </tr>\n",
       "  </tbody>\n",
       "</table>\n",
       "</div>"
      ],
      "text/plain": [
       "        ID  oxy  rep  week  project\n",
       "0   1_LOW4  Low    1     4  1056013\n",
       "1  13_LOW5  Low    1     5  1056037\n",
       "2  25_LOW6  Low    1     6  1056061\n",
       "3  37_LOW7  Low    1     7  1056085\n",
       "4  49_LOW8  Low    1     8  1056109"
      ]
     },
     "execution_count": 6,
     "metadata": {},
     "output_type": "execute_result"
    }
   ],
   "source": [
    "sample_info.head()"
   ]
  },
  {
   "cell_type": "code",
   "execution_count": 7,
   "metadata": {
    "collapsed": false
   },
   "outputs": [
    {
     "data": {
      "text/html": [
       "<div>\n",
       "<table border=\"1\" class=\"dataframe\">\n",
       "  <thead>\n",
       "    <tr style=\"text-align: right;\">\n",
       "      <th></th>\n",
       "      <th>product</th>\n",
       "      <th>1_LOW4</th>\n",
       "      <th>2_LOW4</th>\n",
       "      <th>3_LOW4</th>\n",
       "      <th>4_LOW4</th>\n",
       "      <th>10_HOW4</th>\n",
       "      <th>7_HOW4</th>\n",
       "      <th>8_HOW4</th>\n",
       "      <th>9_HOW4</th>\n",
       "      <th>13_LOW5</th>\n",
       "      <th>...</th>\n",
       "      <th>118_HOW13</th>\n",
       "      <th>121_LOW14</th>\n",
       "      <th>122_LOW14</th>\n",
       "      <th>123_LOW14</th>\n",
       "      <th>124_LOW14</th>\n",
       "      <th>127_HOW14</th>\n",
       "      <th>128_HOW14</th>\n",
       "      <th>129_HOW14</th>\n",
       "      <th>130_HOW14</th>\n",
       "      <th>total_exp</th>\n",
       "    </tr>\n",
       "  </thead>\n",
       "  <tbody>\n",
       "    <tr>\n",
       "      <th>0</th>\n",
       "      <td>methane/ammonia monooxygenase subunit C</td>\n",
       "      <td>354033</td>\n",
       "      <td>235805</td>\n",
       "      <td>354945</td>\n",
       "      <td>226251</td>\n",
       "      <td>166528</td>\n",
       "      <td>170345</td>\n",
       "      <td>215993</td>\n",
       "      <td>92617</td>\n",
       "      <td>230044</td>\n",
       "      <td>...</td>\n",
       "      <td>244577</td>\n",
       "      <td>225369</td>\n",
       "      <td>244171</td>\n",
       "      <td>421624</td>\n",
       "      <td>253215</td>\n",
       "      <td>172145</td>\n",
       "      <td>139830</td>\n",
       "      <td>85559</td>\n",
       "      <td>274075</td>\n",
       "      <td>17548421</td>\n",
       "    </tr>\n",
       "    <tr>\n",
       "      <th>1</th>\n",
       "      <td>hypothetical protein</td>\n",
       "      <td>114331</td>\n",
       "      <td>156292</td>\n",
       "      <td>106832</td>\n",
       "      <td>161303</td>\n",
       "      <td>210150</td>\n",
       "      <td>159545</td>\n",
       "      <td>280128</td>\n",
       "      <td>183995</td>\n",
       "      <td>166600</td>\n",
       "      <td>...</td>\n",
       "      <td>133374</td>\n",
       "      <td>116598</td>\n",
       "      <td>156828</td>\n",
       "      <td>117131</td>\n",
       "      <td>166325</td>\n",
       "      <td>201734</td>\n",
       "      <td>188633</td>\n",
       "      <td>166096</td>\n",
       "      <td>179071</td>\n",
       "      <td>15309772</td>\n",
       "    </tr>\n",
       "  </tbody>\n",
       "</table>\n",
       "<p>2 rows × 85 columns</p>\n",
       "</div>"
      ],
      "text/plain": [
       "                                   product  1_LOW4  2_LOW4  3_LOW4  4_LOW4  \\\n",
       "0  methane/ammonia monooxygenase subunit C  354033  235805  354945  226251   \n",
       "1                     hypothetical protein  114331  156292  106832  161303   \n",
       "\n",
       "   10_HOW4  7_HOW4  8_HOW4  9_HOW4  13_LOW5    ...      118_HOW13  121_LOW14  \\\n",
       "0   166528  170345  215993   92617   230044    ...         244577     225369   \n",
       "1   210150  159545  280128  183995   166600    ...         133374     116598   \n",
       "\n",
       "   122_LOW14  123_LOW14  124_LOW14  127_HOW14  128_HOW14  129_HOW14  \\\n",
       "0     244171     421624     253215     172145     139830      85559   \n",
       "1     156828     117131     166325     201734     188633     166096   \n",
       "\n",
       "   130_HOW14  total_exp  \n",
       "0     274075   17548421  \n",
       "1     179071   15309772  \n",
       "\n",
       "[2 rows x 85 columns]"
      ]
     },
     "execution_count": 7,
     "metadata": {},
     "output_type": "execute_result"
    }
   ],
   "source": [
    "all_X = pd.read_csv('../data/raw_data/3_summary_rpkm_byGeneProuct.xls', sep = '\\t')\n",
    "all_X.head(2)"
   ]
  },
  {
   "cell_type": "code",
   "execution_count": 8,
   "metadata": {
    "collapsed": false
   },
   "outputs": [
    {
     "data": {
      "text/plain": [
       "(13891, 85)"
      ]
     },
     "execution_count": 8,
     "metadata": {},
     "output_type": "execute_result"
    }
   ],
   "source": [
    "all_X.shape"
   ]
  },
  {
   "cell_type": "code",
   "execution_count": 9,
   "metadata": {
    "collapsed": false
   },
   "outputs": [
    {
     "data": {
      "text/html": [
       "<div>\n",
       "<table border=\"1\" class=\"dataframe\">\n",
       "  <thead>\n",
       "    <tr style=\"text-align: right;\">\n",
       "      <th></th>\n",
       "      <th>0</th>\n",
       "      <th>1</th>\n",
       "      <th>2</th>\n",
       "      <th>3</th>\n",
       "      <th>4</th>\n",
       "      <th>5</th>\n",
       "      <th>6</th>\n",
       "      <th>7</th>\n",
       "      <th>8</th>\n",
       "      <th>9</th>\n",
       "      <th>...</th>\n",
       "      <th>13881</th>\n",
       "      <th>13882</th>\n",
       "      <th>13883</th>\n",
       "      <th>13884</th>\n",
       "      <th>13885</th>\n",
       "      <th>13886</th>\n",
       "      <th>13887</th>\n",
       "      <th>13888</th>\n",
       "      <th>13889</th>\n",
       "      <th>13890</th>\n",
       "    </tr>\n",
       "  </thead>\n",
       "  <tbody>\n",
       "    <tr>\n",
       "      <th>1_LOW4</th>\n",
       "      <td>354033</td>\n",
       "      <td>114331</td>\n",
       "      <td>150781</td>\n",
       "      <td>148758</td>\n",
       "      <td>2765</td>\n",
       "      <td>2330</td>\n",
       "      <td>153</td>\n",
       "      <td>160</td>\n",
       "      <td>3040</td>\n",
       "      <td>1523</td>\n",
       "      <td>...</td>\n",
       "      <td>0</td>\n",
       "      <td>0</td>\n",
       "      <td>0</td>\n",
       "      <td>0</td>\n",
       "      <td>0</td>\n",
       "      <td>0</td>\n",
       "      <td>0</td>\n",
       "      <td>0</td>\n",
       "      <td>0</td>\n",
       "      <td>0</td>\n",
       "    </tr>\n",
       "    <tr>\n",
       "      <th>2_LOW4</th>\n",
       "      <td>235805</td>\n",
       "      <td>156292</td>\n",
       "      <td>122485</td>\n",
       "      <td>100699</td>\n",
       "      <td>48</td>\n",
       "      <td>2679</td>\n",
       "      <td>64</td>\n",
       "      <td>10499</td>\n",
       "      <td>3483</td>\n",
       "      <td>1447</td>\n",
       "      <td>...</td>\n",
       "      <td>0</td>\n",
       "      <td>0</td>\n",
       "      <td>0</td>\n",
       "      <td>0</td>\n",
       "      <td>0</td>\n",
       "      <td>0</td>\n",
       "      <td>0</td>\n",
       "      <td>0</td>\n",
       "      <td>0</td>\n",
       "      <td>0</td>\n",
       "    </tr>\n",
       "    <tr>\n",
       "      <th>3_LOW4</th>\n",
       "      <td>354945</td>\n",
       "      <td>106832</td>\n",
       "      <td>165987</td>\n",
       "      <td>152442</td>\n",
       "      <td>198</td>\n",
       "      <td>1953</td>\n",
       "      <td>284</td>\n",
       "      <td>173</td>\n",
       "      <td>2556</td>\n",
       "      <td>2076</td>\n",
       "      <td>...</td>\n",
       "      <td>0</td>\n",
       "      <td>0</td>\n",
       "      <td>0</td>\n",
       "      <td>0</td>\n",
       "      <td>0</td>\n",
       "      <td>0</td>\n",
       "      <td>0</td>\n",
       "      <td>0</td>\n",
       "      <td>0</td>\n",
       "      <td>0</td>\n",
       "    </tr>\n",
       "    <tr>\n",
       "      <th>4_LOW4</th>\n",
       "      <td>226251</td>\n",
       "      <td>161303</td>\n",
       "      <td>95802</td>\n",
       "      <td>89220</td>\n",
       "      <td>389</td>\n",
       "      <td>1791</td>\n",
       "      <td>69</td>\n",
       "      <td>17535</td>\n",
       "      <td>5225</td>\n",
       "      <td>1587</td>\n",
       "      <td>...</td>\n",
       "      <td>0</td>\n",
       "      <td>0</td>\n",
       "      <td>0</td>\n",
       "      <td>0</td>\n",
       "      <td>0</td>\n",
       "      <td>0</td>\n",
       "      <td>0</td>\n",
       "      <td>0</td>\n",
       "      <td>0</td>\n",
       "      <td>0</td>\n",
       "    </tr>\n",
       "    <tr>\n",
       "      <th>10_HOW4</th>\n",
       "      <td>166528</td>\n",
       "      <td>210150</td>\n",
       "      <td>98993</td>\n",
       "      <td>63402</td>\n",
       "      <td>80</td>\n",
       "      <td>6316</td>\n",
       "      <td>1073</td>\n",
       "      <td>36995</td>\n",
       "      <td>12159</td>\n",
       "      <td>135</td>\n",
       "      <td>...</td>\n",
       "      <td>0</td>\n",
       "      <td>0</td>\n",
       "      <td>0</td>\n",
       "      <td>0</td>\n",
       "      <td>0</td>\n",
       "      <td>0</td>\n",
       "      <td>0</td>\n",
       "      <td>0</td>\n",
       "      <td>0</td>\n",
       "      <td>0</td>\n",
       "    </tr>\n",
       "  </tbody>\n",
       "</table>\n",
       "<p>5 rows × 13891 columns</p>\n",
       "</div>"
      ],
      "text/plain": [
       "          0       1       2       3      4      5      6      7      8      \\\n",
       "1_LOW4   354033  114331  150781  148758   2765   2330    153    160   3040   \n",
       "2_LOW4   235805  156292  122485  100699     48   2679     64  10499   3483   \n",
       "3_LOW4   354945  106832  165987  152442    198   1953    284    173   2556   \n",
       "4_LOW4   226251  161303   95802   89220    389   1791     69  17535   5225   \n",
       "10_HOW4  166528  210150   98993   63402     80   6316   1073  36995  12159   \n",
       "\n",
       "         9      ...    13881  13882  13883  13884  13885  13886  13887  13888  \\\n",
       "1_LOW4    1523  ...        0      0      0      0      0      0      0      0   \n",
       "2_LOW4    1447  ...        0      0      0      0      0      0      0      0   \n",
       "3_LOW4    2076  ...        0      0      0      0      0      0      0      0   \n",
       "4_LOW4    1587  ...        0      0      0      0      0      0      0      0   \n",
       "10_HOW4    135  ...        0      0      0      0      0      0      0      0   \n",
       "\n",
       "         13889  13890  \n",
       "1_LOW4       0      0  \n",
       "2_LOW4       0      0  \n",
       "3_LOW4       0      0  \n",
       "4_LOW4       0      0  \n",
       "10_HOW4      0      0  \n",
       "\n",
       "[5 rows x 13891 columns]"
      ]
     },
     "execution_count": 9,
     "metadata": {},
     "output_type": "execute_result"
    }
   ],
   "source": [
    "X = all_X.drop(['product'], axis=1).T\n",
    "X.head()"
   ]
  },
  {
   "cell_type": "code",
   "execution_count": 10,
   "metadata": {
    "collapsed": false
   },
   "outputs": [],
   "source": [
    "X.reset_index(inplace=True)"
   ]
  },
  {
   "cell_type": "code",
   "execution_count": 11,
   "metadata": {
    "collapsed": true
   },
   "outputs": [],
   "source": [
    "X = X.rename(columns={'index':'sample'})"
   ]
  },
  {
   "cell_type": "code",
   "execution_count": 12,
   "metadata": {
    "collapsed": false
   },
   "outputs": [
    {
     "data": {
      "text/html": [
       "<div>\n",
       "<table border=\"1\" class=\"dataframe\">\n",
       "  <thead>\n",
       "    <tr style=\"text-align: right;\">\n",
       "      <th></th>\n",
       "      <th>sample</th>\n",
       "      <th>0</th>\n",
       "      <th>1</th>\n",
       "      <th>2</th>\n",
       "      <th>3</th>\n",
       "      <th>4</th>\n",
       "      <th>5</th>\n",
       "      <th>6</th>\n",
       "      <th>7</th>\n",
       "      <th>8</th>\n",
       "      <th>...</th>\n",
       "      <th>13881</th>\n",
       "      <th>13882</th>\n",
       "      <th>13883</th>\n",
       "      <th>13884</th>\n",
       "      <th>13885</th>\n",
       "      <th>13886</th>\n",
       "      <th>13887</th>\n",
       "      <th>13888</th>\n",
       "      <th>13889</th>\n",
       "      <th>13890</th>\n",
       "    </tr>\n",
       "  </thead>\n",
       "  <tbody>\n",
       "    <tr>\n",
       "      <th>0</th>\n",
       "      <td>1_LOW4</td>\n",
       "      <td>354033</td>\n",
       "      <td>114331</td>\n",
       "      <td>150781</td>\n",
       "      <td>148758</td>\n",
       "      <td>2765</td>\n",
       "      <td>2330</td>\n",
       "      <td>153</td>\n",
       "      <td>160</td>\n",
       "      <td>3040</td>\n",
       "      <td>...</td>\n",
       "      <td>0</td>\n",
       "      <td>0</td>\n",
       "      <td>0</td>\n",
       "      <td>0</td>\n",
       "      <td>0</td>\n",
       "      <td>0</td>\n",
       "      <td>0</td>\n",
       "      <td>0</td>\n",
       "      <td>0</td>\n",
       "      <td>0</td>\n",
       "    </tr>\n",
       "    <tr>\n",
       "      <th>1</th>\n",
       "      <td>2_LOW4</td>\n",
       "      <td>235805</td>\n",
       "      <td>156292</td>\n",
       "      <td>122485</td>\n",
       "      <td>100699</td>\n",
       "      <td>48</td>\n",
       "      <td>2679</td>\n",
       "      <td>64</td>\n",
       "      <td>10499</td>\n",
       "      <td>3483</td>\n",
       "      <td>...</td>\n",
       "      <td>0</td>\n",
       "      <td>0</td>\n",
       "      <td>0</td>\n",
       "      <td>0</td>\n",
       "      <td>0</td>\n",
       "      <td>0</td>\n",
       "      <td>0</td>\n",
       "      <td>0</td>\n",
       "      <td>0</td>\n",
       "      <td>0</td>\n",
       "    </tr>\n",
       "    <tr>\n",
       "      <th>2</th>\n",
       "      <td>3_LOW4</td>\n",
       "      <td>354945</td>\n",
       "      <td>106832</td>\n",
       "      <td>165987</td>\n",
       "      <td>152442</td>\n",
       "      <td>198</td>\n",
       "      <td>1953</td>\n",
       "      <td>284</td>\n",
       "      <td>173</td>\n",
       "      <td>2556</td>\n",
       "      <td>...</td>\n",
       "      <td>0</td>\n",
       "      <td>0</td>\n",
       "      <td>0</td>\n",
       "      <td>0</td>\n",
       "      <td>0</td>\n",
       "      <td>0</td>\n",
       "      <td>0</td>\n",
       "      <td>0</td>\n",
       "      <td>0</td>\n",
       "      <td>0</td>\n",
       "    </tr>\n",
       "    <tr>\n",
       "      <th>3</th>\n",
       "      <td>4_LOW4</td>\n",
       "      <td>226251</td>\n",
       "      <td>161303</td>\n",
       "      <td>95802</td>\n",
       "      <td>89220</td>\n",
       "      <td>389</td>\n",
       "      <td>1791</td>\n",
       "      <td>69</td>\n",
       "      <td>17535</td>\n",
       "      <td>5225</td>\n",
       "      <td>...</td>\n",
       "      <td>0</td>\n",
       "      <td>0</td>\n",
       "      <td>0</td>\n",
       "      <td>0</td>\n",
       "      <td>0</td>\n",
       "      <td>0</td>\n",
       "      <td>0</td>\n",
       "      <td>0</td>\n",
       "      <td>0</td>\n",
       "      <td>0</td>\n",
       "    </tr>\n",
       "    <tr>\n",
       "      <th>4</th>\n",
       "      <td>10_HOW4</td>\n",
       "      <td>166528</td>\n",
       "      <td>210150</td>\n",
       "      <td>98993</td>\n",
       "      <td>63402</td>\n",
       "      <td>80</td>\n",
       "      <td>6316</td>\n",
       "      <td>1073</td>\n",
       "      <td>36995</td>\n",
       "      <td>12159</td>\n",
       "      <td>...</td>\n",
       "      <td>0</td>\n",
       "      <td>0</td>\n",
       "      <td>0</td>\n",
       "      <td>0</td>\n",
       "      <td>0</td>\n",
       "      <td>0</td>\n",
       "      <td>0</td>\n",
       "      <td>0</td>\n",
       "      <td>0</td>\n",
       "      <td>0</td>\n",
       "    </tr>\n",
       "  </tbody>\n",
       "</table>\n",
       "<p>5 rows × 13892 columns</p>\n",
       "</div>"
      ],
      "text/plain": [
       "    sample       0       1       2       3     4     5     6      7      8  \\\n",
       "0   1_LOW4  354033  114331  150781  148758  2765  2330   153    160   3040   \n",
       "1   2_LOW4  235805  156292  122485  100699    48  2679    64  10499   3483   \n",
       "2   3_LOW4  354945  106832  165987  152442   198  1953   284    173   2556   \n",
       "3   4_LOW4  226251  161303   95802   89220   389  1791    69  17535   5225   \n",
       "4  10_HOW4  166528  210150   98993   63402    80  6316  1073  36995  12159   \n",
       "\n",
       "   ...    13881  13882  13883  13884  13885  13886  13887  13888  13889  13890  \n",
       "0  ...        0      0      0      0      0      0      0      0      0      0  \n",
       "1  ...        0      0      0      0      0      0      0      0      0      0  \n",
       "2  ...        0      0      0      0      0      0      0      0      0      0  \n",
       "3  ...        0      0      0      0      0      0      0      0      0      0  \n",
       "4  ...        0      0      0      0      0      0      0      0      0      0  \n",
       "\n",
       "[5 rows x 13892 columns]"
      ]
     },
     "execution_count": 12,
     "metadata": {},
     "output_type": "execute_result"
    }
   ],
   "source": [
    "X.head()"
   ]
  },
  {
   "cell_type": "code",
   "execution_count": 13,
   "metadata": {
    "collapsed": false
   },
   "outputs": [],
   "source": [
    "SAMPLE_NAMES = X['sample']"
   ]
  },
  {
   "cell_type": "code",
   "execution_count": 14,
   "metadata": {
    "collapsed": true
   },
   "outputs": [],
   "source": [
    "X_counts = X.drop('sample', axis=1)"
   ]
  },
  {
   "cell_type": "code",
   "execution_count": 15,
   "metadata": {
    "collapsed": false
   },
   "outputs": [
    {
     "data": {
      "text/html": [
       "<div>\n",
       "<table border=\"1\" class=\"dataframe\">\n",
       "  <thead>\n",
       "    <tr style=\"text-align: right;\">\n",
       "      <th></th>\n",
       "      <th>0</th>\n",
       "      <th>1</th>\n",
       "      <th>2</th>\n",
       "      <th>3</th>\n",
       "      <th>4</th>\n",
       "      <th>5</th>\n",
       "      <th>6</th>\n",
       "      <th>7</th>\n",
       "      <th>8</th>\n",
       "      <th>9</th>\n",
       "      <th>...</th>\n",
       "      <th>13881</th>\n",
       "      <th>13882</th>\n",
       "      <th>13883</th>\n",
       "      <th>13884</th>\n",
       "      <th>13885</th>\n",
       "      <th>13886</th>\n",
       "      <th>13887</th>\n",
       "      <th>13888</th>\n",
       "      <th>13889</th>\n",
       "      <th>13890</th>\n",
       "    </tr>\n",
       "  </thead>\n",
       "  <tbody>\n",
       "    <tr>\n",
       "      <th>0</th>\n",
       "      <td>354033</td>\n",
       "      <td>114331</td>\n",
       "      <td>150781</td>\n",
       "      <td>148758</td>\n",
       "      <td>2765</td>\n",
       "      <td>2330</td>\n",
       "      <td>153</td>\n",
       "      <td>160</td>\n",
       "      <td>3040</td>\n",
       "      <td>1523</td>\n",
       "      <td>...</td>\n",
       "      <td>0</td>\n",
       "      <td>0</td>\n",
       "      <td>0</td>\n",
       "      <td>0</td>\n",
       "      <td>0</td>\n",
       "      <td>0</td>\n",
       "      <td>0</td>\n",
       "      <td>0</td>\n",
       "      <td>0</td>\n",
       "      <td>0</td>\n",
       "    </tr>\n",
       "    <tr>\n",
       "      <th>1</th>\n",
       "      <td>235805</td>\n",
       "      <td>156292</td>\n",
       "      <td>122485</td>\n",
       "      <td>100699</td>\n",
       "      <td>48</td>\n",
       "      <td>2679</td>\n",
       "      <td>64</td>\n",
       "      <td>10499</td>\n",
       "      <td>3483</td>\n",
       "      <td>1447</td>\n",
       "      <td>...</td>\n",
       "      <td>0</td>\n",
       "      <td>0</td>\n",
       "      <td>0</td>\n",
       "      <td>0</td>\n",
       "      <td>0</td>\n",
       "      <td>0</td>\n",
       "      <td>0</td>\n",
       "      <td>0</td>\n",
       "      <td>0</td>\n",
       "      <td>0</td>\n",
       "    </tr>\n",
       "  </tbody>\n",
       "</table>\n",
       "<p>2 rows × 13891 columns</p>\n",
       "</div>"
      ],
      "text/plain": [
       "    0       1       2       3      4      5      6      7      8      9      \\\n",
       "0  354033  114331  150781  148758   2765   2330    153    160   3040   1523   \n",
       "1  235805  156292  122485  100699     48   2679     64  10499   3483   1447   \n",
       "\n",
       "   ...    13881  13882  13883  13884  13885  13886  13887  13888  13889  13890  \n",
       "0  ...        0      0      0      0      0      0      0      0      0      0  \n",
       "1  ...        0      0      0      0      0      0      0      0      0      0  \n",
       "\n",
       "[2 rows x 13891 columns]"
      ]
     },
     "execution_count": 15,
     "metadata": {},
     "output_type": "execute_result"
    }
   ],
   "source": [
    "X_counts.head(2)"
   ]
  },
  {
   "cell_type": "code",
   "execution_count": 16,
   "metadata": {
    "collapsed": false
   },
   "outputs": [],
   "source": [
    "model = GenePCA(raw_x = X_counts, sample_names=SAMPLE_NAMES, sample_info=sample_info)"
   ]
  },
  {
   "cell_type": "code",
   "execution_count": 17,
   "metadata": {
    "collapsed": false
   },
   "outputs": [
    {
     "data": {
      "text/plain": [
       "pandas.core.series.Series"
      ]
     },
     "execution_count": 17,
     "metadata": {},
     "output_type": "execute_result"
    }
   ],
   "source": [
    "type(SAMPLE_NAMES)"
   ]
  },
  {
   "cell_type": "code",
   "execution_count": 18,
   "metadata": {
    "collapsed": false
   },
   "outputs": [
    {
     "name": "stdout",
     "output_type": "stream",
     "text": [
      "     direction 1    direction 2   sample       ID   oxy  rep  week  project\n",
      "0 -265169.926244  -94042.960859   1_LOW4   1_LOW4   Low    1     4  1056013\n",
      "1 -343408.079711  -29636.833256   2_LOW4   2_LOW4   Low    2     4  1056016\n",
      "2 -261193.389360 -105082.749215   3_LOW4   3_LOW4   Low    3     4  1056019\n",
      "3 -361551.070725  -14791.162293   4_LOW4   4_LOW4   Low    4     4  1056022\n",
      "4 -377935.299785   28510.401802  10_HOW4  10_HOW4  High    4     4  1056034\n"
     ]
    }
   ],
   "source": [
    "model.fit()"
   ]
  },
  {
   "cell_type": "code",
   "execution_count": 19,
   "metadata": {
    "collapsed": false
   },
   "outputs": [
    {
     "name": "stdout",
     "output_type": "stream",
     "text": [
      "('preparing colors for 7 pre-oxygen-switch', 'samples and 4 post-switch samples')\n",
      "[[0.8423298817793848, 0.8737404427964184, 0.7524954030731037], [0.7294791289837665, 0.828271237142885, 0.6624387159929747], [0.6081786671884791, 0.7816177694090097, 0.6017787295654944], [0.4926406966923403, 0.7267784825949665, 0.5693088339489007], [0.39493837953687966, 0.6591653753197486, 0.5567106633592679], [0.3256286372570367, 0.5824294714811111, 0.551260440725878], [0.2775060539006816, 0.4896743690748741, 0.5382978119096076]]\n",
      "11\n",
      "\n",
      "{'ylim': (-509215.64, 470267.94), 'col': 'rep', 'xlim': (-509215.64, 470267.94), 'row': 'oxy'}\n"
     ]
    },
    {
     "data": {
      "text/plain": [
       "<seaborn.axisgrid.FacetGrid at 0x10db92890>"
      ]
     },
     "execution_count": 19,
     "metadata": {},
     "output_type": "execute_result"
    },
    {
     "data": {
      "image/png": "[encoded data removed]",
      "text/plain": [
       "<matplotlib.figure.Figure at 0x10e6b8b50>"
      ]
     },
     "metadata": {},
     "output_type": "display_data"
    },
    {
     "data": {
      "text/plain": [
       "<matplotlib.figure.Figure at 0x10e869790>"
      ]
     },
     "metadata": {},
     "output_type": "display_data"
    },
    {
     "data": {
      "image/png": "[encoded data removed]",
      "text/plain": [
       "<matplotlib.figure.Figure at 0x10ea62550>"
      ]
     },
     "metadata": {},
     "output_type": "display_data"
    }
   ],
   "source": [
    "plot_pca_results(plot_data=model.plot_data, variances=model.explained_variance, \n",
    "                facet_row = True, uniform_axes=True)"
   ]
  },
  {
   "cell_type": "code",
   "execution_count": 20,
   "metadata": {
    "collapsed": false
   },
   "outputs": [
    {
     "name": "stdout",
     "output_type": "stream",
     "text": [
      "('preparing colors for 7 pre-oxygen-switch', 'samples and 4 post-switch samples')\n",
      "[[0.8423298817793848, 0.8737404427964184, 0.7524954030731037], [0.7294791289837665, 0.828271237142885, 0.6624387159929747], [0.6081786671884791, 0.7816177694090097, 0.6017787295654944], [0.4926406966923403, 0.7267784825949665, 0.5693088339489007], [0.39493837953687966, 0.6591653753197486, 0.5567106633592679], [0.3256286372570367, 0.5824294714811111, 0.551260440725878], [0.2775060539006816, 0.4896743690748741, 0.5382978119096076]]\n",
      "11\n",
      "\n"
     ]
    },
    {
     "data": {
      "image/png": "[encoded data removed]",
      "text/plain": [
       "<matplotlib.figure.Figure at 0x11953ced0>"
      ]
     },
     "metadata": {},
     "output_type": "display_data"
    },
    {
     "data": {
      "text/plain": [
       "<matplotlib.figure.Figure at 0x119aa27d0>"
      ]
     },
     "metadata": {},
     "output_type": "display_data"
    },
    {
     "data": {
      "image/png": "[encoded data removed]",
      "text/plain": [
       "<matplotlib.figure.Figure at 0x119ade990>"
      ]
     },
     "metadata": {},
     "output_type": "display_data"
    }
   ],
   "source": [
    "f = plot_pca_results(plot_data=model.plot_data, variances=model.explained_variance, \n",
    "                facet_row = False, uniform_axes=False, subplot_size=6)"
   ]
  },
  {
   "cell_type": "code",
   "execution_count": 21,
   "metadata": {
    "collapsed": false
   },
   "outputs": [],
   "source": [
    "f.savefig(\"../figures/161111_PCA.pdf\")"
   ]
  },
  {
   "cell_type": "code",
   "execution_count": null,
   "metadata": {
    "collapsed": true
   },
   "outputs": [],
   "source": []
  }
 ],
 "metadata": {
  "anaconda-cloud": {},
  "kernelspec": {
   "display_name": "Python [conda env:mlproj]",
   "language": "python",
   "name": "conda-env-mlproj-py"
  },
  "language_info": {
   "codemirror_mode": {
    "name": "ipython",
    "version": 2
   },
   "file_extension": ".py",
   "mimetype": "text/x-python",
   "name": "python",
   "nbconvert_exporter": "python",
   "pygments_lexer": "ipython2",
   "version": "2.7.12"
  }
 },
 "nbformat": 4,
 "nbformat_minor": 1
}
