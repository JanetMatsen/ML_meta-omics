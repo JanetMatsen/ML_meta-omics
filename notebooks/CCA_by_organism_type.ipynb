{
 "cells": [
  {
   "cell_type": "code",
   "execution_count": null,
   "metadata": {
    "collapsed": false
   },
   "outputs": [],
   "source": [
    "import numpy as np\n",
    "import scipy as sp\n",
    "import pandas as pd\n",
    "\n",
    "%matplotlib inline"
   ]
  },
  {
   "cell_type": "code",
   "execution_count": null,
   "metadata": {
    "collapsed": true
   },
   "outputs": [],
   "source": [
    "from sklearn.preprocessing import StandardScaler"
   ]
  },
  {
   "cell_type": "code",
   "execution_count": null,
   "metadata": {
    "collapsed": true
   },
   "outputs": [],
   "source": [
    "GENE_EXP_DATA = \"../data/raw_data/3_summary_rpkm.xls\""
   ]
  },
  {
   "cell_type": "code",
   "execution_count": null,
   "metadata": {
    "collapsed": true
   },
   "outputs": [],
   "source": [
    "## Create a pandas dataframe to hold the gene expression data\n",
    "meta4_exp = pd.read_csv(GENE_EXP_DATA, sep='\\t')"
   ]
  },
  {
   "cell_type": "markdown",
   "metadata": {},
   "source": [
    "Todo:\n",
    "* curate the list of organisms.  Methanotrophs vs methylotrophs?\n",
    "    * labels: methanotroph (m), non-methanotrophic methylotroph (nmm), heterotroph (h)\n",
    "* Does Standard Scalar make sense for this new problem?\n",
    "* Write method to aggregate separate dataframes based on a list of organism names\n",
    "* We don't get significance testing with CCA. What are we going to do that is quantitative?\n",
    "* What tool are we going to use for variable reduction?\n",
    "    * Use PCA or CCA components, or single genes' expression? \n",
    "    * What y are we going to predict? \n",
    "* How are we going to do k-fold cross validation?\n",
    "* Recall how multipl mappings were handled for this set."
   ]
  },
  {
   "cell_type": "code",
   "execution_count": null,
   "metadata": {
    "collapsed": false
   },
   "outputs": [],
   "source": [
    "# meta4_exp[['genome']].drop_duplicates().to_csv('../data/genomes.tsv', sep='\\t', index=False)"
   ]
  },
  {
   "cell_type": "code",
   "execution_count": null,
   "metadata": {
    "collapsed": true
   },
   "outputs": [],
   "source": [
    "genomes = pd.read_csv('../data/genomes_curated.tsv', sep='\\t')"
   ]
  },
  {
   "cell_type": "code",
   "execution_count": null,
   "metadata": {
    "collapsed": false
   },
   "outputs": [],
   "source": [
    "genomes.head()"
   ]
  },
  {
   "cell_type": "code",
   "execution_count": null,
   "metadata": {
    "collapsed": false,
    "scrolled": true
   },
   "outputs": [],
   "source": [
    "meta4_exp.head(5)"
   ]
  },
  {
   "cell_type": "code",
   "execution_count": null,
   "metadata": {
    "collapsed": false
   },
   "outputs": [],
   "source": [
    "meta4_exp.shape"
   ]
  },
  {
   "cell_type": "code",
   "execution_count": null,
   "metadata": {
    "collapsed": false
   },
   "outputs": [],
   "source": [
    "meta4_exp = meta4_exp.merge(genomes)"
   ]
  },
  {
   "cell_type": "code",
   "execution_count": null,
   "metadata": {
    "collapsed": false
   },
   "outputs": [],
   "source": [
    "meta4_methanotrophs = meta4_exp[meta4_exp['type'] == 'm']\n",
    "meta4_methanotrophs.shape"
   ]
  },
  {
   "cell_type": "code",
   "execution_count": null,
   "metadata": {
    "collapsed": false
   },
   "outputs": [],
   "source": [
    "meta4_methylotrophs = meta4_exp[meta4_exp['type'] == 'nmm']\n",
    "meta4_methylotrophs.shape"
   ]
  },
  {
   "cell_type": "code",
   "execution_count": null,
   "metadata": {
    "collapsed": false
   },
   "outputs": [],
   "source": [
    "meta4_heterotrophs = meta4_exp[meta4_exp['type'] == 'h']\n",
    "meta4_heterotrophs.shape"
   ]
  },
  {
   "cell_type": "code",
   "execution_count": null,
   "metadata": {
    "collapsed": true
   },
   "outputs": [],
   "source": [
    "assert meta4_exp.shape[0] == meta4_methanotrophs.shape[0] + meta4_methylotrophs.shape[0] + meta4_heterotrophs.shape[0]"
   ]
  },
  {
   "cell_type": "code",
   "execution_count": null,
   "metadata": {
    "collapsed": false
   },
   "outputs": [],
   "source": [
    "datasets = {'methanotrophs':meta4_methanotrophs, \n",
    "            'methylotrophs':meta4_methylotrophs, \n",
    "            'heterotrophs':meta4_heterotrophs}"
   ]
  },
  {
   "cell_type": "code",
   "execution_count": null,
   "metadata": {
    "collapsed": false
   },
   "outputs": [],
   "source": [
    "for name, df in datasets.items():\n",
    "    rows_before = df.shape[0]\n",
    "    df.drop(['type'], axis=1, inplace=True)\n",
    "    #print(df.head(2))\n",
    "    df = df.groupby(['product'], axis=0).sum()\n",
    "    rows_after = df.shape[0]\n",
    "    datasets[name] = df # ?? Why do I need this?\n",
    "    print('{}. # rows: {} --> {}'.format(name, rows_before, rows_after))\n",
    "    print(df.head(2))\n",
    "    print(\"\")\n",
    "    "
   ]
  },
  {
   "cell_type": "code",
   "execution_count": null,
   "metadata": {
    "collapsed": false
   },
   "outputs": [],
   "source": [
    "datasets['methanotrophs'].shape"
   ]
  },
  {
   "cell_type": "code",
   "execution_count": null,
   "metadata": {
    "collapsed": false
   },
   "outputs": [],
   "source": [
    "datasets['methanotrophs'].head(2)"
   ]
  },
  {
   "cell_type": "code",
   "execution_count": null,
   "metadata": {
    "collapsed": false
   },
   "outputs": [],
   "source": [
    "type(datasets)"
   ]
  },
  {
   "cell_type": "code",
   "execution_count": null,
   "metadata": {
    "collapsed": false
   },
   "outputs": [],
   "source": [
    "transformed_data = {}\n",
    "ss = StandardScaler()\n",
    "\n",
    "for name, df in datasets.items():\n",
    "    shape_before = df.shape\n",
    "    transformed = ss.fit_transform(df)\n",
    "    transformed = pd.DataFrame(transformed, columns = df.columns)\n",
    "    transformed.index = df.index\n",
    "    print('shape: {} --> {}'.format(shape_before, transformed.shape))\n",
    "    transformed_data[name] = transformed\n",
    "    \n",
    "    "
   ]
  },
  {
   "cell_type": "code",
   "execution_count": null,
   "metadata": {
    "collapsed": false
   },
   "outputs": [],
   "source": [
    "for df in transformed_data.values():\n",
    "    print(df.head(2))\n",
    "    print('----------------')"
   ]
  },
  {
   "cell_type": "code",
   "execution_count": null,
   "metadata": {
    "collapsed": true
   },
   "outputs": [],
   "source": [
    "from sklearn.cross_decomposition import CCA"
   ]
  },
  {
   "cell_type": "markdown",
   "metadata": {},
   "source": [
    "About CCA:\n",
    "* arguments: \n",
    "    * `sklearn.cross_decomposition.CCA(n_components=2, scale=True, max_iter=500, tol=1e-06, copy=True)`\n",
    "* scale appears to normalize the features by centering and giving each unit variance. \n",
    "    * https://github.com/scikit-learn/scikit-learn/blob/master/sklearn/cross_decomposition/pls_.py\n",
    "    * So maybe I didn't need to apply StandardScalar on my own..?"
   ]
  },
  {
   "cell_type": "code",
   "execution_count": null,
   "metadata": {
    "collapsed": true
   },
   "outputs": [],
   "source": [
    "cca = CCA(n_components=1)"
   ]
  },
  {
   "cell_type": "code",
   "execution_count": null,
   "metadata": {
    "collapsed": false
   },
   "outputs": [],
   "source": [
    "cca_fit = cca.fit(X=transformed_data['methanotrophs'].T, Y=transformed_data['methylotrophs'].T)"
   ]
  },
  {
   "cell_type": "code",
   "execution_count": null,
   "metadata": {
    "collapsed": false
   },
   "outputs": [],
   "source": [
    "cca_fit.x_weights_.shape"
   ]
  },
  {
   "cell_type": "code",
   "execution_count": null,
   "metadata": {
    "collapsed": false
   },
   "outputs": [],
   "source": [
    "cca_fit.y_weights_.shape"
   ]
  },
  {
   "cell_type": "code",
   "execution_count": null,
   "metadata": {
    "collapsed": false
   },
   "outputs": [],
   "source": [
    "transformed_data['methanotrophs'].shape"
   ]
  },
  {
   "cell_type": "code",
   "execution_count": null,
   "metadata": {
    "collapsed": true
   },
   "outputs": [],
   "source": [
    "methanotroph_weights = pd.DataFrame(cca_fit.x_weights_, index=transformed_data['methanotrophs'].index)"
   ]
  },
  {
   "cell_type": "code",
   "execution_count": null,
   "metadata": {
    "collapsed": false
   },
   "outputs": [],
   "source": [
    "methylotroph_weights = pd.DataFrame(cca_fit.y_weights_, index=transformed_data['methylotrophs'].index)"
   ]
  },
  {
   "cell_type": "code",
   "execution_count": null,
   "metadata": {
    "collapsed": false
   },
   "outputs": [],
   "source": [
    "methanotroph_weights.head(3)"
   ]
  },
  {
   "cell_type": "code",
   "execution_count": null,
   "metadata": {
    "collapsed": true
   },
   "outputs": [],
   "source": [
    "def summarise_weights(df):\n",
    "    df_sorted = df.reset_index()\n",
    "    print(df_sorted.columns)\n",
    "    df_sorted.rename(columns={0:'weight'}, inplace=True)\n",
    "    print(df_sorted.head(2))\n",
    "    print(df_sorted['weight'].abs().head())\n",
    "    df_sorted['abs(weight)'] = df_sorted['weight'].abs()\n",
    "    df_sorted.sort_values(by='abs(weight)', ascending=False, inplace=True)\n",
    "    return df_sorted"
   ]
  },
  {
   "cell_type": "code",
   "execution_count": null,
   "metadata": {
    "collapsed": false
   },
   "outputs": [],
   "source": [
    "methanotroph_weight_summary = summarise_weights(methanotroph_weights)"
   ]
  },
  {
   "cell_type": "code",
   "execution_count": null,
   "metadata": {
    "collapsed": false
   },
   "outputs": [],
   "source": [
    "methanotroph_weight_summary.head()"
   ]
  },
  {
   "cell_type": "code",
   "execution_count": null,
   "metadata": {
    "collapsed": false
   },
   "outputs": [],
   "source": [
    "methylotroph_weight_summary = summarise_weights(methylotroph_weights)\n",
    "methylotroph_weight_summary.head()"
   ]
  },
  {
   "cell_type": "code",
   "execution_count": null,
   "metadata": {
    "collapsed": false
   },
   "outputs": [],
   "source": [
    "methanotroph_weight_summary['abs(weight)'].plot.hist()"
   ]
  },
  {
   "cell_type": "code",
   "execution_count": null,
   "metadata": {
    "collapsed": false
   },
   "outputs": [],
   "source": [
    "methylotroph_weight_summary['abs(weight)'].plot.hist()"
   ]
  },
  {
   "cell_type": "code",
   "execution_count": null,
   "metadata": {
    "collapsed": true
   },
   "outputs": [],
   "source": []
  }
 ],
 "metadata": {
  "anaconda-cloud": {},
  "kernelspec": {
   "display_name": "Python [conda env:mlproj]",
   "language": "python",
   "name": "conda-env-mlproj-py"
  },
  "language_info": {
   "codemirror_mode": {
    "name": "ipython",
    "version": 2
   },
   "file_extension": ".py",
   "mimetype": "text/x-python",
   "name": "python",
   "nbconvert_exporter": "python",
   "pygments_lexer": "ipython2",
   "version": "2.7.12"
  }
 },
 "nbformat": 4,
 "nbformat_minor": 1
}
