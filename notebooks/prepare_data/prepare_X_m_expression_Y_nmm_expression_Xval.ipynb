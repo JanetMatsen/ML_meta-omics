{
 "cells": [
  {
   "cell_type": "code",
   "execution_count": null,
   "metadata": {
    "collapsed": false
   },
   "outputs": [],
   "source": [
    "import sys\n",
    "assert sys.version_info.major == 2, \"python version is {}\".format(sys.version_info.major)\n",
    "print(sys.version)"
   ]
  },
  {
   "cell_type": "code",
   "execution_count": null,
   "metadata": {
    "collapsed": false
   },
   "outputs": [],
   "source": [
    "import math\n",
    "import matplotlib as mpl\n",
    "import matplotlib\n",
    "matplotlib.use('Agg')\n",
    "%matplotlib inline\n",
    "import matplotlib.pyplot as plt\n",
    "import numpy as np\n",
    "import pandas as pd\n",
    "import seaborn as sns\n",
    "import subprocess"
   ]
  },
  {
   "cell_type": "code",
   "execution_count": null,
   "metadata": {
    "collapsed": true
   },
   "outputs": [],
   "source": [
    "sys.path.append('../../code/')"
   ]
  },
  {
   "cell_type": "code",
   "execution_count": null,
   "metadata": {
    "collapsed": true
   },
   "outputs": [],
   "source": [
    "from utils import split_df, aggregate_df"
   ]
  },
  {
   "cell_type": "code",
   "execution_count": null,
   "metadata": {
    "collapsed": false
   },
   "outputs": [],
   "source": [
    "# ! ls -l ../../data/genomes_curated.tsv"
   ]
  },
  {
   "cell_type": "code",
   "execution_count": null,
   "metadata": {
    "collapsed": false
   },
   "outputs": [],
   "source": [
    "# ! head ../../data/genomes_curated.tsv"
   ]
  },
  {
   "cell_type": "code",
   "execution_count": null,
   "metadata": {
    "collapsed": false
   },
   "outputs": [],
   "source": [
    "## Create a pandas dataframe to hold the gene expression data\n",
    "GENE_EXP_DATA = \"../../data/raw_data/3_summary_rpkm.xls\"\n",
    "meta4_exp = pd.read_csv(GENE_EXP_DATA, sep='\\t')\n",
    "genomes = pd.read_csv('../../data/genomes_curated.tsv', sep='\\t')"
   ]
  },
  {
   "cell_type": "code",
   "execution_count": null,
   "metadata": {
    "collapsed": false
   },
   "outputs": [],
   "source": [
    "meta4_exp = meta4_exp.merge(genomes)\n",
    "meta4_exp.head(3)"
   ]
  },
  {
   "cell_type": "code",
   "execution_count": null,
   "metadata": {
    "collapsed": false
   },
   "outputs": [],
   "source": [
    "split_by_type = split_df(meta4_exp, 'type')\n",
    "split_by_type.keys()"
   ]
  },
  {
   "cell_type": "code",
   "execution_count": null,
   "metadata": {
    "collapsed": false
   },
   "outputs": [],
   "source": [
    "split_by_type['m'].shape"
   ]
  },
  {
   "cell_type": "code",
   "execution_count": null,
   "metadata": {
    "collapsed": false
   },
   "outputs": [],
   "source": [
    "split_by_type['nmm'].shape"
   ]
  },
  {
   "cell_type": "code",
   "execution_count": null,
   "metadata": {
    "collapsed": false
   },
   "outputs": [],
   "source": [
    "methanotroph_expression = aggregate_df(split_by_type['m'], 'product', colnorm=False)\n",
    "methanotroph_expression.shape"
   ]
  },
  {
   "cell_type": "code",
   "execution_count": null,
   "metadata": {
    "collapsed": false
   },
   "outputs": [],
   "source": [
    "methanotroph_expression.head()"
   ]
  },
  {
   "cell_type": "code",
   "execution_count": null,
   "metadata": {
    "collapsed": false
   },
   "outputs": [],
   "source": [
    "methylotroph_expression = aggregate_df(split_by_type['nmm'], 'product', colnorm=False)\n",
    "methylotroph_expression.shape"
   ]
  },
  {
   "cell_type": "markdown",
   "metadata": {},
   "source": [
    "Remove rows with zero variance.  R's CCA function won't tolerate them."
   ]
  },
  {
   "cell_type": "code",
   "execution_count": null,
   "metadata": {
    "collapsed": false
   },
   "outputs": [],
   "source": [
    "methanotroph_expression.shape"
   ]
  },
  {
   "cell_type": "code",
   "execution_count": null,
   "metadata": {
    "collapsed": false
   },
   "outputs": [],
   "source": [
    "methanotroph_expression = \\\n",
    "    methanotroph_expression.loc[methanotroph_expression.std(axis=1) > 0.001, :]"
   ]
  },
  {
   "cell_type": "code",
   "execution_count": null,
   "metadata": {
    "collapsed": false
   },
   "outputs": [],
   "source": [
    "methanotroph_expression.shape"
   ]
  },
  {
   "cell_type": "code",
   "execution_count": null,
   "metadata": {
    "collapsed": false
   },
   "outputs": [],
   "source": [
    "print(methylotroph_expression.shape)\n",
    "methylotroph_expression = \\\n",
    "    methylotroph_expression.loc[methylotroph_expression.std(axis=1) > 0.001, :]\n",
    "print(methylotroph_expression.shape)"
   ]
  },
  {
   "cell_type": "code",
   "execution_count": null,
   "metadata": {
    "collapsed": false
   },
   "outputs": [],
   "source": [
    "methanotroph_expression.head()"
   ]
  },
  {
   "cell_type": "code",
   "execution_count": null,
   "metadata": {
    "collapsed": false
   },
   "outputs": [],
   "source": [
    "# ! mkdir ../../data/m_nmm_expression--sum_by_gene"
   ]
  },
  {
   "cell_type": "code",
   "execution_count": null,
   "metadata": {
    "collapsed": false
   },
   "outputs": [],
   "source": [
    "data_dir = '../../data/m_nmm_expression--sum_by_gene/'\n",
    "methanotroph_expression.T.to_csv(data_dir + \n",
    "                               \"methanotroph_expression_pooled_on_gene_name.tsv\", \n",
    "                               sep='\\t')\n",
    "methylotroph_expression.T.to_csv(data_dir + \n",
    "                               \"methylotroph_expression_pooled_on_gene_name.tsv\", \n",
    "                               sep='\\t')"
   ]
  },
  {
   "cell_type": "code",
   "execution_count": null,
   "metadata": {
    "collapsed": false
   },
   "outputs": [],
   "source": [
    "methanotroph_expression.T.shape"
   ]
  },
  {
   "cell_type": "markdown",
   "metadata": {},
   "source": [
    "Save the gene names"
   ]
  },
  {
   "cell_type": "code",
   "execution_count": null,
   "metadata": {
    "collapsed": false
   },
   "outputs": [],
   "source": [
    "methanotroph_expression.index.to_series().head()"
   ]
  },
  {
   "cell_type": "code",
   "execution_count": null,
   "metadata": {
    "collapsed": true
   },
   "outputs": [],
   "source": [
    "m_gene_names = methanotroph_expression.copy().reset_index()['product']\n",
    "nmm_gene_names = methylotroph_expression.copy().reset_index()['product']"
   ]
  },
  {
   "cell_type": "code",
   "execution_count": null,
   "metadata": {
    "collapsed": false
   },
   "outputs": [],
   "source": [
    "m_gene_names.head()"
   ]
  },
  {
   "cell_type": "code",
   "execution_count": null,
   "metadata": {
    "collapsed": false
   },
   "outputs": [],
   "source": [
    "m_gene_names.to_csv(\n",
    "    data_dir + \"methanotroph_gene_names.tsv\", sep='\\t', index=False)\n",
    "nmm_gene_names.to_csv(\n",
    "    data_dir + \"methylotroph_gene_names.tsv\", sep='\\t', index=False)"
   ]
  },
  {
   "cell_type": "code",
   "execution_count": null,
   "metadata": {
    "collapsed": false
   },
   "outputs": [],
   "source": [
    "pd.read_csv(data_dir + \"methanotroph_expression_pooled_on_gene_name.tsv\", \n",
    "            sep='\\t').head()"
   ]
  },
  {
   "cell_type": "code",
   "execution_count": null,
   "metadata": {
    "collapsed": false
   },
   "outputs": [],
   "source": [
    "pd.read_csv(data_dir + \"methylotroph_expression_pooled_on_gene_name.tsv\", \n",
    "            sep='\\t').head()"
   ]
  },
  {
   "cell_type": "markdown",
   "metadata": {
    "collapsed": true
   },
   "source": [
    "## Split data into cross-val folds and write to tsv files"
   ]
  },
  {
   "cell_type": "code",
   "execution_count": null,
   "metadata": {
    "collapsed": true
   },
   "outputs": [],
   "source": [
    "[s for s in methanotroph_expression.index.tolist() if 'hypothetical' in s]"
   ]
  },
  {
   "cell_type": "code",
   "execution_count": null,
   "metadata": {
    "collapsed": true
   },
   "outputs": [],
   "source": [
    "[s for s in methanotroph_expression.index.tolist() if 'unknown' in s]"
   ]
  },
  {
   "cell_type": "code",
   "execution_count": null,
   "metadata": {
    "collapsed": false
   },
   "outputs": [],
   "source": [
    "m_remove_lbls = [s for s in methanotroph_expression.index.tolist() if 'hypothetical' in s or 'unknown' in s]\n",
    "methanotroph_expression.loc[m_remove_lbls]"
   ]
  },
  {
   "cell_type": "code",
   "execution_count": null,
   "metadata": {
    "collapsed": false
   },
   "outputs": [],
   "source": [
    "nmm_remove_lbls = [s for s in methylotroph_expression.index.tolist() if 'hypothetical' in s or 'unknown' in s]\n",
    "methylotroph_expression.loc[nmm_remove_lbls]"
   ]
  },
  {
   "cell_type": "code",
   "execution_count": null,
   "metadata": {
    "collapsed": true
   },
   "outputs": [],
   "source": [
    "def filter_genes(df, remove_tags):\n",
    "    keep_lbls = [s for s in df.index.tolist() if not any(x in s for x in remove_tags)]\n",
    "    return df.loc[keep_lbls]\n"
   ]
  },
  {
   "cell_type": "code",
   "execution_count": null,
   "metadata": {
    "collapsed": false
   },
   "outputs": [],
   "source": [
    "m_filtered = filter_genes(methanotroph_expression, ['hypothetical','unknown'])\n",
    "nmm_filtered = filter_genes(methylotroph_expression, ['hypothetical','unknown'])"
   ]
  },
  {
   "cell_type": "code",
   "execution_count": null,
   "metadata": {
    "collapsed": false
   },
   "outputs": [],
   "source": [
    "print m_filtered.shape\n",
    "print nmm_filtered.shape"
   ]
  },
  {
   "cell_type": "code",
   "execution_count": null,
   "metadata": {
    "collapsed": false
   },
   "outputs": [],
   "source": [
    "print \"# hypothetical/unknown methanotroph genes:\", (methanotroph_expression.shape[0]-m_filtered.shape[0])\n",
    "print \"# hypothetical/unknown methylotroph genes:\", (methylotroph_expression.shape[0]-nmm_filtered.shape[0])"
   ]
  },
  {
   "cell_type": "code",
   "execution_count": null,
   "metadata": {
    "collapsed": true
   },
   "outputs": [],
   "source": [
    "from sklearn.preprocessing import StandardScaler\n",
    "ss = StandardScaler()\n",
    "m_ss = ss.fit_transform(m_filtered)\n",
    "nmm_ss = ss.fit_transform(nmm_filtered)"
   ]
  },
  {
   "cell_type": "code",
   "execution_count": null,
   "metadata": {
    "collapsed": false
   },
   "outputs": [],
   "source": [
    "from sklearn.cross_validation import KFold"
   ]
  },
  {
   "cell_type": "code",
   "execution_count": null,
   "metadata": {
    "collapsed": false
   },
   "outputs": [],
   "source": [
    "N = methanotroph_expression.shape[1]\n",
    "print N"
   ]
  },
  {
   "cell_type": "code",
   "execution_count": null,
   "metadata": {
    "collapsed": false
   },
   "outputs": [],
   "source": [
    "m_ss.shape"
   ]
  },
  {
   "cell_type": "code",
   "execution_count": null,
   "metadata": {
    "collapsed": true
   },
   "outputs": [],
   "source": [
    "kf = KFold(n=N, n_folds=4, shuffle=True, random_state=100)"
   ]
  },
  {
   "cell_type": "code",
   "execution_count": null,
   "metadata": {
    "collapsed": false
   },
   "outputs": [],
   "source": [
    "data_dir = '../../data/cross_val_data/'\n",
    "fold_num = 1\n",
    "for train, val in kf:\n",
    "    m_str = data_dir + \"methanotroph_fold\" + str(fold_num)\n",
    "    nmm_str = data_dir + \"methylotroph_fold\" + str(fold_num)\n",
    "    \n",
    "    train_m = m_ss[:,train]\n",
    "    val_m = m_ss[:,val]\n",
    "    train_nmm = nmm_ss[:,train]\n",
    "    val_nmm = nmm_ss[:,val]\n",
    "    \n",
    "    print train_m.T.shape\n",
    "    print val_m.T.shape\n",
    "    np.savetxt(m_str + \"_train.tsv\", train_m.T, delimiter='\\t')\n",
    "    np.savetxt(m_str + \"_val.tsv\", val_m.T, delimiter='\\t')\n",
    "    np.savetxt(nmm_str + \"_train.tsv\", train_nmm.T, delimiter='\\t')\n",
    "    np.savetxt(nmm_str + \"_val.tsv\", val_nmm.T, delimiter='\\t')\n",
    "    \n",
    "    fold_num += 1"
   ]
  },
  {
   "cell_type": "code",
   "execution_count": null,
   "metadata": {
    "collapsed": true
   },
   "outputs": [],
   "source": []
  },
  {
   "cell_type": "code",
   "execution_count": null,
   "metadata": {
    "collapsed": true
   },
   "outputs": [],
   "source": []
  },
  {
   "cell_type": "code",
   "execution_count": null,
   "metadata": {
    "collapsed": true
   },
   "outputs": [],
   "source": []
  },
  {
   "cell_type": "code",
   "execution_count": null,
   "metadata": {
    "collapsed": true
   },
   "outputs": [],
   "source": []
  },
  {
   "cell_type": "code",
   "execution_count": null,
   "metadata": {
    "collapsed": true
   },
   "outputs": [],
   "source": []
  }
 ],
 "metadata": {
  "anaconda-cloud": {},
  "kernelspec": {
   "display_name": "Python [conda root]",
   "language": "python",
   "name": "conda-root-py"
  },
  "language_info": {
   "codemirror_mode": {
    "name": "ipython",
    "version": 2
   },
   "file_extension": ".py",
   "mimetype": "text/x-python",
   "name": "python",
   "nbconvert_exporter": "python",
   "pygments_lexer": "ipython2",
   "version": "2.7.12"
  }
 },
 "nbformat": 4,
 "nbformat_minor": 1
}
