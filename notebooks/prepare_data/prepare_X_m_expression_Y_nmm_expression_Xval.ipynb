{
 "cells": [
  {
   "cell_type": "code",
   "execution_count": 3,
   "metadata": {
    "collapsed": false
   },
   "outputs": [
    {
     "name": "stdout",
     "output_type": "stream",
     "text": [
      "2.7.12 |Anaconda 4.2.0 (64-bit)| (default, Jun 29 2016, 11:07:13) [MSC v.1500 64 bit (AMD64)]\n"
     ]
    }
   ],
   "source": [
    "import sys\n",
    "assert sys.version_info.major == 2, \"python version is {}\".format(sys.version_info.major)\n",
    "print(sys.version)"
   ]
  },
  {
   "cell_type": "code",
   "execution_count": 4,
   "metadata": {
    "collapsed": false
   },
   "outputs": [],
   "source": [
    "import math\n",
    "import matplotlib as mpl\n",
    "import matplotlib\n",
    "matplotlib.use('Agg')\n",
    "%matplotlib inline\n",
    "import matplotlib.pyplot as plt\n",
    "import numpy as np\n",
    "import pandas as pd\n",
    "import seaborn as sns\n",
    "import subprocess"
   ]
  },
  {
   "cell_type": "code",
   "execution_count": 5,
   "metadata": {
    "collapsed": true
   },
   "outputs": [],
   "source": [
    "sys.path.append('../../code/')"
   ]
  },
  {
   "cell_type": "code",
   "execution_count": 6,
   "metadata": {
    "collapsed": true
   },
   "outputs": [],
   "source": [
    "from utils import split_df, aggregate_df"
   ]
  },
  {
   "cell_type": "code",
   "execution_count": 7,
   "metadata": {
    "collapsed": false
   },
   "outputs": [],
   "source": [
    "# ! ls -l ../../data/genomes_curated.tsv"
   ]
  },
  {
   "cell_type": "code",
   "execution_count": 8,
   "metadata": {
    "collapsed": false
   },
   "outputs": [],
   "source": [
    "# ! head ../../data/genomes_curated.tsv"
   ]
  },
  {
   "cell_type": "code",
   "execution_count": 9,
   "metadata": {
    "collapsed": false
   },
   "outputs": [],
   "source": [
    "## Create a pandas dataframe to hold the gene expression data\n",
    "GENE_EXP_DATA = \"../../data/raw_data/3_summary_rpkm.xls\"\n",
    "meta4_exp = pd.read_csv(GENE_EXP_DATA, sep='\\t')\n",
    "genomes = pd.read_csv('../../data/genomes_curated.tsv', sep='\\t')"
   ]
  },
  {
   "cell_type": "code",
   "execution_count": 10,
   "metadata": {
    "collapsed": false
   },
   "outputs": [
    {
     "data": {
      "text/html": [
       "<div>\n",
       "<table border=\"1\" class=\"dataframe\">\n",
       "  <thead>\n",
       "    <tr style=\"text-align: right;\">\n",
       "      <th></th>\n",
       "      <th>genome</th>\n",
       "      <th>locus_tag</th>\n",
       "      <th>product</th>\n",
       "      <th>LakWasMeta1_LOW4_2_rpkm</th>\n",
       "      <th>LakWasMeta2_LOW4_2_rpkm</th>\n",
       "      <th>LakWasMeta3_LOW4_2_rpkm</th>\n",
       "      <th>LakWasMeta4_LOW4_2_rpkm</th>\n",
       "      <th>LakWasMet10_HOW4_2_rpkm</th>\n",
       "      <th>LakWasMeta7_HOW4_2_rpkm</th>\n",
       "      <th>LakWasMeta8_HOW4_2_rpkm</th>\n",
       "      <th>...</th>\n",
       "      <th>LakWasM118_HOW13_2_rpkm</th>\n",
       "      <th>LakWasM121_LOW14_2_rpkm</th>\n",
       "      <th>LakWasM122_LOW14_2_rpkm</th>\n",
       "      <th>LakWasM123_LOW14_2_rpkm</th>\n",
       "      <th>LakWasM124_LOW14_2_rpkm</th>\n",
       "      <th>LakWasM127_HOW14_2_rpkm</th>\n",
       "      <th>LakWasM128_HOW14_2_rpkm</th>\n",
       "      <th>LakWasM129_HOW14_2_rpkm</th>\n",
       "      <th>LakWasM130_HOW14_2_rpkm</th>\n",
       "      <th>type</th>\n",
       "    </tr>\n",
       "  </thead>\n",
       "  <tbody>\n",
       "    <tr>\n",
       "      <th>0</th>\n",
       "      <td>Methylotenera mobilis JLW8</td>\n",
       "      <td>Mmol_0001</td>\n",
       "      <td>chromosomal replication initiator protein DnaA</td>\n",
       "      <td>1</td>\n",
       "      <td>1</td>\n",
       "      <td>4</td>\n",
       "      <td>2</td>\n",
       "      <td>1</td>\n",
       "      <td>2</td>\n",
       "      <td>1</td>\n",
       "      <td>...</td>\n",
       "      <td>1</td>\n",
       "      <td>3</td>\n",
       "      <td>0</td>\n",
       "      <td>0</td>\n",
       "      <td>22</td>\n",
       "      <td>0</td>\n",
       "      <td>3</td>\n",
       "      <td>0</td>\n",
       "      <td>0</td>\n",
       "      <td>nmm</td>\n",
       "    </tr>\n",
       "    <tr>\n",
       "      <th>1</th>\n",
       "      <td>Methylotenera mobilis JLW8</td>\n",
       "      <td>Mmol_0002</td>\n",
       "      <td>DNA polymerase III, beta subunit (EC 2.7.7.7)</td>\n",
       "      <td>5</td>\n",
       "      <td>4</td>\n",
       "      <td>2</td>\n",
       "      <td>4</td>\n",
       "      <td>3</td>\n",
       "      <td>6</td>\n",
       "      <td>0</td>\n",
       "      <td>...</td>\n",
       "      <td>0</td>\n",
       "      <td>6</td>\n",
       "      <td>0</td>\n",
       "      <td>0</td>\n",
       "      <td>26</td>\n",
       "      <td>0</td>\n",
       "      <td>1</td>\n",
       "      <td>0</td>\n",
       "      <td>0</td>\n",
       "      <td>nmm</td>\n",
       "    </tr>\n",
       "    <tr>\n",
       "      <th>2</th>\n",
       "      <td>Methylotenera mobilis JLW8</td>\n",
       "      <td>Mmol_0003</td>\n",
       "      <td>DNA gyrase subunit B (EC 5.99.1.3)</td>\n",
       "      <td>5</td>\n",
       "      <td>7</td>\n",
       "      <td>5</td>\n",
       "      <td>3</td>\n",
       "      <td>5</td>\n",
       "      <td>3</td>\n",
       "      <td>0</td>\n",
       "      <td>...</td>\n",
       "      <td>1</td>\n",
       "      <td>10</td>\n",
       "      <td>0</td>\n",
       "      <td>0</td>\n",
       "      <td>28</td>\n",
       "      <td>0</td>\n",
       "      <td>1</td>\n",
       "      <td>0</td>\n",
       "      <td>0</td>\n",
       "      <td>nmm</td>\n",
       "    </tr>\n",
       "  </tbody>\n",
       "</table>\n",
       "<p>3 rows × 87 columns</p>\n",
       "</div>"
      ],
      "text/plain": [
       "                       genome  locus_tag  \\\n",
       "0  Methylotenera mobilis JLW8  Mmol_0001   \n",
       "1  Methylotenera mobilis JLW8  Mmol_0002   \n",
       "2  Methylotenera mobilis JLW8  Mmol_0003   \n",
       "\n",
       "                                          product  LakWasMeta1_LOW4_2_rpkm  \\\n",
       "0  chromosomal replication initiator protein DnaA                        1   \n",
       "1   DNA polymerase III, beta subunit (EC 2.7.7.7)                        5   \n",
       "2              DNA gyrase subunit B (EC 5.99.1.3)                        5   \n",
       "\n",
       "   LakWasMeta2_LOW4_2_rpkm  LakWasMeta3_LOW4_2_rpkm  LakWasMeta4_LOW4_2_rpkm  \\\n",
       "0                        1                        4                        2   \n",
       "1                        4                        2                        4   \n",
       "2                        7                        5                        3   \n",
       "\n",
       "   LakWasMet10_HOW4_2_rpkm  LakWasMeta7_HOW4_2_rpkm  LakWasMeta8_HOW4_2_rpkm  \\\n",
       "0                        1                        2                        1   \n",
       "1                        3                        6                        0   \n",
       "2                        5                        3                        0   \n",
       "\n",
       "   ...   LakWasM118_HOW13_2_rpkm  LakWasM121_LOW14_2_rpkm  \\\n",
       "0  ...                         1                        3   \n",
       "1  ...                         0                        6   \n",
       "2  ...                         1                       10   \n",
       "\n",
       "   LakWasM122_LOW14_2_rpkm  LakWasM123_LOW14_2_rpkm  LakWasM124_LOW14_2_rpkm  \\\n",
       "0                        0                        0                       22   \n",
       "1                        0                        0                       26   \n",
       "2                        0                        0                       28   \n",
       "\n",
       "   LakWasM127_HOW14_2_rpkm  LakWasM128_HOW14_2_rpkm  LakWasM129_HOW14_2_rpkm  \\\n",
       "0                        0                        3                        0   \n",
       "1                        0                        1                        0   \n",
       "2                        0                        1                        0   \n",
       "\n",
       "   LakWasM130_HOW14_2_rpkm  type  \n",
       "0                        0   nmm  \n",
       "1                        0   nmm  \n",
       "2                        0   nmm  \n",
       "\n",
       "[3 rows x 87 columns]"
      ]
     },
     "execution_count": 10,
     "metadata": {},
     "output_type": "execute_result"
    }
   ],
   "source": [
    "meta4_exp = meta4_exp.merge(genomes)\n",
    "meta4_exp.head(3)"
   ]
  },
  {
   "cell_type": "code",
   "execution_count": 11,
   "metadata": {
    "collapsed": false
   },
   "outputs": [
    {
     "data": {
      "text/plain": [
       "['nmm', 'm', 'o']"
      ]
     },
     "execution_count": 11,
     "metadata": {},
     "output_type": "execute_result"
    }
   ],
   "source": [
    "split_by_type = split_df(meta4_exp, 'type')\n",
    "split_by_type.keys()"
   ]
  },
  {
   "cell_type": "code",
   "execution_count": 12,
   "metadata": {
    "collapsed": false
   },
   "outputs": [
    {
     "data": {
      "text/plain": [
       "(44210, 87)"
      ]
     },
     "execution_count": 12,
     "metadata": {},
     "output_type": "execute_result"
    }
   ],
   "source": [
    "split_by_type['m'].shape"
   ]
  },
  {
   "cell_type": "code",
   "execution_count": 13,
   "metadata": {
    "collapsed": false
   },
   "outputs": [
    {
     "data": {
      "text/plain": [
       "(149137, 87)"
      ]
     },
     "execution_count": 13,
     "metadata": {},
     "output_type": "execute_result"
    }
   ],
   "source": [
    "split_by_type['nmm'].shape"
   ]
  },
  {
   "cell_type": "code",
   "execution_count": 14,
   "metadata": {
    "collapsed": false
   },
   "outputs": [
    {
     "data": {
      "text/plain": [
       "(5055, 83)"
      ]
     },
     "execution_count": 14,
     "metadata": {},
     "output_type": "execute_result"
    }
   ],
   "source": [
    "methanotroph_expression = aggregate_df(split_by_type['m'], 'product', colnorm=False)\n",
    "methanotroph_expression.shape"
   ]
  },
  {
   "cell_type": "code",
   "execution_count": 15,
   "metadata": {
    "collapsed": false
   },
   "outputs": [
    {
     "data": {
      "text/html": [
       "<div>\n",
       "<table border=\"1\" class=\"dataframe\">\n",
       "  <thead>\n",
       "    <tr style=\"text-align: right;\">\n",
       "      <th></th>\n",
       "      <th>LakWasMeta1_LOW4_2_rpkm</th>\n",
       "      <th>LakWasMeta2_LOW4_2_rpkm</th>\n",
       "      <th>LakWasMeta3_LOW4_2_rpkm</th>\n",
       "      <th>LakWasMeta4_LOW4_2_rpkm</th>\n",
       "      <th>LakWasMet10_HOW4_2_rpkm</th>\n",
       "      <th>LakWasMeta7_HOW4_2_rpkm</th>\n",
       "      <th>LakWasMeta8_HOW4_2_rpkm</th>\n",
       "      <th>LakWasMeta9_HOW4_2_rpkm</th>\n",
       "      <th>LakWasMet13_LOW5_2_rpkm</th>\n",
       "      <th>LakWasMet14_LOW5_2_rpkm</th>\n",
       "      <th>...</th>\n",
       "      <th>LakWasM117_HOW13_2_rpkm</th>\n",
       "      <th>LakWasM118_HOW13_2_rpkm</th>\n",
       "      <th>LakWasM121_LOW14_2_rpkm</th>\n",
       "      <th>LakWasM122_LOW14_2_rpkm</th>\n",
       "      <th>LakWasM123_LOW14_2_rpkm</th>\n",
       "      <th>LakWasM124_LOW14_2_rpkm</th>\n",
       "      <th>LakWasM127_HOW14_2_rpkm</th>\n",
       "      <th>LakWasM128_HOW14_2_rpkm</th>\n",
       "      <th>LakWasM129_HOW14_2_rpkm</th>\n",
       "      <th>LakWasM130_HOW14_2_rpkm</th>\n",
       "    </tr>\n",
       "    <tr>\n",
       "      <th>product</th>\n",
       "      <th></th>\n",
       "      <th></th>\n",
       "      <th></th>\n",
       "      <th></th>\n",
       "      <th></th>\n",
       "      <th></th>\n",
       "      <th></th>\n",
       "      <th></th>\n",
       "      <th></th>\n",
       "      <th></th>\n",
       "      <th></th>\n",
       "      <th></th>\n",
       "      <th></th>\n",
       "      <th></th>\n",
       "      <th></th>\n",
       "      <th></th>\n",
       "      <th></th>\n",
       "      <th></th>\n",
       "      <th></th>\n",
       "      <th></th>\n",
       "      <th></th>\n",
       "    </tr>\n",
       "  </thead>\n",
       "  <tbody>\n",
       "    <tr>\n",
       "      <th>(1-&gt;4)-alpha-D-glucan 1-alpha-D-glucosylmutase</th>\n",
       "      <td>14</td>\n",
       "      <td>13</td>\n",
       "      <td>15</td>\n",
       "      <td>6</td>\n",
       "      <td>25</td>\n",
       "      <td>24</td>\n",
       "      <td>62</td>\n",
       "      <td>13</td>\n",
       "      <td>4</td>\n",
       "      <td>3</td>\n",
       "      <td>...</td>\n",
       "      <td>8</td>\n",
       "      <td>6</td>\n",
       "      <td>0</td>\n",
       "      <td>0</td>\n",
       "      <td>0</td>\n",
       "      <td>0</td>\n",
       "      <td>6</td>\n",
       "      <td>3</td>\n",
       "      <td>16</td>\n",
       "      <td>5</td>\n",
       "    </tr>\n",
       "    <tr>\n",
       "      <th>(2Fe-2S) ferredoxin</th>\n",
       "      <td>6</td>\n",
       "      <td>3</td>\n",
       "      <td>5</td>\n",
       "      <td>14</td>\n",
       "      <td>43</td>\n",
       "      <td>29</td>\n",
       "      <td>46</td>\n",
       "      <td>25</td>\n",
       "      <td>33</td>\n",
       "      <td>15</td>\n",
       "      <td>...</td>\n",
       "      <td>71</td>\n",
       "      <td>17</td>\n",
       "      <td>16</td>\n",
       "      <td>24</td>\n",
       "      <td>9</td>\n",
       "      <td>28</td>\n",
       "      <td>19</td>\n",
       "      <td>14</td>\n",
       "      <td>72</td>\n",
       "      <td>5</td>\n",
       "    </tr>\n",
       "    <tr>\n",
       "      <th>(2R)-ethylmalonyl-CoA mutase</th>\n",
       "      <td>0</td>\n",
       "      <td>1</td>\n",
       "      <td>2</td>\n",
       "      <td>1</td>\n",
       "      <td>0</td>\n",
       "      <td>0</td>\n",
       "      <td>0</td>\n",
       "      <td>1</td>\n",
       "      <td>0</td>\n",
       "      <td>0</td>\n",
       "      <td>...</td>\n",
       "      <td>0</td>\n",
       "      <td>0</td>\n",
       "      <td>0</td>\n",
       "      <td>0</td>\n",
       "      <td>0</td>\n",
       "      <td>0</td>\n",
       "      <td>0</td>\n",
       "      <td>0</td>\n",
       "      <td>0</td>\n",
       "      <td>0</td>\n",
       "    </tr>\n",
       "    <tr>\n",
       "      <th>(2S)-methylsuccinyl-CoA dehydrogenase</th>\n",
       "      <td>0</td>\n",
       "      <td>1</td>\n",
       "      <td>0</td>\n",
       "      <td>0</td>\n",
       "      <td>0</td>\n",
       "      <td>1</td>\n",
       "      <td>0</td>\n",
       "      <td>0</td>\n",
       "      <td>0</td>\n",
       "      <td>0</td>\n",
       "      <td>...</td>\n",
       "      <td>0</td>\n",
       "      <td>0</td>\n",
       "      <td>0</td>\n",
       "      <td>0</td>\n",
       "      <td>0</td>\n",
       "      <td>0</td>\n",
       "      <td>0</td>\n",
       "      <td>0</td>\n",
       "      <td>0</td>\n",
       "      <td>1</td>\n",
       "    </tr>\n",
       "    <tr>\n",
       "      <th>1,2-dihydroxy-3-keto-5-methylthiopentene  dioxygenase</th>\n",
       "      <td>28</td>\n",
       "      <td>36</td>\n",
       "      <td>24</td>\n",
       "      <td>37</td>\n",
       "      <td>191</td>\n",
       "      <td>64</td>\n",
       "      <td>135</td>\n",
       "      <td>34</td>\n",
       "      <td>30</td>\n",
       "      <td>6</td>\n",
       "      <td>...</td>\n",
       "      <td>29</td>\n",
       "      <td>22</td>\n",
       "      <td>38</td>\n",
       "      <td>32</td>\n",
       "      <td>32</td>\n",
       "      <td>34</td>\n",
       "      <td>15</td>\n",
       "      <td>10</td>\n",
       "      <td>22</td>\n",
       "      <td>2</td>\n",
       "    </tr>\n",
       "  </tbody>\n",
       "</table>\n",
       "<p>5 rows × 83 columns</p>\n",
       "</div>"
      ],
      "text/plain": [
       "                                                    LakWasMeta1_LOW4_2_rpkm  \\\n",
       "product                                                                       \n",
       "(1->4)-alpha-D-glucan 1-alpha-D-glucosylmutase                           14   \n",
       "(2Fe-2S) ferredoxin                                                       6   \n",
       "(2R)-ethylmalonyl-CoA mutase                                              0   \n",
       "(2S)-methylsuccinyl-CoA dehydrogenase                                     0   \n",
       "1,2-dihydroxy-3-keto-5-methylthiopentene  dioxy...                       28   \n",
       "\n",
       "                                                    LakWasMeta2_LOW4_2_rpkm  \\\n",
       "product                                                                       \n",
       "(1->4)-alpha-D-glucan 1-alpha-D-glucosylmutase                           13   \n",
       "(2Fe-2S) ferredoxin                                                       3   \n",
       "(2R)-ethylmalonyl-CoA mutase                                              1   \n",
       "(2S)-methylsuccinyl-CoA dehydrogenase                                     1   \n",
       "1,2-dihydroxy-3-keto-5-methylthiopentene  dioxy...                       36   \n",
       "\n",
       "                                                    LakWasMeta3_LOW4_2_rpkm  \\\n",
       "product                                                                       \n",
       "(1->4)-alpha-D-glucan 1-alpha-D-glucosylmutase                           15   \n",
       "(2Fe-2S) ferredoxin                                                       5   \n",
       "(2R)-ethylmalonyl-CoA mutase                                              2   \n",
       "(2S)-methylsuccinyl-CoA dehydrogenase                                     0   \n",
       "1,2-dihydroxy-3-keto-5-methylthiopentene  dioxy...                       24   \n",
       "\n",
       "                                                    LakWasMeta4_LOW4_2_rpkm  \\\n",
       "product                                                                       \n",
       "(1->4)-alpha-D-glucan 1-alpha-D-glucosylmutase                            6   \n",
       "(2Fe-2S) ferredoxin                                                      14   \n",
       "(2R)-ethylmalonyl-CoA mutase                                              1   \n",
       "(2S)-methylsuccinyl-CoA dehydrogenase                                     0   \n",
       "1,2-dihydroxy-3-keto-5-methylthiopentene  dioxy...                       37   \n",
       "\n",
       "                                                    LakWasMet10_HOW4_2_rpkm  \\\n",
       "product                                                                       \n",
       "(1->4)-alpha-D-glucan 1-alpha-D-glucosylmutase                           25   \n",
       "(2Fe-2S) ferredoxin                                                      43   \n",
       "(2R)-ethylmalonyl-CoA mutase                                              0   \n",
       "(2S)-methylsuccinyl-CoA dehydrogenase                                     0   \n",
       "1,2-dihydroxy-3-keto-5-methylthiopentene  dioxy...                      191   \n",
       "\n",
       "                                                    LakWasMeta7_HOW4_2_rpkm  \\\n",
       "product                                                                       \n",
       "(1->4)-alpha-D-glucan 1-alpha-D-glucosylmutase                           24   \n",
       "(2Fe-2S) ferredoxin                                                      29   \n",
       "(2R)-ethylmalonyl-CoA mutase                                              0   \n",
       "(2S)-methylsuccinyl-CoA dehydrogenase                                     1   \n",
       "1,2-dihydroxy-3-keto-5-methylthiopentene  dioxy...                       64   \n",
       "\n",
       "                                                    LakWasMeta8_HOW4_2_rpkm  \\\n",
       "product                                                                       \n",
       "(1->4)-alpha-D-glucan 1-alpha-D-glucosylmutase                           62   \n",
       "(2Fe-2S) ferredoxin                                                      46   \n",
       "(2R)-ethylmalonyl-CoA mutase                                              0   \n",
       "(2S)-methylsuccinyl-CoA dehydrogenase                                     0   \n",
       "1,2-dihydroxy-3-keto-5-methylthiopentene  dioxy...                      135   \n",
       "\n",
       "                                                    LakWasMeta9_HOW4_2_rpkm  \\\n",
       "product                                                                       \n",
       "(1->4)-alpha-D-glucan 1-alpha-D-glucosylmutase                           13   \n",
       "(2Fe-2S) ferredoxin                                                      25   \n",
       "(2R)-ethylmalonyl-CoA mutase                                              1   \n",
       "(2S)-methylsuccinyl-CoA dehydrogenase                                     0   \n",
       "1,2-dihydroxy-3-keto-5-methylthiopentene  dioxy...                       34   \n",
       "\n",
       "                                                    LakWasMet13_LOW5_2_rpkm  \\\n",
       "product                                                                       \n",
       "(1->4)-alpha-D-glucan 1-alpha-D-glucosylmutase                            4   \n",
       "(2Fe-2S) ferredoxin                                                      33   \n",
       "(2R)-ethylmalonyl-CoA mutase                                              0   \n",
       "(2S)-methylsuccinyl-CoA dehydrogenase                                     0   \n",
       "1,2-dihydroxy-3-keto-5-methylthiopentene  dioxy...                       30   \n",
       "\n",
       "                                                    LakWasMet14_LOW5_2_rpkm  \\\n",
       "product                                                                       \n",
       "(1->4)-alpha-D-glucan 1-alpha-D-glucosylmutase                            3   \n",
       "(2Fe-2S) ferredoxin                                                      15   \n",
       "(2R)-ethylmalonyl-CoA mutase                                              0   \n",
       "(2S)-methylsuccinyl-CoA dehydrogenase                                     0   \n",
       "1,2-dihydroxy-3-keto-5-methylthiopentene  dioxy...                        6   \n",
       "\n",
       "                                                             ...             \\\n",
       "product                                                      ...              \n",
       "(1->4)-alpha-D-glucan 1-alpha-D-glucosylmutase               ...              \n",
       "(2Fe-2S) ferredoxin                                          ...              \n",
       "(2R)-ethylmalonyl-CoA mutase                                 ...              \n",
       "(2S)-methylsuccinyl-CoA dehydrogenase                        ...              \n",
       "1,2-dihydroxy-3-keto-5-methylthiopentene  dioxy...           ...              \n",
       "\n",
       "                                                    LakWasM117_HOW13_2_rpkm  \\\n",
       "product                                                                       \n",
       "(1->4)-alpha-D-glucan 1-alpha-D-glucosylmutase                            8   \n",
       "(2Fe-2S) ferredoxin                                                      71   \n",
       "(2R)-ethylmalonyl-CoA mutase                                              0   \n",
       "(2S)-methylsuccinyl-CoA dehydrogenase                                     0   \n",
       "1,2-dihydroxy-3-keto-5-methylthiopentene  dioxy...                       29   \n",
       "\n",
       "                                                    LakWasM118_HOW13_2_rpkm  \\\n",
       "product                                                                       \n",
       "(1->4)-alpha-D-glucan 1-alpha-D-glucosylmutase                            6   \n",
       "(2Fe-2S) ferredoxin                                                      17   \n",
       "(2R)-ethylmalonyl-CoA mutase                                              0   \n",
       "(2S)-methylsuccinyl-CoA dehydrogenase                                     0   \n",
       "1,2-dihydroxy-3-keto-5-methylthiopentene  dioxy...                       22   \n",
       "\n",
       "                                                    LakWasM121_LOW14_2_rpkm  \\\n",
       "product                                                                       \n",
       "(1->4)-alpha-D-glucan 1-alpha-D-glucosylmutase                            0   \n",
       "(2Fe-2S) ferredoxin                                                      16   \n",
       "(2R)-ethylmalonyl-CoA mutase                                              0   \n",
       "(2S)-methylsuccinyl-CoA dehydrogenase                                     0   \n",
       "1,2-dihydroxy-3-keto-5-methylthiopentene  dioxy...                       38   \n",
       "\n",
       "                                                    LakWasM122_LOW14_2_rpkm  \\\n",
       "product                                                                       \n",
       "(1->4)-alpha-D-glucan 1-alpha-D-glucosylmutase                            0   \n",
       "(2Fe-2S) ferredoxin                                                      24   \n",
       "(2R)-ethylmalonyl-CoA mutase                                              0   \n",
       "(2S)-methylsuccinyl-CoA dehydrogenase                                     0   \n",
       "1,2-dihydroxy-3-keto-5-methylthiopentene  dioxy...                       32   \n",
       "\n",
       "                                                    LakWasM123_LOW14_2_rpkm  \\\n",
       "product                                                                       \n",
       "(1->4)-alpha-D-glucan 1-alpha-D-glucosylmutase                            0   \n",
       "(2Fe-2S) ferredoxin                                                       9   \n",
       "(2R)-ethylmalonyl-CoA mutase                                              0   \n",
       "(2S)-methylsuccinyl-CoA dehydrogenase                                     0   \n",
       "1,2-dihydroxy-3-keto-5-methylthiopentene  dioxy...                       32   \n",
       "\n",
       "                                                    LakWasM124_LOW14_2_rpkm  \\\n",
       "product                                                                       \n",
       "(1->4)-alpha-D-glucan 1-alpha-D-glucosylmutase                            0   \n",
       "(2Fe-2S) ferredoxin                                                      28   \n",
       "(2R)-ethylmalonyl-CoA mutase                                              0   \n",
       "(2S)-methylsuccinyl-CoA dehydrogenase                                     0   \n",
       "1,2-dihydroxy-3-keto-5-methylthiopentene  dioxy...                       34   \n",
       "\n",
       "                                                    LakWasM127_HOW14_2_rpkm  \\\n",
       "product                                                                       \n",
       "(1->4)-alpha-D-glucan 1-alpha-D-glucosylmutase                            6   \n",
       "(2Fe-2S) ferredoxin                                                      19   \n",
       "(2R)-ethylmalonyl-CoA mutase                                              0   \n",
       "(2S)-methylsuccinyl-CoA dehydrogenase                                     0   \n",
       "1,2-dihydroxy-3-keto-5-methylthiopentene  dioxy...                       15   \n",
       "\n",
       "                                                    LakWasM128_HOW14_2_rpkm  \\\n",
       "product                                                                       \n",
       "(1->4)-alpha-D-glucan 1-alpha-D-glucosylmutase                            3   \n",
       "(2Fe-2S) ferredoxin                                                      14   \n",
       "(2R)-ethylmalonyl-CoA mutase                                              0   \n",
       "(2S)-methylsuccinyl-CoA dehydrogenase                                     0   \n",
       "1,2-dihydroxy-3-keto-5-methylthiopentene  dioxy...                       10   \n",
       "\n",
       "                                                    LakWasM129_HOW14_2_rpkm  \\\n",
       "product                                                                       \n",
       "(1->4)-alpha-D-glucan 1-alpha-D-glucosylmutase                           16   \n",
       "(2Fe-2S) ferredoxin                                                      72   \n",
       "(2R)-ethylmalonyl-CoA mutase                                              0   \n",
       "(2S)-methylsuccinyl-CoA dehydrogenase                                     0   \n",
       "1,2-dihydroxy-3-keto-5-methylthiopentene  dioxy...                       22   \n",
       "\n",
       "                                                    LakWasM130_HOW14_2_rpkm  \n",
       "product                                                                      \n",
       "(1->4)-alpha-D-glucan 1-alpha-D-glucosylmutase                            5  \n",
       "(2Fe-2S) ferredoxin                                                       5  \n",
       "(2R)-ethylmalonyl-CoA mutase                                              0  \n",
       "(2S)-methylsuccinyl-CoA dehydrogenase                                     1  \n",
       "1,2-dihydroxy-3-keto-5-methylthiopentene  dioxy...                        2  \n",
       "\n",
       "[5 rows x 83 columns]"
      ]
     },
     "execution_count": 15,
     "metadata": {},
     "output_type": "execute_result"
    }
   ],
   "source": [
    "methanotroph_expression.head()"
   ]
  },
  {
   "cell_type": "code",
   "execution_count": 16,
   "metadata": {
    "collapsed": false
   },
   "outputs": [
    {
     "data": {
      "text/plain": [
       "(12030, 83)"
      ]
     },
     "execution_count": 16,
     "metadata": {},
     "output_type": "execute_result"
    }
   ],
   "source": [
    "methylotroph_expression = aggregate_df(split_by_type['nmm'], 'product', colnorm=False)\n",
    "methylotroph_expression.shape"
   ]
  },
  {
   "cell_type": "markdown",
   "metadata": {},
   "source": [
    "Remove rows with zero variance.  R's CCA function won't tolerate them."
   ]
  },
  {
   "cell_type": "code",
   "execution_count": 17,
   "metadata": {
    "collapsed": false
   },
   "outputs": [
    {
     "data": {
      "text/plain": [
       "(5055, 83)"
      ]
     },
     "execution_count": 17,
     "metadata": {},
     "output_type": "execute_result"
    }
   ],
   "source": [
    "methanotroph_expression.shape"
   ]
  },
  {
   "cell_type": "code",
   "execution_count": 18,
   "metadata": {
    "collapsed": false
   },
   "outputs": [],
   "source": [
    "methanotroph_expression = \\\n",
    "    methanotroph_expression.loc[methanotroph_expression.std(axis=1) > 0.001, :]"
   ]
  },
  {
   "cell_type": "code",
   "execution_count": 19,
   "metadata": {
    "collapsed": false
   },
   "outputs": [
    {
     "data": {
      "text/plain": [
       "(4840, 83)"
      ]
     },
     "execution_count": 19,
     "metadata": {},
     "output_type": "execute_result"
    }
   ],
   "source": [
    "methanotroph_expression.shape"
   ]
  },
  {
   "cell_type": "code",
   "execution_count": 20,
   "metadata": {
    "collapsed": false
   },
   "outputs": [
    {
     "name": "stdout",
     "output_type": "stream",
     "text": [
      "(12030, 83)\n",
      "(10123, 83)\n"
     ]
    }
   ],
   "source": [
    "print(methylotroph_expression.shape)\n",
    "methylotroph_expression = \\\n",
    "    methylotroph_expression.loc[methylotroph_expression.std(axis=1) > 0.001, :]\n",
    "print(methylotroph_expression.shape)"
   ]
  },
  {
   "cell_type": "code",
   "execution_count": 21,
   "metadata": {
    "collapsed": false
   },
   "outputs": [
    {
     "data": {
      "text/html": [
       "<div>\n",
       "<table border=\"1\" class=\"dataframe\">\n",
       "  <thead>\n",
       "    <tr style=\"text-align: right;\">\n",
       "      <th></th>\n",
       "      <th>LakWasMeta1_LOW4_2_rpkm</th>\n",
       "      <th>LakWasMeta2_LOW4_2_rpkm</th>\n",
       "      <th>LakWasMeta3_LOW4_2_rpkm</th>\n",
       "      <th>LakWasMeta4_LOW4_2_rpkm</th>\n",
       "      <th>LakWasMet10_HOW4_2_rpkm</th>\n",
       "      <th>LakWasMeta7_HOW4_2_rpkm</th>\n",
       "      <th>LakWasMeta8_HOW4_2_rpkm</th>\n",
       "      <th>LakWasMeta9_HOW4_2_rpkm</th>\n",
       "      <th>LakWasMet13_LOW5_2_rpkm</th>\n",
       "      <th>LakWasMet14_LOW5_2_rpkm</th>\n",
       "      <th>...</th>\n",
       "      <th>LakWasM117_HOW13_2_rpkm</th>\n",
       "      <th>LakWasM118_HOW13_2_rpkm</th>\n",
       "      <th>LakWasM121_LOW14_2_rpkm</th>\n",
       "      <th>LakWasM122_LOW14_2_rpkm</th>\n",
       "      <th>LakWasM123_LOW14_2_rpkm</th>\n",
       "      <th>LakWasM124_LOW14_2_rpkm</th>\n",
       "      <th>LakWasM127_HOW14_2_rpkm</th>\n",
       "      <th>LakWasM128_HOW14_2_rpkm</th>\n",
       "      <th>LakWasM129_HOW14_2_rpkm</th>\n",
       "      <th>LakWasM130_HOW14_2_rpkm</th>\n",
       "    </tr>\n",
       "    <tr>\n",
       "      <th>product</th>\n",
       "      <th></th>\n",
       "      <th></th>\n",
       "      <th></th>\n",
       "      <th></th>\n",
       "      <th></th>\n",
       "      <th></th>\n",
       "      <th></th>\n",
       "      <th></th>\n",
       "      <th></th>\n",
       "      <th></th>\n",
       "      <th></th>\n",
       "      <th></th>\n",
       "      <th></th>\n",
       "      <th></th>\n",
       "      <th></th>\n",
       "      <th></th>\n",
       "      <th></th>\n",
       "      <th></th>\n",
       "      <th></th>\n",
       "      <th></th>\n",
       "      <th></th>\n",
       "    </tr>\n",
       "  </thead>\n",
       "  <tbody>\n",
       "    <tr>\n",
       "      <th>(1-&gt;4)-alpha-D-glucan 1-alpha-D-glucosylmutase</th>\n",
       "      <td>14</td>\n",
       "      <td>13</td>\n",
       "      <td>15</td>\n",
       "      <td>6</td>\n",
       "      <td>25</td>\n",
       "      <td>24</td>\n",
       "      <td>62</td>\n",
       "      <td>13</td>\n",
       "      <td>4</td>\n",
       "      <td>3</td>\n",
       "      <td>...</td>\n",
       "      <td>8</td>\n",
       "      <td>6</td>\n",
       "      <td>0</td>\n",
       "      <td>0</td>\n",
       "      <td>0</td>\n",
       "      <td>0</td>\n",
       "      <td>6</td>\n",
       "      <td>3</td>\n",
       "      <td>16</td>\n",
       "      <td>5</td>\n",
       "    </tr>\n",
       "    <tr>\n",
       "      <th>(2Fe-2S) ferredoxin</th>\n",
       "      <td>6</td>\n",
       "      <td>3</td>\n",
       "      <td>5</td>\n",
       "      <td>14</td>\n",
       "      <td>43</td>\n",
       "      <td>29</td>\n",
       "      <td>46</td>\n",
       "      <td>25</td>\n",
       "      <td>33</td>\n",
       "      <td>15</td>\n",
       "      <td>...</td>\n",
       "      <td>71</td>\n",
       "      <td>17</td>\n",
       "      <td>16</td>\n",
       "      <td>24</td>\n",
       "      <td>9</td>\n",
       "      <td>28</td>\n",
       "      <td>19</td>\n",
       "      <td>14</td>\n",
       "      <td>72</td>\n",
       "      <td>5</td>\n",
       "    </tr>\n",
       "    <tr>\n",
       "      <th>(2R)-ethylmalonyl-CoA mutase</th>\n",
       "      <td>0</td>\n",
       "      <td>1</td>\n",
       "      <td>2</td>\n",
       "      <td>1</td>\n",
       "      <td>0</td>\n",
       "      <td>0</td>\n",
       "      <td>0</td>\n",
       "      <td>1</td>\n",
       "      <td>0</td>\n",
       "      <td>0</td>\n",
       "      <td>...</td>\n",
       "      <td>0</td>\n",
       "      <td>0</td>\n",
       "      <td>0</td>\n",
       "      <td>0</td>\n",
       "      <td>0</td>\n",
       "      <td>0</td>\n",
       "      <td>0</td>\n",
       "      <td>0</td>\n",
       "      <td>0</td>\n",
       "      <td>0</td>\n",
       "    </tr>\n",
       "    <tr>\n",
       "      <th>(2S)-methylsuccinyl-CoA dehydrogenase</th>\n",
       "      <td>0</td>\n",
       "      <td>1</td>\n",
       "      <td>0</td>\n",
       "      <td>0</td>\n",
       "      <td>0</td>\n",
       "      <td>1</td>\n",
       "      <td>0</td>\n",
       "      <td>0</td>\n",
       "      <td>0</td>\n",
       "      <td>0</td>\n",
       "      <td>...</td>\n",
       "      <td>0</td>\n",
       "      <td>0</td>\n",
       "      <td>0</td>\n",
       "      <td>0</td>\n",
       "      <td>0</td>\n",
       "      <td>0</td>\n",
       "      <td>0</td>\n",
       "      <td>0</td>\n",
       "      <td>0</td>\n",
       "      <td>1</td>\n",
       "    </tr>\n",
       "    <tr>\n",
       "      <th>1,2-dihydroxy-3-keto-5-methylthiopentene  dioxygenase</th>\n",
       "      <td>28</td>\n",
       "      <td>36</td>\n",
       "      <td>24</td>\n",
       "      <td>37</td>\n",
       "      <td>191</td>\n",
       "      <td>64</td>\n",
       "      <td>135</td>\n",
       "      <td>34</td>\n",
       "      <td>30</td>\n",
       "      <td>6</td>\n",
       "      <td>...</td>\n",
       "      <td>29</td>\n",
       "      <td>22</td>\n",
       "      <td>38</td>\n",
       "      <td>32</td>\n",
       "      <td>32</td>\n",
       "      <td>34</td>\n",
       "      <td>15</td>\n",
       "      <td>10</td>\n",
       "      <td>22</td>\n",
       "      <td>2</td>\n",
       "    </tr>\n",
       "  </tbody>\n",
       "</table>\n",
       "<p>5 rows × 83 columns</p>\n",
       "</div>"
      ],
      "text/plain": [
       "                                                    LakWasMeta1_LOW4_2_rpkm  \\\n",
       "product                                                                       \n",
       "(1->4)-alpha-D-glucan 1-alpha-D-glucosylmutase                           14   \n",
       "(2Fe-2S) ferredoxin                                                       6   \n",
       "(2R)-ethylmalonyl-CoA mutase                                              0   \n",
       "(2S)-methylsuccinyl-CoA dehydrogenase                                     0   \n",
       "1,2-dihydroxy-3-keto-5-methylthiopentene  dioxy...                       28   \n",
       "\n",
       "                                                    LakWasMeta2_LOW4_2_rpkm  \\\n",
       "product                                                                       \n",
       "(1->4)-alpha-D-glucan 1-alpha-D-glucosylmutase                           13   \n",
       "(2Fe-2S) ferredoxin                                                       3   \n",
       "(2R)-ethylmalonyl-CoA mutase                                              1   \n",
       "(2S)-methylsuccinyl-CoA dehydrogenase                                     1   \n",
       "1,2-dihydroxy-3-keto-5-methylthiopentene  dioxy...                       36   \n",
       "\n",
       "                                                    LakWasMeta3_LOW4_2_rpkm  \\\n",
       "product                                                                       \n",
       "(1->4)-alpha-D-glucan 1-alpha-D-glucosylmutase                           15   \n",
       "(2Fe-2S) ferredoxin                                                       5   \n",
       "(2R)-ethylmalonyl-CoA mutase                                              2   \n",
       "(2S)-methylsuccinyl-CoA dehydrogenase                                     0   \n",
       "1,2-dihydroxy-3-keto-5-methylthiopentene  dioxy...                       24   \n",
       "\n",
       "                                                    LakWasMeta4_LOW4_2_rpkm  \\\n",
       "product                                                                       \n",
       "(1->4)-alpha-D-glucan 1-alpha-D-glucosylmutase                            6   \n",
       "(2Fe-2S) ferredoxin                                                      14   \n",
       "(2R)-ethylmalonyl-CoA mutase                                              1   \n",
       "(2S)-methylsuccinyl-CoA dehydrogenase                                     0   \n",
       "1,2-dihydroxy-3-keto-5-methylthiopentene  dioxy...                       37   \n",
       "\n",
       "                                                    LakWasMet10_HOW4_2_rpkm  \\\n",
       "product                                                                       \n",
       "(1->4)-alpha-D-glucan 1-alpha-D-glucosylmutase                           25   \n",
       "(2Fe-2S) ferredoxin                                                      43   \n",
       "(2R)-ethylmalonyl-CoA mutase                                              0   \n",
       "(2S)-methylsuccinyl-CoA dehydrogenase                                     0   \n",
       "1,2-dihydroxy-3-keto-5-methylthiopentene  dioxy...                      191   \n",
       "\n",
       "                                                    LakWasMeta7_HOW4_2_rpkm  \\\n",
       "product                                                                       \n",
       "(1->4)-alpha-D-glucan 1-alpha-D-glucosylmutase                           24   \n",
       "(2Fe-2S) ferredoxin                                                      29   \n",
       "(2R)-ethylmalonyl-CoA mutase                                              0   \n",
       "(2S)-methylsuccinyl-CoA dehydrogenase                                     1   \n",
       "1,2-dihydroxy-3-keto-5-methylthiopentene  dioxy...                       64   \n",
       "\n",
       "                                                    LakWasMeta8_HOW4_2_rpkm  \\\n",
       "product                                                                       \n",
       "(1->4)-alpha-D-glucan 1-alpha-D-glucosylmutase                           62   \n",
       "(2Fe-2S) ferredoxin                                                      46   \n",
       "(2R)-ethylmalonyl-CoA mutase                                              0   \n",
       "(2S)-methylsuccinyl-CoA dehydrogenase                                     0   \n",
       "1,2-dihydroxy-3-keto-5-methylthiopentene  dioxy...                      135   \n",
       "\n",
       "                                                    LakWasMeta9_HOW4_2_rpkm  \\\n",
       "product                                                                       \n",
       "(1->4)-alpha-D-glucan 1-alpha-D-glucosylmutase                           13   \n",
       "(2Fe-2S) ferredoxin                                                      25   \n",
       "(2R)-ethylmalonyl-CoA mutase                                              1   \n",
       "(2S)-methylsuccinyl-CoA dehydrogenase                                     0   \n",
       "1,2-dihydroxy-3-keto-5-methylthiopentene  dioxy...                       34   \n",
       "\n",
       "                                                    LakWasMet13_LOW5_2_rpkm  \\\n",
       "product                                                                       \n",
       "(1->4)-alpha-D-glucan 1-alpha-D-glucosylmutase                            4   \n",
       "(2Fe-2S) ferredoxin                                                      33   \n",
       "(2R)-ethylmalonyl-CoA mutase                                              0   \n",
       "(2S)-methylsuccinyl-CoA dehydrogenase                                     0   \n",
       "1,2-dihydroxy-3-keto-5-methylthiopentene  dioxy...                       30   \n",
       "\n",
       "                                                    LakWasMet14_LOW5_2_rpkm  \\\n",
       "product                                                                       \n",
       "(1->4)-alpha-D-glucan 1-alpha-D-glucosylmutase                            3   \n",
       "(2Fe-2S) ferredoxin                                                      15   \n",
       "(2R)-ethylmalonyl-CoA mutase                                              0   \n",
       "(2S)-methylsuccinyl-CoA dehydrogenase                                     0   \n",
       "1,2-dihydroxy-3-keto-5-methylthiopentene  dioxy...                        6   \n",
       "\n",
       "                                                             ...             \\\n",
       "product                                                      ...              \n",
       "(1->4)-alpha-D-glucan 1-alpha-D-glucosylmutase               ...              \n",
       "(2Fe-2S) ferredoxin                                          ...              \n",
       "(2R)-ethylmalonyl-CoA mutase                                 ...              \n",
       "(2S)-methylsuccinyl-CoA dehydrogenase                        ...              \n",
       "1,2-dihydroxy-3-keto-5-methylthiopentene  dioxy...           ...              \n",
       "\n",
       "                                                    LakWasM117_HOW13_2_rpkm  \\\n",
       "product                                                                       \n",
       "(1->4)-alpha-D-glucan 1-alpha-D-glucosylmutase                            8   \n",
       "(2Fe-2S) ferredoxin                                                      71   \n",
       "(2R)-ethylmalonyl-CoA mutase                                              0   \n",
       "(2S)-methylsuccinyl-CoA dehydrogenase                                     0   \n",
       "1,2-dihydroxy-3-keto-5-methylthiopentene  dioxy...                       29   \n",
       "\n",
       "                                                    LakWasM118_HOW13_2_rpkm  \\\n",
       "product                                                                       \n",
       "(1->4)-alpha-D-glucan 1-alpha-D-glucosylmutase                            6   \n",
       "(2Fe-2S) ferredoxin                                                      17   \n",
       "(2R)-ethylmalonyl-CoA mutase                                              0   \n",
       "(2S)-methylsuccinyl-CoA dehydrogenase                                     0   \n",
       "1,2-dihydroxy-3-keto-5-methylthiopentene  dioxy...                       22   \n",
       "\n",
       "                                                    LakWasM121_LOW14_2_rpkm  \\\n",
       "product                                                                       \n",
       "(1->4)-alpha-D-glucan 1-alpha-D-glucosylmutase                            0   \n",
       "(2Fe-2S) ferredoxin                                                      16   \n",
       "(2R)-ethylmalonyl-CoA mutase                                              0   \n",
       "(2S)-methylsuccinyl-CoA dehydrogenase                                     0   \n",
       "1,2-dihydroxy-3-keto-5-methylthiopentene  dioxy...                       38   \n",
       "\n",
       "                                                    LakWasM122_LOW14_2_rpkm  \\\n",
       "product                                                                       \n",
       "(1->4)-alpha-D-glucan 1-alpha-D-glucosylmutase                            0   \n",
       "(2Fe-2S) ferredoxin                                                      24   \n",
       "(2R)-ethylmalonyl-CoA mutase                                              0   \n",
       "(2S)-methylsuccinyl-CoA dehydrogenase                                     0   \n",
       "1,2-dihydroxy-3-keto-5-methylthiopentene  dioxy...                       32   \n",
       "\n",
       "                                                    LakWasM123_LOW14_2_rpkm  \\\n",
       "product                                                                       \n",
       "(1->4)-alpha-D-glucan 1-alpha-D-glucosylmutase                            0   \n",
       "(2Fe-2S) ferredoxin                                                       9   \n",
       "(2R)-ethylmalonyl-CoA mutase                                              0   \n",
       "(2S)-methylsuccinyl-CoA dehydrogenase                                     0   \n",
       "1,2-dihydroxy-3-keto-5-methylthiopentene  dioxy...                       32   \n",
       "\n",
       "                                                    LakWasM124_LOW14_2_rpkm  \\\n",
       "product                                                                       \n",
       "(1->4)-alpha-D-glucan 1-alpha-D-glucosylmutase                            0   \n",
       "(2Fe-2S) ferredoxin                                                      28   \n",
       "(2R)-ethylmalonyl-CoA mutase                                              0   \n",
       "(2S)-methylsuccinyl-CoA dehydrogenase                                     0   \n",
       "1,2-dihydroxy-3-keto-5-methylthiopentene  dioxy...                       34   \n",
       "\n",
       "                                                    LakWasM127_HOW14_2_rpkm  \\\n",
       "product                                                                       \n",
       "(1->4)-alpha-D-glucan 1-alpha-D-glucosylmutase                            6   \n",
       "(2Fe-2S) ferredoxin                                                      19   \n",
       "(2R)-ethylmalonyl-CoA mutase                                              0   \n",
       "(2S)-methylsuccinyl-CoA dehydrogenase                                     0   \n",
       "1,2-dihydroxy-3-keto-5-methylthiopentene  dioxy...                       15   \n",
       "\n",
       "                                                    LakWasM128_HOW14_2_rpkm  \\\n",
       "product                                                                       \n",
       "(1->4)-alpha-D-glucan 1-alpha-D-glucosylmutase                            3   \n",
       "(2Fe-2S) ferredoxin                                                      14   \n",
       "(2R)-ethylmalonyl-CoA mutase                                              0   \n",
       "(2S)-methylsuccinyl-CoA dehydrogenase                                     0   \n",
       "1,2-dihydroxy-3-keto-5-methylthiopentene  dioxy...                       10   \n",
       "\n",
       "                                                    LakWasM129_HOW14_2_rpkm  \\\n",
       "product                                                                       \n",
       "(1->4)-alpha-D-glucan 1-alpha-D-glucosylmutase                           16   \n",
       "(2Fe-2S) ferredoxin                                                      72   \n",
       "(2R)-ethylmalonyl-CoA mutase                                              0   \n",
       "(2S)-methylsuccinyl-CoA dehydrogenase                                     0   \n",
       "1,2-dihydroxy-3-keto-5-methylthiopentene  dioxy...                       22   \n",
       "\n",
       "                                                    LakWasM130_HOW14_2_rpkm  \n",
       "product                                                                      \n",
       "(1->4)-alpha-D-glucan 1-alpha-D-glucosylmutase                            5  \n",
       "(2Fe-2S) ferredoxin                                                       5  \n",
       "(2R)-ethylmalonyl-CoA mutase                                              0  \n",
       "(2S)-methylsuccinyl-CoA dehydrogenase                                     1  \n",
       "1,2-dihydroxy-3-keto-5-methylthiopentene  dioxy...                        2  \n",
       "\n",
       "[5 rows x 83 columns]"
      ]
     },
     "execution_count": 21,
     "metadata": {},
     "output_type": "execute_result"
    }
   ],
   "source": [
    "methanotroph_expression.head()"
   ]
  },
  {
   "cell_type": "code",
   "execution_count": 22,
   "metadata": {
    "collapsed": false
   },
   "outputs": [],
   "source": [
    "# ! mkdir ../../data/m_nmm_expression--sum_by_gene"
   ]
  },
  {
   "cell_type": "code",
   "execution_count": 23,
   "metadata": {
    "collapsed": false
   },
   "outputs": [],
   "source": [
    "data_dir = '../../data/m_nmm_expression--sum_by_gene/'\n",
    "methanotroph_expression.T.to_csv(data_dir + \n",
    "                               \"methanotroph_expression_pooled_on_gene_name.tsv\", \n",
    "                               sep='\\t')\n",
    "methylotroph_expression.T.to_csv(data_dir + \n",
    "                               \"methylotroph_expression_pooled_on_gene_name.tsv\", \n",
    "                               sep='\\t')"
   ]
  },
  {
   "cell_type": "code",
   "execution_count": 24,
   "metadata": {
    "collapsed": false
   },
   "outputs": [
    {
     "data": {
      "text/plain": [
       "(83, 4840)"
      ]
     },
     "execution_count": 24,
     "metadata": {},
     "output_type": "execute_result"
    }
   ],
   "source": [
    "methanotroph_expression.T.shape"
   ]
  },
  {
   "cell_type": "markdown",
   "metadata": {},
   "source": [
    "Save the gene names"
   ]
  },
  {
   "cell_type": "code",
   "execution_count": null,
   "metadata": {
    "collapsed": false
   },
   "outputs": [],
   "source": [
    "methanotroph_expression.index.to_series().head()"
   ]
  },
  {
   "cell_type": "code",
   "execution_count": null,
   "metadata": {
    "collapsed": true
   },
   "outputs": [],
   "source": [
    "m_gene_names = methanotroph_expression.copy().reset_index()['product']\n",
    "nmm_gene_names = methylotroph_expression.copy().reset_index()['product']"
   ]
  },
  {
   "cell_type": "code",
   "execution_count": null,
   "metadata": {
    "collapsed": false
   },
   "outputs": [],
   "source": [
    "m_gene_names.head()"
   ]
  },
  {
   "cell_type": "code",
   "execution_count": null,
   "metadata": {
    "collapsed": false
   },
   "outputs": [],
   "source": [
    "m_gene_names.to_csv(\n",
    "    data_dir + \"methanotroph_gene_names.tsv\", sep='\\t', index=False)\n",
    "nmm_gene_names.to_csv(\n",
    "    data_dir + \"methylotroph_gene_names.tsv\", sep='\\t', index=False)"
   ]
  },
  {
   "cell_type": "code",
   "execution_count": null,
   "metadata": {
    "collapsed": false
   },
   "outputs": [],
   "source": [
    "pd.read_csv(data_dir + \"methanotroph_expression_pooled_on_gene_name.tsv\", \n",
    "            sep='\\t').head()"
   ]
  },
  {
   "cell_type": "code",
   "execution_count": null,
   "metadata": {
    "collapsed": false
   },
   "outputs": [],
   "source": [
    "pd.read_csv(data_dir + \"methylotroph_expression_pooled_on_gene_name.tsv\", \n",
    "            sep='\\t').head()"
   ]
  },
  {
   "cell_type": "markdown",
   "metadata": {
    "collapsed": true
   },
   "source": [
    "## Split data into cross-val folds and write to tsv files"
   ]
  },
  {
   "cell_type": "code",
   "execution_count": null,
   "metadata": {
    "collapsed": true
   },
   "outputs": [],
   "source": [
    "[s for s in methanotroph_expression.index.tolist() if 'hypothetical' in s]"
   ]
  },
  {
   "cell_type": "code",
   "execution_count": null,
   "metadata": {
    "collapsed": true
   },
   "outputs": [],
   "source": [
    "[s for s in methanotroph_expression.index.tolist() if 'unknown' in s]"
   ]
  },
  {
   "cell_type": "code",
   "execution_count": null,
   "metadata": {
    "collapsed": false
   },
   "outputs": [],
   "source": [
    "m_remove_lbls = [s for s in methanotroph_expression.index.tolist() if 'hypothetical' in s or 'unknown' in s]\n",
    "methanotroph_expression.loc[m_remove_lbls]"
   ]
  },
  {
   "cell_type": "code",
   "execution_count": null,
   "metadata": {
    "collapsed": false
   },
   "outputs": [],
   "source": [
    "nmm_remove_lbls = [s for s in methylotroph_expression.index.tolist() if 'hypothetical' in s or 'unknown' in s]\n",
    "methylotroph_expression.loc[nmm_remove_lbls]"
   ]
  },
  {
   "cell_type": "code",
   "execution_count": 25,
   "metadata": {
    "collapsed": true
   },
   "outputs": [],
   "source": [
    "def filter_genes(df, remove_tags):\n",
    "    keep_lbls = [s for s in df.index.tolist() if not any(x in s for x in remove_tags)]\n",
    "    return df.loc[keep_lbls]\n"
   ]
  },
  {
   "cell_type": "code",
   "execution_count": 26,
   "metadata": {
    "collapsed": false
   },
   "outputs": [],
   "source": [
    "m_filtered = filter_genes(methanotroph_expression, ['hypothetical','unknown'])\n",
    "nmm_filtered = filter_genes(methylotroph_expression, ['hypothetical','unknown'])"
   ]
  },
  {
   "cell_type": "code",
   "execution_count": 27,
   "metadata": {
    "collapsed": false
   },
   "outputs": [
    {
     "name": "stdout",
     "output_type": "stream",
     "text": [
      "(4563, 83)\n",
      "(9324, 83)\n"
     ]
    }
   ],
   "source": [
    "print m_filtered.shape\n",
    "print nmm_filtered.shape"
   ]
  },
  {
   "cell_type": "code",
   "execution_count": 28,
   "metadata": {
    "collapsed": false
   },
   "outputs": [
    {
     "name": "stdout",
     "output_type": "stream",
     "text": [
      "# hypothetical/unknown methanotroph genes: 277\n",
      "# hypothetical/unknown methylotroph genes: 799\n"
     ]
    }
   ],
   "source": [
    "print \"# hypothetical/unknown methanotroph genes:\", (methanotroph_expression.shape[0]-m_filtered.shape[0])\n",
    "print \"# hypothetical/unknown methylotroph genes:\", (methylotroph_expression.shape[0]-nmm_filtered.shape[0])"
   ]
  },
  {
   "cell_type": "code",
   "execution_count": 29,
   "metadata": {
    "collapsed": true
   },
   "outputs": [],
   "source": [
    "from sklearn.preprocessing import StandardScaler\n",
    "ss = StandardScaler()\n",
    "# m_ss = ss.fit_transform(m_filtered)\n",
    "# nmm_ss = ss.fit_transform(nmm_filtered)"
   ]
  },
  {
   "cell_type": "code",
   "execution_count": 30,
   "metadata": {
    "collapsed": false
   },
   "outputs": [
    {
     "name": "stdout",
     "output_type": "stream",
     "text": [
      "(83L, 4563L)\n",
      "(83L, 9324L)\n"
     ]
    }
   ],
   "source": [
    "m_ss = ss.fit_transform(m_filtered.T)\n",
    "nmm_ss = ss.fit_transform(nmm_filtered.T)\n",
    "print m_ss.shape\n",
    "print nmm_ss.shape"
   ]
  },
  {
   "cell_type": "code",
   "execution_count": 31,
   "metadata": {
    "collapsed": false
   },
   "outputs": [],
   "source": [
    "from sklearn.cross_validation import KFold"
   ]
  },
  {
   "cell_type": "code",
   "execution_count": 32,
   "metadata": {
    "collapsed": false
   },
   "outputs": [
    {
     "name": "stdout",
     "output_type": "stream",
     "text": [
      "83\n"
     ]
    }
   ],
   "source": [
    "N = methanotroph_expression.shape[1]\n",
    "print N"
   ]
  },
  {
   "cell_type": "code",
   "execution_count": 33,
   "metadata": {
    "collapsed": true
   },
   "outputs": [],
   "source": [
    "kf = KFold(n=N, n_folds=4, shuffle=True, random_state=100)"
   ]
  },
  {
   "cell_type": "code",
   "execution_count": 38,
   "metadata": {
    "collapsed": false
   },
   "outputs": [
    {
     "name": "stdout",
     "output_type": "stream",
     "text": [
      "(62L, 4563L)\n",
      "(21L, 4563L)\n",
      "(62L, 4563L)\n",
      "(21L, 4563L)\n",
      "(62L, 4563L)\n",
      "(21L, 4563L)\n",
      "(63L, 4563L)\n",
      "(20L, 4563L)\n"
     ]
    }
   ],
   "source": [
    "data_dir = '../../data/cross_val_data/'\n",
    "fold_num = 1\n",
    "for train, val in kf:\n",
    "    m_str = data_dir + \"methanotroph_fold\" + str(fold_num) + \"_ss\"\n",
    "    nmm_str = data_dir + \"methylotroph_fold\" + str(fold_num) + \"_ss\"\n",
    "    \n",
    "    train_m = ss.fit_transform(m_ss[train,:])\n",
    "    val_m = ss.fit_transform(m_ss[val,:])\n",
    "    train_nmm = ss.fit_transform(nmm_ss[train,:])\n",
    "    val_nmm = ss.fit_transform(nmm_ss[val,:])\n",
    "    \n",
    "    print train_m.shape\n",
    "    print val_m.shape\n",
    "    np.savetxt(m_str + \"_train.tsv\", train_m, delimiter='\\t')\n",
    "    np.savetxt(m_str + \"_val.tsv\", val_m, delimiter='\\t')\n",
    "    np.savetxt(nmm_str + \"_train.tsv\", train_nmm, delimiter='\\t')\n",
    "    np.savetxt(nmm_str + \"_val.tsv\", val_nmm, delimiter='\\t')\n",
    "    \n",
    "    fold_num += 1"
   ]
  },
  {
   "cell_type": "code",
   "execution_count": 35,
   "metadata": {
    "collapsed": false
   },
   "outputs": [
    {
     "data": {
      "text/plain": [
       "array([ 0.01210963,  0.00278007, -0.03242882, ..., -0.02547333,\n",
       "        0.04726587, -0.05333369])"
      ]
     },
     "execution_count": 35,
     "metadata": {},
     "output_type": "execute_result"
    }
   ],
   "source": [
    "np.mean(train_m, axis=0)"
   ]
  },
  {
   "cell_type": "code",
   "execution_count": 36,
   "metadata": {
    "collapsed": false
   },
   "outputs": [
    {
     "data": {
      "text/plain": [
       "array([ 0.9705116 ,  1.01769309,  0.92480987, ...,  0.93245397,\n",
       "        1.14376088,  0.9765905 ])"
      ]
     },
     "execution_count": 36,
     "metadata": {},
     "output_type": "execute_result"
    }
   ],
   "source": [
    "np.std(train_m, axis=0)"
   ]
  },
  {
   "cell_type": "code",
   "execution_count": null,
   "metadata": {
    "collapsed": false
   },
   "outputs": [],
   "source": [
    "train_m.shape"
   ]
  },
  {
   "cell_type": "code",
   "execution_count": null,
   "metadata": {
    "collapsed": true
   },
   "outputs": [],
   "source": []
  },
  {
   "cell_type": "code",
   "execution_count": null,
   "metadata": {
    "collapsed": true
   },
   "outputs": [],
   "source": []
  }
 ],
 "metadata": {
  "anaconda-cloud": {},
  "kernelspec": {
   "display_name": "Python [conda root]",
   "language": "python",
   "name": "conda-root-py"
  },
  "language_info": {
   "codemirror_mode": {
    "name": "ipython",
    "version": 2
   },
   "file_extension": ".py",
   "mimetype": "text/x-python",
   "name": "python",
   "nbconvert_exporter": "python",
   "pygments_lexer": "ipython2",
   "version": "2.7.12"
  }
 },
 "nbformat": 4,
 "nbformat_minor": 1
}
