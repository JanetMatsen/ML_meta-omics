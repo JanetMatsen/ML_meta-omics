{
 "cells": [
  {
   "cell_type": "code",
   "execution_count": null,
   "metadata": {
    "collapsed": false
   },
   "outputs": [],
   "source": [
    "import sys\n",
    "assert sys.version_info.major == 2, \"python version is {}\".format(sys.version_info.major)\n",
    "print(sys.version)"
   ]
  },
  {
   "cell_type": "code",
   "execution_count": null,
   "metadata": {
    "collapsed": false
   },
   "outputs": [],
   "source": [
    "import math\n",
    "import matplotlib as mpl\n",
    "import matplotlib\n",
    "matplotlib.use('Agg')\n",
    "%matplotlib inline\n",
    "import matplotlib.pyplot as plt\n",
    "import numpy as np\n",
    "import pandas as pd\n",
    "import seaborn as sns\n",
    "import subprocess"
   ]
  },
  {
   "cell_type": "code",
   "execution_count": null,
   "metadata": {
    "collapsed": true
   },
   "outputs": [],
   "source": [
    "sys.path.append('../../code/')"
   ]
  },
  {
   "cell_type": "code",
   "execution_count": null,
   "metadata": {
    "collapsed": true
   },
   "outputs": [],
   "source": [
    "from utils import split_df, aggregate_df"
   ]
  },
  {
   "cell_type": "code",
   "execution_count": null,
   "metadata": {
    "collapsed": false
   },
   "outputs": [],
   "source": [
    "# ! ls -l ../../data/genomes_curated.tsv"
   ]
  },
  {
   "cell_type": "code",
   "execution_count": null,
   "metadata": {
    "collapsed": false
   },
   "outputs": [],
   "source": [
    "# ! head ../../data/genomes_curated.tsv"
   ]
  },
  {
   "cell_type": "code",
   "execution_count": null,
   "metadata": {
    "collapsed": false
   },
   "outputs": [],
   "source": [
    "## Create a pandas dataframe to hold the gene expression data\n",
    "GENE_EXP_DATA = \"../../data/raw_data/3_summary_rpkm.xls\"\n",
    "meta4_exp = pd.read_csv(GENE_EXP_DATA, sep='\\t')\n",
    "genomes = pd.read_csv('../../data/genomes_curated.tsv', sep='\\t')"
   ]
  },
  {
   "cell_type": "code",
   "execution_count": null,
   "metadata": {
    "collapsed": false
   },
   "outputs": [],
   "source": [
    "meta4_exp = meta4_exp.merge(genomes)\n",
    "meta4_exp.head(3)"
   ]
  },
  {
   "cell_type": "code",
   "execution_count": null,
   "metadata": {
    "collapsed": false
   },
   "outputs": [],
   "source": [
    "split_by_type = split_df(meta4_exp, 'type')\n",
    "split_by_type.keys()"
   ]
  },
  {
   "cell_type": "code",
   "execution_count": null,
   "metadata": {
    "collapsed": false
   },
   "outputs": [],
   "source": [
    "split_by_type['m'].shape"
   ]
  },
  {
   "cell_type": "code",
   "execution_count": null,
   "metadata": {
    "collapsed": false
   },
   "outputs": [],
   "source": [
    "split_by_type['nmm'].shape"
   ]
  },
  {
   "cell_type": "code",
   "execution_count": null,
   "metadata": {
    "collapsed": false
   },
   "outputs": [],
   "source": [
    "methanotroph_expression = aggregate_df(split_by_type['m'], 'product', colnorm=False)\n",
    "methanotroph_expression.shape"
   ]
  },
  {
   "cell_type": "code",
   "execution_count": null,
   "metadata": {
    "collapsed": false
   },
   "outputs": [],
   "source": [
    "methanotroph_expression.head()"
   ]
  },
  {
   "cell_type": "code",
   "execution_count": null,
   "metadata": {
    "collapsed": false
   },
   "outputs": [],
   "source": [
    "methylotroph_expression = aggregate_df(split_by_type['nmm'], 'product', colnorm=False)\n",
    "methylotroph_expression.shape"
   ]
  },
  {
   "cell_type": "markdown",
   "metadata": {},
   "source": [
    "Remove rows with zero variance.  R's CCA function won't tolerate them."
   ]
  },
  {
   "cell_type": "code",
   "execution_count": null,
   "metadata": {
    "collapsed": false
   },
   "outputs": [],
   "source": [
    "methanotroph_expression.shape"
   ]
  },
  {
   "cell_type": "code",
   "execution_count": null,
   "metadata": {
    "collapsed": false
   },
   "outputs": [],
   "source": [
    "methanotroph_expression = \\\n",
    "    methanotroph_expression.loc[methanotroph_expression.std(axis=1) > 0.001, :]"
   ]
  },
  {
   "cell_type": "code",
   "execution_count": null,
   "metadata": {
    "collapsed": false
   },
   "outputs": [],
   "source": [
    "methanotroph_expression.shape"
   ]
  },
  {
   "cell_type": "code",
   "execution_count": null,
   "metadata": {
    "collapsed": false
   },
   "outputs": [],
   "source": [
    "print(methylotroph_expression.shape)\n",
    "methylotroph_expression = \\\n",
    "    methylotroph_expression.loc[methylotroph_expression.std(axis=1) > 0.001, :]\n",
    "print(methylotroph_expression.shape)"
   ]
  },
  {
   "cell_type": "code",
   "execution_count": null,
   "metadata": {
    "collapsed": false
   },
   "outputs": [],
   "source": [
    "methanotroph_expression.head()"
   ]
  },
  {
   "cell_type": "code",
   "execution_count": null,
   "metadata": {
    "collapsed": false
   },
   "outputs": [],
   "source": [
    "# ! mkdir ../../data/m_nmm_expression--sum_by_gene"
   ]
  },
  {
   "cell_type": "code",
   "execution_count": null,
   "metadata": {
    "collapsed": false
   },
   "outputs": [],
   "source": [
    "data_dir = '../../data/m_nmm_expression--sum_by_gene/'\n",
    "methanotroph_expression.T.to_csv(data_dir + \n",
    "                               \"methanotroph_expression_pooled_on_gene_name.tsv\", \n",
    "                               sep='\\t')\n",
    "methylotroph_expression.T.to_csv(data_dir + \n",
    "                               \"methylotroph_expression_pooled_on_gene_name.tsv\", \n",
    "                               sep='\\t')"
   ]
  },
  {
   "cell_type": "code",
   "execution_count": null,
   "metadata": {
    "collapsed": false
   },
   "outputs": [],
   "source": [
    "methanotroph_expression.T.shape"
   ]
  },
  {
   "cell_type": "markdown",
   "metadata": {},
   "source": [
    "Save the gene names"
   ]
  },
  {
   "cell_type": "code",
   "execution_count": null,
   "metadata": {
    "collapsed": false
   },
   "outputs": [],
   "source": [
    "methanotroph_expression.index.to_series().head()"
   ]
  },
  {
   "cell_type": "code",
   "execution_count": null,
   "metadata": {
    "collapsed": true
   },
   "outputs": [],
   "source": [
    "m_gene_names = methanotroph_expression.copy().reset_index()['product']\n",
    "nmm_gene_names = methylotroph_expression.copy().reset_index()['product']"
   ]
  },
  {
   "cell_type": "code",
   "execution_count": null,
   "metadata": {
    "collapsed": false
   },
   "outputs": [],
   "source": [
    "m_gene_names.head()"
   ]
  },
  {
   "cell_type": "code",
   "execution_count": null,
   "metadata": {
    "collapsed": false
   },
   "outputs": [],
   "source": [
    "m_gene_names.to_csv(\n",
    "    data_dir + \"methanotroph_gene_names.tsv\", sep='\\t', index=False)\n",
    "nmm_gene_names.to_csv(\n",
    "    data_dir + \"methylotroph_gene_names.tsv\", sep='\\t', index=False)"
   ]
  },
  {
   "cell_type": "code",
   "execution_count": null,
   "metadata": {
    "collapsed": false
   },
   "outputs": [],
   "source": [
    "pd.read_csv(data_dir + \"methanotroph_expression_pooled_on_gene_name.tsv\", \n",
    "            sep='\\t').head()"
   ]
  },
  {
   "cell_type": "code",
   "execution_count": null,
   "metadata": {
    "collapsed": false
   },
   "outputs": [],
   "source": [
    "pd.read_csv(data_dir + \"methylotroph_expression_pooled_on_gene_name.tsv\", \n",
    "            sep='\\t').head()"
   ]
  },
  {
   "cell_type": "markdown",
   "metadata": {
    "collapsed": true
   },
   "source": [
    "## Split data into cross-val folds and write to tsv files"
   ]
  },
  {
   "cell_type": "code",
   "execution_count": null,
   "metadata": {
    "collapsed": false
   },
   "outputs": [],
   "source": [
    "[s for s in methanotroph_expression.index.tolist() if 'hypothetical' in s]"
   ]
  },
  {
   "cell_type": "code",
   "execution_count": null,
   "metadata": {
    "collapsed": false
   },
   "outputs": [],
   "source": [
    "[s for s in methanotroph_expression.index.tolist() if 'unknown' in s]"
   ]
  },
  {
   "cell_type": "code",
   "execution_count": null,
   "metadata": {
    "collapsed": false
   },
   "outputs": [],
   "source": [
    "m_remove_lbls = [s for s in methanotroph_expression.index.tolist() if 'hypothetical' in s or 'unknown' in s]\n",
    "methanotroph_expression.loc[m_remove_lbls]"
   ]
  },
  {
   "cell_type": "code",
   "execution_count": null,
   "metadata": {
    "collapsed": false
   },
   "outputs": [],
   "source": [
    "nmm_remove_lbls = [s for s in methylotroph_expression.index.tolist() if 'hypothetical' in s or 'unknown' in s]\n",
    "methylotroph_expression.loc[nmm_remove_lbls]"
   ]
  },
  {
   "cell_type": "code",
   "execution_count": null,
   "metadata": {
    "collapsed": true
   },
   "outputs": [],
   "source": [
    "def filter_genes(df, remove_tags):\n",
    "    keep_lbls = [s for s in df.index.tolist() if not any(x in s for x in remove_tags)]\n",
    "    return df.loc[keep_lbls]\n"
   ]
  },
  {
   "cell_type": "code",
   "execution_count": null,
   "metadata": {
    "collapsed": false
   },
   "outputs": [],
   "source": [
    "m_filtered = filter_genes(methanotroph_expression, ['hypothetical','unknown'])\n",
    "nmm_filtered = filter_genes(methylotroph_expression, ['hypothetical','unknown'])"
   ]
  },
  {
   "cell_type": "code",
   "execution_count": null,
   "metadata": {
    "collapsed": false
   },
   "outputs": [],
   "source": [
    "print m_filtered.shape\n",
    "print nmm_filtered.shape"
   ]
  },
  {
   "cell_type": "code",
   "execution_count": null,
   "metadata": {
    "collapsed": false
   },
   "outputs": [],
   "source": [
    "print \"# hypothetical/unknown methanotroph genes:\", (methanotroph_expression.shape[0]-m_filtered.shape[0])\n",
    "print \"# hypothetical/unknown methylotroph genes:\", (methylotroph_expression.shape[0]-nmm_filtered.shape[0])"
   ]
  },
  {
   "cell_type": "code",
   "execution_count": null,
   "metadata": {
    "collapsed": true
   },
   "outputs": [],
   "source": [
    "from sklearn.preprocessing import StandardScaler\n",
    "ss = StandardScaler()\n",
    "# m_ss = ss.fit_transform(m_filtered)\n",
    "# nmm_ss = ss.fit_transform(nmm_filtered)"
   ]
  },
  {
   "cell_type": "code",
   "execution_count": null,
   "metadata": {
    "collapsed": false
   },
   "outputs": [],
   "source": [
    "m_ss = ss.fit_transform(m_filtered.T)\n",
    "nmm_ss = ss.fit_transform(nmm_filtered.T)\n",
    "print m_ss.shape\n",
    "print nmm_ss.shape"
   ]
  },
  {
   "cell_type": "code",
   "execution_count": null,
   "metadata": {
    "collapsed": true
   },
   "outputs": [],
   "source": [
    "## grab gene names from baseline filtered dataframes\n",
    "m_genes = m_filtered.copy().reset_index()['product']\n",
    "nmm_genes = nmm_filtered.copy().reset_index()['product']"
   ]
  },
  {
   "cell_type": "code",
   "execution_count": null,
   "metadata": {
    "collapsed": false
   },
   "outputs": [],
   "source": [
    "nmm_genes[4:7]"
   ]
  },
  {
   "cell_type": "code",
   "execution_count": null,
   "metadata": {
    "collapsed": false
   },
   "outputs": [],
   "source": [
    "def filter_zero_variance(mat):\n",
    "    keep_inds = np.abs(np.var(mat, axis=0)) != 0 ## find cols with nonzero variance\n",
    "    return (mat[:,keep_inds], keep_inds)"
   ]
  },
  {
   "cell_type": "code",
   "execution_count": null,
   "metadata": {
    "collapsed": true
   },
   "outputs": [],
   "source": [
    "## filters out cols w/ nonzero variance in EITHER matrix\n",
    "def filter_zv_multi(mat1, mat2):\n",
    "    inds1 = np.abs(np.var(mat1, axis=0)) != 0\n",
    "    inds2 = np.abs(np.var(mat2, axis=0)) != 0\n",
    "    keep_inds = np.logical_and(inds1, inds2)\n",
    "    return(mat1[:,keep_inds], mat2[:,keep_inds], keep_inds)"
   ]
  },
  {
   "cell_type": "code",
   "execution_count": null,
   "metadata": {
    "collapsed": false
   },
   "outputs": [],
   "source": [
    "testmat, testinds = filter_zero_variance(m_ss)"
   ]
  },
  {
   "cell_type": "code",
   "execution_count": null,
   "metadata": {
    "collapsed": false
   },
   "outputs": [],
   "source": [
    "testmat.shape"
   ]
  },
  {
   "cell_type": "code",
   "execution_count": null,
   "metadata": {
    "collapsed": false
   },
   "outputs": [],
   "source": [
    "from sklearn.cross_validation import KFold"
   ]
  },
  {
   "cell_type": "code",
   "execution_count": null,
   "metadata": {
    "collapsed": false
   },
   "outputs": [],
   "source": [
    "N = methanotroph_expression.shape[1]\n",
    "print N"
   ]
  },
  {
   "cell_type": "code",
   "execution_count": null,
   "metadata": {
    "collapsed": true
   },
   "outputs": [],
   "source": [
    "kf = KFold(n=N, n_folds=4, shuffle=True, random_state=100)"
   ]
  },
  {
   "cell_type": "code",
   "execution_count": null,
   "metadata": {
    "collapsed": false
   },
   "outputs": [],
   "source": [
    "data_dir = '../../data/cross_val_data/'\n",
    "fold_num = 1\n",
    "for train, val in kf:\n",
    "    m_str = data_dir + \"methanotroph_fold\" + str(fold_num) + \"_ss_filtered\"\n",
    "    nmm_str = data_dir + \"methylotroph_fold\" + str(fold_num) + \"_ss_filtered\"\n",
    "    \n",
    "    train_m = ss.fit_transform(m_ss[train,:])\n",
    "    val_m = ss.fit_transform(m_ss[val,:])\n",
    "    train_nmm = ss.fit_transform(nmm_ss[train,:])\n",
    "    val_nmm = ss.fit_transform(nmm_ss[val,:])\n",
    "    \n",
    "    ## filter out zero-variance genes and record gene names for m/nmm sets\n",
    "    ## (train/val for a given dataset must have the same features)\n",
    "    tmmat, vmmat, minds = filter_zv_multi(train_m, val_m)\n",
    "    fold_mgenes = np.asarray(m_genes[minds])\n",
    "    \n",
    "    tnmm_mat, vnmm_mat, nmminds = filter_zv_multi(train_nmm, val_nmm)\n",
    "    fold_nmmgenes = np.asarray(nmm_genes[nmminds])\n",
    "    \n",
    "    print \"Fold#\", fold_num\n",
    "    print \"Unfiltered SS train_m matrix:\", train_m.shape\n",
    "    print \"Unfiltered SS val_m matrix:\", val_m.shape\n",
    "    print \"Nonzero variance train_m matrix:\", tmmat.shape\n",
    "    print \"Nonzero variance val_m matrix:\", vmmat.shape\n",
    "    print \"Gene name vector for methanotrophs:\", fold_mgenes.shape\n",
    "    \n",
    "    np.savetxt(m_str + \"_train.tsv\", tmmat, delimiter='\\t')\n",
    "    np.savetxt(m_str + \"_val.tsv\", vmmat, delimiter='\\t')\n",
    "    np.savetxt(m_str + \"_genes.tsv\", fold_mgenes, fmt='%s', delimiter='\\t')\n",
    "    np.savetxt(nmm_str + \"_train.tsv\", tnmm_mat, delimiter='\\t')\n",
    "    np.savetxt(nmm_str + \"_val.tsv\", vnmm_mat, delimiter='\\t')\n",
    "    np.savetxt(nmm_str + \"_genes.tsv\", fold_nmmgenes, fmt='%s', delimiter='\\t')\n",
    "    \n",
    "    fold_num += 1"
   ]
  },
  {
   "cell_type": "code",
   "execution_count": null,
   "metadata": {
    "collapsed": false
   },
   "outputs": [],
   "source": [
    "np.mean(train_m, axis=0)"
   ]
  },
  {
   "cell_type": "code",
   "execution_count": null,
   "metadata": {
    "collapsed": false
   },
   "outputs": [],
   "source": [
    "np.std(train_m, axis=0)"
   ]
  },
  {
   "cell_type": "code",
   "execution_count": null,
   "metadata": {
    "collapsed": false
   },
   "outputs": [],
   "source": [
    "train_m.shape"
   ]
  },
  {
   "cell_type": "code",
   "execution_count": null,
   "metadata": {
    "collapsed": false
   },
   "outputs": [],
   "source": [
    "np.sum(np.abs(np.var(train_m, axis=0)) == 0)"
   ]
  },
  {
   "cell_type": "code",
   "execution_count": null,
   "metadata": {
    "collapsed": false
   },
   "outputs": [],
   "source": [
    "np.abs(np.var(train_m, axis=0)) == 0"
   ]
  },
  {
   "cell_type": "code",
   "execution_count": null,
   "metadata": {
    "collapsed": true
   },
   "outputs": [],
   "source": [
    "testmat,testinds = filter_zero_variance(train_m)\n",
    "vmat, vinds = filter_zero_variance(val_m)"
   ]
  },
  {
   "cell_type": "code",
   "execution_count": null,
   "metadata": {
    "collapsed": false
   },
   "outputs": [],
   "source": [
    "print testmat.shape\n",
    "print vmat.shape"
   ]
  },
  {
   "cell_type": "code",
   "execution_count": null,
   "metadata": {
    "collapsed": false
   },
   "outputs": [],
   "source": [
    "bothinds = np.logical_and(testinds, vinds)\n",
    "print sum(bothinds)\n",
    "print bothinds.shape"
   ]
  },
  {
   "cell_type": "code",
   "execution_count": null,
   "metadata": {
    "collapsed": false
   },
   "outputs": [],
   "source": [
    "bothnames = np.asarray(m_genes[bothinds])\n",
    "print bothnames.shape"
   ]
  },
  {
   "cell_type": "code",
   "execution_count": null,
   "metadata": {
    "collapsed": true
   },
   "outputs": [],
   "source": [
    "[i for i,x in enumerate(testinds) if not x]"
   ]
  },
  {
   "cell_type": "code",
   "execution_count": null,
   "metadata": {
    "collapsed": false
   },
   "outputs": [],
   "source": [
    "testnames[174]"
   ]
  },
  {
   "cell_type": "code",
   "execution_count": null,
   "metadata": {
    "collapsed": false
   },
   "outputs": [],
   "source": [
    "tmat, vmat, bothinds = filter_zv_multi(train_m, val_m)\n",
    "print tmat.shape\n",
    "print vmat.shape"
   ]
  },
  {
   "cell_type": "code",
   "execution_count": null,
   "metadata": {
    "collapsed": true
   },
   "outputs": [],
   "source": []
  }
 ],
 "metadata": {
  "anaconda-cloud": {},
  "kernelspec": {
   "display_name": "Python [conda root]",
   "language": "python",
   "name": "conda-root-py"
  },
  "language_info": {
   "codemirror_mode": {
    "name": "ipython",
    "version": 2
   },
   "file_extension": ".py",
   "mimetype": "text/x-python",
   "name": "python",
   "nbconvert_exporter": "python",
   "pygments_lexer": "ipython2",
   "version": "2.7.12"
  }
 },
 "nbformat": 4,
 "nbformat_minor": 1
}
