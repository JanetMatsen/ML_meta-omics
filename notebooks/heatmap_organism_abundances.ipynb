{
 "cells": [
  {
   "cell_type": "code",
   "execution_count": null,
   "metadata": {
    "collapsed": false
   },
   "outputs": [],
   "source": [
    "import math\n",
    "import matplotlib as mpl\n",
    "import matplotlib\n",
    "matplotlib.use('Agg')\n",
    "%matplotlib inline\n",
    "import matplotlib.pyplot as plt\n",
    "import pandas as pd\n",
    "import seaborn as sns\n",
    "import sys"
   ]
  },
  {
   "cell_type": "code",
   "execution_count": null,
   "metadata": {
    "collapsed": true
   },
   "outputs": [],
   "source": [
    "sys.path.append('../code/')"
   ]
  },
  {
   "cell_type": "code",
   "execution_count": null,
   "metadata": {
    "collapsed": true
   },
   "outputs": [],
   "source": [
    "from utils import split_df, aggregate_df"
   ]
  },
  {
   "cell_type": "code",
   "execution_count": null,
   "metadata": {
    "collapsed": true
   },
   "outputs": [],
   "source": [
    "## Create a pandas dataframe to hold the gene expression data\n",
    "GENE_EXP_DATA = \"../data/raw_data/3_summary_rpkm.xls\"\n",
    "meta4_exp = pd.read_csv(GENE_EXP_DATA, sep='\\t')\n",
    "genomes = pd.read_csv('../data/genomes_curated.tsv', sep='\\t')"
   ]
  },
  {
   "cell_type": "code",
   "execution_count": null,
   "metadata": {
    "collapsed": false
   },
   "outputs": [],
   "source": [
    "meta4_exp = meta4_exp.merge(genomes)\n",
    "meta4_exp.head(3)"
   ]
  },
  {
   "cell_type": "code",
   "execution_count": null,
   "metadata": {
    "collapsed": false
   },
   "outputs": [],
   "source": [
    "split_by_type = split_df(meta4_exp, 'type')\n",
    "split_by_type.keys()"
   ]
  },
  {
   "cell_type": "code",
   "execution_count": null,
   "metadata": {
    "collapsed": false
   },
   "outputs": [],
   "source": [
    "split_by_type['m'].shape"
   ]
  },
  {
   "cell_type": "code",
   "execution_count": null,
   "metadata": {
    "collapsed": false
   },
   "outputs": [],
   "source": [
    "split_by_type['nmm'].shape"
   ]
  },
  {
   "cell_type": "code",
   "execution_count": null,
   "metadata": {
    "collapsed": false
   },
   "outputs": [],
   "source": [
    "methanotroph_abundances = aggregate_df(split_by_type['m'], 'genome', colnorm=True)\n",
    "methanotroph_abundances.shape"
   ]
  },
  {
   "cell_type": "code",
   "execution_count": null,
   "metadata": {
    "collapsed": false
   },
   "outputs": [],
   "source": [
    "methylotroph_abundances = aggregate_df(split_by_type['nmm'], 'genome', colnorm=True)\n",
    "methylotroph_abundances.shape"
   ]
  },
  {
   "cell_type": "code",
   "execution_count": null,
   "metadata": {
    "collapsed": false
   },
   "outputs": [],
   "source": [
    "methanotroph_abundances.head()"
   ]
  },
  {
   "cell_type": "code",
   "execution_count": null,
   "metadata": {
    "collapsed": false
   },
   "outputs": [],
   "source": [
    "sample_info = pd.read_csv('../data/sample_info.tsv', sep='\\t')\n",
    "sample_info.head(3)"
   ]
  },
  {
   "cell_type": "code",
   "execution_count": null,
   "metadata": {
    "collapsed": true
   },
   "outputs": [],
   "source": [
    "def prepare_df(df, sample_info):\n",
    "    df = df.copy()  # for dev purposes\n",
    "    # 'LakWasM130_HOW14_2_rpkm' --> '130_HOW14'\n",
    "    df.columns = df.columns.str.extract('([0-9]*_[A-z]*[0-9]*)_', expand=False)\n",
    "    # merge on the sample info to parse the oxygen, rep, week info.\n",
    "    # The sample info are columns.  Transpose and reset index to access them. \n",
    "    orgs_as_cols = df.T.reset_index()\n",
    "    orgs_as_cols.rename(columns={'index':'ID'}, inplace=True)\n",
    "    df = pd.merge(orgs_as_cols, sample_info)\n",
    "    del df['ID']\n",
    "    del df['project']\n",
    "    df.set_index(['oxy', 'rep', 'week'], inplace=True)\n",
    "    return df\n",
    "    "
   ]
  },
  {
   "cell_type": "code",
   "execution_count": null,
   "metadata": {
    "collapsed": false
   },
   "outputs": [],
   "source": [
    "methane = prepare_df(methanotroph_abundances, sample_info)"
   ]
  },
  {
   "cell_type": "code",
   "execution_count": null,
   "metadata": {
    "collapsed": false
   },
   "outputs": [],
   "source": [
    "methane.head(2)"
   ]
  },
  {
   "cell_type": "code",
   "execution_count": null,
   "metadata": {
    "collapsed": false
   },
   "outputs": [],
   "source": [
    "sns.heatmap(methane, cmap=\"YlGnBu\")"
   ]
  },
  {
   "cell_type": "code",
   "execution_count": null,
   "metadata": {
    "collapsed": false
   },
   "outputs": [],
   "source": [
    "methane.iloc[methane.index.get_level_values('oxy') == 'Low']"
   ]
  },
  {
   "cell_type": "code",
   "execution_count": null,
   "metadata": {
    "collapsed": false
   },
   "outputs": [],
   "source": [
    "plot_data = methane.iloc[(methane.index.get_level_values('oxy') == 'Low') & \n",
    "           (methane.index.get_level_values('rep') == 1)]"
   ]
  },
  {
   "cell_type": "code",
   "execution_count": null,
   "metadata": {
    "collapsed": false
   },
   "outputs": [],
   "source": [
    "plot_data.head(2)"
   ]
  },
  {
   "cell_type": "code",
   "execution_count": null,
   "metadata": {
    "collapsed": false
   },
   "outputs": [],
   "source": [
    "methane.loc['Low', 1]"
   ]
  },
  {
   "cell_type": "code",
   "execution_count": null,
   "metadata": {
    "collapsed": true
   },
   "outputs": [],
   "source": [
    "methanol = prepare_df(methylotroph_abundances, sample_info)"
   ]
  },
  {
   "cell_type": "raw",
   "metadata": {},
   "source": [
    "plot_data = methanol.iloc[(methanol.index.get_level_values('oxy') == 'Low') & \n",
    "                   (methanol.index.get_level_values('rep') == 1)].T\n",
    "sns.heatmap(plot_data)"
   ]
  },
  {
   "cell_type": "code",
   "execution_count": null,
   "metadata": {
    "collapsed": false
   },
   "outputs": [],
   "source": [
    "plot_data.head(3)"
   ]
  },
  {
   "cell_type": "code",
   "execution_count": null,
   "metadata": {
    "collapsed": false
   },
   "outputs": [],
   "source": [
    "x = methane.loc['Low', 1]"
   ]
  },
  {
   "cell_type": "code",
   "execution_count": null,
   "metadata": {
    "collapsed": false
   },
   "outputs": [],
   "source": [
    "sns.heatmap(x.T)"
   ]
  },
  {
   "cell_type": "code",
   "execution_count": null,
   "metadata": {
    "collapsed": true
   },
   "outputs": [],
   "source": [
    "for "
   ]
  },
  {
   "cell_type": "code",
   "execution_count": null,
   "metadata": {
    "collapsed": false
   },
   "outputs": [],
   "source": [
    "methanol.head(2)"
   ]
  },
  {
   "cell_type": "code",
   "execution_count": null,
   "metadata": {
    "collapsed": false
   },
   "outputs": [],
   "source": [
    "toy = pd.read_csv('../data/toy/toy_oxy_rep_week_org.csv')\n",
    "toy.head(2)"
   ]
  },
  {
   "cell_type": "code",
   "execution_count": null,
   "metadata": {
    "collapsed": false
   },
   "outputs": [],
   "source": [
    "for tup, df in toy.groupby(['oxy', 'rep']):\n",
    "    print(tup)\n",
    "    del df['oxy']\n",
    "    del df['rep']\n",
    "    df.set_index(['week'], inplace=True)\n",
    "    print(df.head(2))\n",
    "    fig, axs = plt.subplots(1, 1, figsize=(2, 3))\n",
    "    sns.heatmap(df.T, ax=axs)"
   ]
  },
  {
   "cell_type": "code",
   "execution_count": null,
   "metadata": {
    "collapsed": false
   },
   "outputs": [],
   "source": [
    "for tup, df in methanol.reset_index().groupby(['oxy', 'rep']):\n",
    "    print(tup)\n",
    "    del df['oxy']\n",
    "    del df['rep']\n",
    "    df.set_index(['week'], inplace=True)\n",
    "    print(df.head(2))\n",
    "    fig, axs = plt.subplots(1, 1, figsize=(3, 5))\n",
    "    sns.heatmap(df.T, ax=axs)"
   ]
  },
  {
   "cell_type": "code",
   "execution_count": null,
   "metadata": {
    "collapsed": false
   },
   "outputs": [],
   "source": [
    "assert False"
   ]
  },
  {
   "cell_type": "code",
   "execution_count": null,
   "metadata": {
    "collapsed": true
   },
   "outputs": [],
   "source": [
    "plot_data = methanol.head()"
   ]
  },
  {
   "cell_type": "code",
   "execution_count": null,
   "metadata": {
    "collapsed": false
   },
   "outputs": [],
   "source": [
    "toy = pd.read_csv('../data/toy/toy_oxy_rep_week_org.csv')\n",
    "toy.head(2)"
   ]
  },
  {
   "cell_type": "code",
   "execution_count": null,
   "metadata": {
    "collapsed": true
   },
   "outputs": [],
   "source": [
    "toy = pd.DataFrame({e})"
   ]
  },
  {
   "cell_type": "code",
   "execution_count": null,
   "metadata": {
    "collapsed": true
   },
   "outputs": [],
   "source": [
    "g.map_dataframe"
   ]
  },
  {
   "cell_type": "code",
   "execution_count": null,
   "metadata": {
    "collapsed": false
   },
   "outputs": [],
   "source": [
    "g = sns.FacetGrid(toy, col='rep')\n",
    "g.map_dataframe(lambda data: sns.heatmap(data))"
   ]
  },
  {
   "cell_type": "code",
   "execution_count": null,
   "metadata": {
    "collapsed": false
   },
   "outputs": [],
   "source": [
    "plot_data = toy\n",
    "\n",
    "def facet_heatmap(data, **kws):\n",
    "    facet_data = data.copy()\n",
    "    print(facet_data.head(2))\n",
    "    del facet_data['rep']\n",
    "    print(facet_data)\n",
    "    # Pass kwargs to heatmap  cmap used to be 'Blue'\n",
    "    sns.heatmap(facet_data, cmap=\"YlGnBu\", **kws)\n",
    "\n",
    "with sns.plotting_context(font_scale=7):\n",
    "    g = sns.FacetGrid(plot_data.reset_index(), row='oxy', col='rep',\n",
    "                      margin_titles=True)\n",
    "    g.set_xticklabels(rotation=90)\n",
    "\n",
    "g = g.map_dataframe(facet_heatmap,\n",
    "                    #cbar_ax=cbar_ax, \n",
    "                    #vmin=0,\n",
    "                    # specify vmax = max abundance seen or each will\n",
    "                    # have its own scale (and you might not know it!)\n",
    "                    #vmax=dataframe['fraction of reads'].max(),\n",
    "                    )"
   ]
  },
  {
   "cell_type": "code",
   "execution_count": null,
   "metadata": {
    "collapsed": false
   },
   "outputs": [],
   "source": [
    "def facet_heatmap(data):\n",
    "    facet_data = data.pivot(index='rep', columns='week') #,\n",
    "                            #values='fraction of reads')\n",
    "    print(facet_data.head(2))\n",
    "    sns.heatmap(facet_data, cmap=\"YlGnBu\")\n",
    "\n",
    "facet_heatmap(methane.loc['Low'].reset_index())"
   ]
  },
  {
   "cell_type": "code",
   "execution_count": null,
   "metadata": {
    "collapsed": true
   },
   "outputs": [],
   "source": []
  }
 ],
 "metadata": {
  "anaconda-cloud": {},
  "kernelspec": {
   "display_name": "Python [conda env:mlproj]",
   "language": "python",
   "name": "conda-env-mlproj-py"
  },
  "language_info": {
   "codemirror_mode": {
    "name": "ipython",
    "version": 2
   },
   "file_extension": ".py",
   "mimetype": "text/x-python",
   "name": "python",
   "nbconvert_exporter": "python",
   "pygments_lexer": "ipython2",
   "version": "2.7.12"
  }
 },
 "nbformat": 4,
 "nbformat_minor": 1
}
