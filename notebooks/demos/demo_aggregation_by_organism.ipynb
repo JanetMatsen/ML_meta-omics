{
 "cells": [
  {
   "cell_type": "code",
   "execution_count": 1,
   "metadata": {
    "collapsed": true
   },
   "outputs": [],
   "source": [
    "import numpy as np\n",
    "import scipy as sp\n",
    "import pandas as pd\n",
    "from sklearn.preprocessing import StandardScaler\n",
    "%matplotlib inline"
   ]
  },
  {
   "cell_type": "code",
   "execution_count": 2,
   "metadata": {
    "collapsed": true
   },
   "outputs": [],
   "source": [
    "GENE_EXP_DATA = \"../data/raw_data/3_summary_rpkm.xls\""
   ]
  },
  {
   "cell_type": "code",
   "execution_count": 3,
   "metadata": {
    "collapsed": true
   },
   "outputs": [],
   "source": [
    "## Create a pandas dataframe to hold the gene expression data\n",
    "meta4_exp = pd.read_csv(GENE_EXP_DATA, sep='\\t')"
   ]
  },
  {
   "cell_type": "code",
   "execution_count": 4,
   "metadata": {
    "collapsed": true
   },
   "outputs": [],
   "source": [
    "genomes = pd.read_csv('../data/genomes_curated.tsv', sep='\\t')"
   ]
  },
  {
   "cell_type": "code",
   "execution_count": 5,
   "metadata": {
    "collapsed": true
   },
   "outputs": [
    {
     "data": {
      "text/html": [
       "<div>\n",
       "<table border=\"1\" class=\"dataframe\">\n",
       "  <thead>\n",
       "    <tr style=\"text-align: right;\">\n",
       "      <th></th>\n",
       "      <th>genome</th>\n",
       "      <th>locus_tag</th>\n",
       "      <th>product</th>\n",
       "      <th>LakWasMeta1_LOW4_2_rpkm</th>\n",
       "      <th>LakWasMeta2_LOW4_2_rpkm</th>\n",
       "      <th>LakWasMeta3_LOW4_2_rpkm</th>\n",
       "      <th>LakWasMeta4_LOW4_2_rpkm</th>\n",
       "      <th>LakWasMet10_HOW4_2_rpkm</th>\n",
       "      <th>LakWasMeta7_HOW4_2_rpkm</th>\n",
       "      <th>LakWasMeta8_HOW4_2_rpkm</th>\n",
       "      <th>...</th>\n",
       "      <th>LakWasM118_HOW13_2_rpkm</th>\n",
       "      <th>LakWasM121_LOW14_2_rpkm</th>\n",
       "      <th>LakWasM122_LOW14_2_rpkm</th>\n",
       "      <th>LakWasM123_LOW14_2_rpkm</th>\n",
       "      <th>LakWasM124_LOW14_2_rpkm</th>\n",
       "      <th>LakWasM127_HOW14_2_rpkm</th>\n",
       "      <th>LakWasM128_HOW14_2_rpkm</th>\n",
       "      <th>LakWasM129_HOW14_2_rpkm</th>\n",
       "      <th>LakWasM130_HOW14_2_rpkm</th>\n",
       "      <th>type</th>\n",
       "    </tr>\n",
       "  </thead>\n",
       "  <tbody>\n",
       "    <tr>\n",
       "      <th>0</th>\n",
       "      <td>Methylotenera mobilis JLW8</td>\n",
       "      <td>Mmol_0001</td>\n",
       "      <td>chromosomal replication initiator protein DnaA</td>\n",
       "      <td>1</td>\n",
       "      <td>1</td>\n",
       "      <td>4</td>\n",
       "      <td>2</td>\n",
       "      <td>1</td>\n",
       "      <td>2</td>\n",
       "      <td>1</td>\n",
       "      <td>...</td>\n",
       "      <td>1</td>\n",
       "      <td>3</td>\n",
       "      <td>0</td>\n",
       "      <td>0</td>\n",
       "      <td>22</td>\n",
       "      <td>0</td>\n",
       "      <td>3</td>\n",
       "      <td>0</td>\n",
       "      <td>0</td>\n",
       "      <td>nmm</td>\n",
       "    </tr>\n",
       "    <tr>\n",
       "      <th>1</th>\n",
       "      <td>Methylotenera mobilis JLW8</td>\n",
       "      <td>Mmol_0002</td>\n",
       "      <td>DNA polymerase III, beta subunit (EC 2.7.7.7)</td>\n",
       "      <td>5</td>\n",
       "      <td>4</td>\n",
       "      <td>2</td>\n",
       "      <td>4</td>\n",
       "      <td>3</td>\n",
       "      <td>6</td>\n",
       "      <td>0</td>\n",
       "      <td>...</td>\n",
       "      <td>0</td>\n",
       "      <td>6</td>\n",
       "      <td>0</td>\n",
       "      <td>0</td>\n",
       "      <td>26</td>\n",
       "      <td>0</td>\n",
       "      <td>1</td>\n",
       "      <td>0</td>\n",
       "      <td>0</td>\n",
       "      <td>nmm</td>\n",
       "    </tr>\n",
       "    <tr>\n",
       "      <th>2</th>\n",
       "      <td>Methylotenera mobilis JLW8</td>\n",
       "      <td>Mmol_0003</td>\n",
       "      <td>DNA gyrase subunit B (EC 5.99.1.3)</td>\n",
       "      <td>5</td>\n",
       "      <td>7</td>\n",
       "      <td>5</td>\n",
       "      <td>3</td>\n",
       "      <td>5</td>\n",
       "      <td>3</td>\n",
       "      <td>0</td>\n",
       "      <td>...</td>\n",
       "      <td>1</td>\n",
       "      <td>10</td>\n",
       "      <td>0</td>\n",
       "      <td>0</td>\n",
       "      <td>28</td>\n",
       "      <td>0</td>\n",
       "      <td>1</td>\n",
       "      <td>0</td>\n",
       "      <td>0</td>\n",
       "      <td>nmm</td>\n",
       "    </tr>\n",
       "  </tbody>\n",
       "</table>\n",
       "<p>3 rows × 87 columns</p>\n",
       "</div>"
      ],
      "text/plain": [
       "                       genome  locus_tag  \\\n",
       "0  Methylotenera mobilis JLW8  Mmol_0001   \n",
       "1  Methylotenera mobilis JLW8  Mmol_0002   \n",
       "2  Methylotenera mobilis JLW8  Mmol_0003   \n",
       "\n",
       "                                          product  LakWasMeta1_LOW4_2_rpkm  \\\n",
       "0  chromosomal replication initiator protein DnaA                        1   \n",
       "1   DNA polymerase III, beta subunit (EC 2.7.7.7)                        5   \n",
       "2              DNA gyrase subunit B (EC 5.99.1.3)                        5   \n",
       "\n",
       "   LakWasMeta2_LOW4_2_rpkm  LakWasMeta3_LOW4_2_rpkm  LakWasMeta4_LOW4_2_rpkm  \\\n",
       "0                        1                        4                        2   \n",
       "1                        4                        2                        4   \n",
       "2                        7                        5                        3   \n",
       "\n",
       "   LakWasMet10_HOW4_2_rpkm  LakWasMeta7_HOW4_2_rpkm  LakWasMeta8_HOW4_2_rpkm  \\\n",
       "0                        1                        2                        1   \n",
       "1                        3                        6                        0   \n",
       "2                        5                        3                        0   \n",
       "\n",
       "   ...   LakWasM118_HOW13_2_rpkm  LakWasM121_LOW14_2_rpkm  \\\n",
       "0  ...                         1                        3   \n",
       "1  ...                         0                        6   \n",
       "2  ...                         1                       10   \n",
       "\n",
       "   LakWasM122_LOW14_2_rpkm  LakWasM123_LOW14_2_rpkm  LakWasM124_LOW14_2_rpkm  \\\n",
       "0                        0                        0                       22   \n",
       "1                        0                        0                       26   \n",
       "2                        0                        0                       28   \n",
       "\n",
       "   LakWasM127_HOW14_2_rpkm  LakWasM128_HOW14_2_rpkm  LakWasM129_HOW14_2_rpkm  \\\n",
       "0                        0                        3                        0   \n",
       "1                        0                        1                        0   \n",
       "2                        0                        1                        0   \n",
       "\n",
       "   LakWasM130_HOW14_2_rpkm  type  \n",
       "0                        0   nmm  \n",
       "1                        0   nmm  \n",
       "2                        0   nmm  \n",
       "\n",
       "[3 rows x 87 columns]"
      ]
     },
     "execution_count": 5,
     "metadata": {},
     "output_type": "execute_result"
    }
   ],
   "source": [
    "meta4_exp = meta4_exp.merge(genomes)\n",
    "meta4_exp.head(3)"
   ]
  },
  {
   "cell_type": "code",
   "execution_count": 6,
   "metadata": {
    "collapsed": false
   },
   "outputs": [
    {
     "data": {
      "text/plain": [
       "(41749, 87)"
      ]
     },
     "execution_count": 6,
     "metadata": {},
     "output_type": "execute_result"
    }
   ],
   "source": [
    "meta4_methanotrophs = meta4_exp[meta4_exp['type'] == 'm']\n",
    "meta4_methanotrophs.shape"
   ]
  },
  {
   "cell_type": "code",
   "execution_count": 7,
   "metadata": {
    "collapsed": false
   },
   "outputs": [
    {
     "data": {
      "text/plain": [
       "(80830, 87)"
      ]
     },
     "execution_count": 7,
     "metadata": {},
     "output_type": "execute_result"
    }
   ],
   "source": [
    "meta4_methylotrophs = meta4_exp[meta4_exp['type'] == 'nmm']\n",
    "meta4_methylotrophs.shape"
   ]
  },
  {
   "cell_type": "code",
   "execution_count": 8,
   "metadata": {
    "collapsed": false
   },
   "outputs": [
    {
     "data": {
      "text/plain": [
       "(90131, 87)"
      ]
     },
     "execution_count": 8,
     "metadata": {},
     "output_type": "execute_result"
    }
   ],
   "source": [
    "meta4_heterotrophs = meta4_exp[meta4_exp['type'] == 'h']\n",
    "meta4_heterotrophs.shape"
   ]
  },
  {
   "cell_type": "code",
   "execution_count": 9,
   "metadata": {
    "collapsed": true
   },
   "outputs": [],
   "source": [
    "assert meta4_exp.shape[0] == meta4_methanotrophs.shape[0] + meta4_methylotrophs.shape[0] + meta4_heterotrophs.shape[0]"
   ]
  },
  {
   "cell_type": "code",
   "execution_count": 46,
   "metadata": {
    "collapsed": false
   },
   "outputs": [],
   "source": [
    "'''Function to split dataframe into sub-dataframes based on a given\n",
    "column label'''\n",
    "def split_df(df, split_by):\n",
    "    cum_entries = 0\n",
    "    sub_dfs = {}\n",
    "    \n",
    "    for lbl in df[split_by].unique():\n",
    "        sub_dfs[lbl] = df[df[split_by]==lbl]\n",
    "        cum_entries += sub_dfs[lbl].shape[0]\n",
    "    \n",
    "    assert(df.shape[0] == cum_entries)\n",
    "    return sub_dfs"
   ]
  },
  {
   "cell_type": "code",
   "execution_count": 22,
   "metadata": {
    "collapsed": true
   },
   "outputs": [],
   "source": [
    "'''Aggregates values in a dataframe by a given column'''\n",
    "def aggregate_df(df, collapse_by, colnorm=False):\n",
    "    agg_df = df.groupby([collapse_by],axis=0).sum()\n",
    "    if colnorm:\n",
    "        agg_df = agg_df/agg_df.sum(axis=0)\n",
    "    return agg_df"
   ]
  },
  {
   "cell_type": "code",
   "execution_count": 47,
   "metadata": {
    "collapsed": false
   },
   "outputs": [],
   "source": [
    "sub_dfs = split_df(meta4_exp, 'type')"
   ]
  },
  {
   "cell_type": "code",
   "execution_count": 48,
   "metadata": {
    "collapsed": false
   },
   "outputs": [
    {
     "data": {
      "text/plain": [
       "['h', 'nmm', 'm']"
      ]
     },
     "execution_count": 48,
     "metadata": {},
     "output_type": "execute_result"
    }
   ],
   "source": [
    "sub_dfs.keys()"
   ]
  },
  {
   "cell_type": "code",
   "execution_count": 49,
   "metadata": {
    "collapsed": false
   },
   "outputs": [
    {
     "name": "stdout",
     "output_type": "stream",
     "text": [
      "h. # rows: 90131 --> 20\n",
      "\n",
      "nmm. # rows: 80830 --> 25\n",
      "\n",
      "m. # rows: 41749 --> 10\n",
      "\n"
     ]
    }
   ],
   "source": [
    "for name, df in sub_dfs.items():\n",
    "    rows_before = df.shape[0]\n",
    "    sub_dfs[name] = aggregate_df(df,'genome',colnorm=True)\n",
    "    print('{}. # rows: {} --> {}'.format(name, rows_before, sub_dfs[name].shape[0]))\n",
    "    print(\"\")"
   ]
  },
  {
   "cell_type": "code",
   "execution_count": null,
   "metadata": {
    "collapsed": true
   },
   "outputs": [],
   "source": []
  },
  {
   "cell_type": "code",
   "execution_count": null,
   "metadata": {
    "collapsed": true
   },
   "outputs": [],
   "source": []
  },
  {
   "cell_type": "code",
   "execution_count": null,
   "metadata": {
    "collapsed": true
   },
   "outputs": [],
   "source": []
  },
  {
   "cell_type": "code",
   "execution_count": null,
   "metadata": {
    "collapsed": true
   },
   "outputs": [],
   "source": []
  }
 ],
 "metadata": {
  "anaconda-cloud": {},
  "kernelspec": {
   "display_name": "Python [conda root]",
   "language": "python",
   "name": "conda-root-py"
  },
  "language_info": {
   "codemirror_mode": {
    "name": "ipython",
    "version": 2
   },
   "file_extension": ".py",
   "mimetype": "text/x-python",
   "name": "python",
   "nbconvert_exporter": "python",
   "pygments_lexer": "ipython2",
   "version": "2.7.12"
  }
 },
 "nbformat": 4,
 "nbformat_minor": 1
}
